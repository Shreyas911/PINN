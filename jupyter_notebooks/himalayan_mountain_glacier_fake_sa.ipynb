{
 "cells": [
  {
   "cell_type": "code",
   "execution_count": 1,
   "metadata": {},
   "outputs": [],
   "source": [
    "### Import the required libraries\n",
    "import numpy as np\n",
    "import matplotlib.pyplot as plt "
   ]
  },
  {
   "cell_type": "markdown",
   "metadata": {},
   "source": [
    "## Spin-up of a mountain glacier\n",
    "\n",
    "We now generate the true solution for a simple mountain glacier model, taken from *Fundamentals of Glacier Dynamics* by CJ van der Veen and then look to make our neural network model *emulate* this PDE. The system is modeled by a non-linear, highly diffusive PDE.\n",
    "\n",
    "$$\n",
    " \\frac{\\partial H}{\\partial t } = -\\frac{\\partial}{\\partial x}\\left(-D(x)\\frac{\\partial h}{\\partial x}\\right) + M\\\\\n",
    "  D(x) = CH^{n+2}\\left|\\frac{\\partial h}{\\partial x}\\right|^{n-1}\\\\\n",
    "  C = \\frac{2A}{n+2}(\\rho g)^n\\\\\n",
    "    H(x,t) = h(x,t) - b(x) \\\\ \n",
    "    H_l = 0, H_r > 0\n",
    "$$\n",
    "\n",
    "$$\\frac{\\partial{b}}{\\partial{x}} = -0.1\\\\\n",
    "M(x) = M_0 - x M_1 \\:\\text{(accumulation rate, essentially a source term)}\\\\\n",
    "M_0 = 4.0 \\:\\text{m/yr}, \\:M_1 = 0.0002 \\:\\text{yr}^{-1}\\\\\n",
    "\\rho = 920 \\:\\text{kg/m}^3\\\\\n",
    "g = 9.8 \\:\\text{m/s}^2\\\\\n",
    "A = 10^{-16} \\: \\text{Pa}^{-3} \\text{a}^{-1}\\\\\n",
    "n = 3\\\\\n",
    "dx = 0.5 \\:\\text{km}, \\:L = 10 \\:\\text{km}\\\\\n",
    "dt = 1/4 \\:\\text{month}, \\:T = 2000 \\:\\text{yr}$$\n",
    "\n",
    "$$\n",
    "v_{x, \\text{surface}} = \\frac{2A}{n+1} \\tau_d^n H \\left\\{ \\phi + 1 \\right\\}\n",
    "$$\n",
    "\n",
    "The true solution will be generated using a staggered grid finite volume method on a fine, uniform grid.\n",
    "\n"
   ]
  },
  {
   "cell_type": "code",
   "execution_count": 2,
   "metadata": {},
   "outputs": [],
   "source": [
    "A = 1e-16\n",
    "n = 3\n",
    "rho = 920.0\n",
    "g = 9.2 \n",
    "dx = 0.1 #km\n",
    "dt = 2/52 # yr\n",
    "\n",
    "#def accum_rate_func(x):\n",
    "#    M = 0.004-0.0002*x\n",
    "#    return M\n",
    "\n",
    "# mass balance parameters \n",
    "beta = 0.001 # m ice eq /yr \n",
    "head = 4900 # glacier head m asl. \n",
    "ela = 4100 # m \n",
    "\n",
    "def accum_rate_func(s):\n",
    "    s = s * 1000 # km => m\n",
    "    M = beta*(s - ela) # + dM => -0.5 m/yr\n",
    "    M = (s > head)*0 + (s <= head)*M\n",
    "    return M/1000 # m => km\n",
    "\n",
    "def basal_topology_func(x,L):\n",
    "    b = 5.0 - x*np.tan(np.pi*10/180) + 0.2*np.sin(np.pi*(0.5+4*x/L))\n",
    "    return b\n",
    "\n",
    "def spin_up(L, T, accum_rate_func, basal_topology_func):\n",
    "\n",
    "\n",
    "\n",
    "    nx = int(L/dx)\n",
    "    nt = int(T/dt)\n",
    "    x = np.linspace(0,L,nx+1)\n",
    "    t = np.linspace(0,T,nt+1)\n",
    "\n",
    "    b = basal_topology_func(x,L)\n",
    "    M = accum_rate_func(b)\n",
    "    \n",
    "    ### (1.e3)**n factor appears since we convert g from m/s^2 to km/s^2 \n",
    "    C = 2*A/(n+2) * (rho*g)**n * (1.e3)**n\n",
    "\n",
    "    h = np.zeros((nx+1,nt+1))\n",
    "    H = np.zeros((nx+1,nt+1))\n",
    "    h[:,0] = b\n",
    "    h[0,:] = b[0]\n",
    "    h[-1,:] = b[-1]\n",
    "\n",
    "    H[:,0] = h[:,0] - b\n",
    "    H[0,:] = h[0,:] - b[0]\n",
    "    H[-1,:] = h[-1,:] - b[-1]\n",
    "\n",
    "    for i in range(1,len(t)):\n",
    "\n",
    "        D = C *((H[1:,i-1]+H[:nx,i-1])/2.0)**(n+2) * abs((h[1:,i-1] - h[:nx,i-1])/dx)**(n-1)\n",
    "        phi = -D*(h[1:,i-1]-h[:nx,i-1])/dx\n",
    "\n",
    "        h[1:nx,i] = h[1:nx,i-1] + M[1:nx]*dt - dt/dx * (phi[1:]-phi[:nx-1])\n",
    "        \n",
    "        h[1:nx,i] = (h[1:nx,i] < b[1:nx]) * b[1:nx] + (h[1:nx,i] >= b[1:nx]) * h[1:nx,i]\n",
    "        H[:,i] = h[:,i] - b\n",
    "        M = accum_rate_func(h[:,i])\n",
    "                \n",
    "    alpha_sx = np.zeros((nx+1,nt+1))\n",
    "    tau_d = np.zeros((nx+1,nt+1))\n",
    "    alpha_sx[0, :] = (h[1, :] - h[0, :]) / dx\n",
    "    alpha_sx[-1, :] = (h[-1, :] - h[-2, :]) / dx\n",
    "    alpha_sx[1:-1, :] = (h[2:, :] - h[:-2, :]) / (2*dx)\n",
    "    tau_d = - rho * g * H * alpha_sx\n",
    "    phi = 0.0\n",
    "\n",
    "    vx_surface = 2*A/(n+2) * (tau_d)**n * (1.e3)**n * H * (phi + 1)\n",
    "\n",
    "    return x, t, H, h, b, vx_surface, alpha_sx \n"
   ]
  },
  {
   "cell_type": "code",
   "execution_count": 3,
   "metadata": {},
   "outputs": [],
   "source": [
    "L = 12. # km\n",
    "T = 1400 # yr\n",
    "\n",
    "x, t, H_spinup, h_spinup, b_spinup, vx_surface_spinup, alpha_sx_spinup = spin_up(L, T, accum_rate_func, basal_topology_func)\n",
    "vol_spinup = sum(H_spinup*dx) # km^3"
   ]
  },
  {
   "cell_type": "code",
   "execution_count": 4,
   "metadata": {},
   "outputs": [
    {
     "data": {
      "text/plain": [
       "Text(0.5, 1.0, 'Ice volume [km^3]')"
      ]
     },
     "execution_count": 4,
     "metadata": {},
     "output_type": "execute_result"
    },
    {
     "data": {
      "image/png": "[encoded data removed]",
      "text/plain": [
       "<Figure size 432x288 with 4 Axes>"
      ]
     },
     "metadata": {
      "needs_background": "light"
     },
     "output_type": "display_data"
    }
   ],
   "source": [
    "fig, axs = plt.subplots(2, 2)\n",
    "\n",
    "axs[0,0].plot(x,b_spinup, label = \"Basal topography\")\n",
    "axs[0,0].plot(x,h_spinup[:,-1], label = \"Ice Surface\")\n",
    "axs[0,0].set_title(\"Glacier geometry\")\n",
    "\n",
    "axs[0,1].plot(x,1000*H_spinup[:,-1], label = \"Ice thickness\")\n",
    "axs[0,1].set_title(\"Ice thickness [m]\")\n",
    "\n",
    "axs[1,0].plot(x,1000*vx_surface_spinup[:,-1], label = \"Ice thickness\")\n",
    "axs[1,0].set_title(\"Surface velocity [m/yr]\")\n",
    "\n",
    "axs[1,1].plot(t,vol_spinup)\n",
    "axs[1,1].set_title(\"Ice volume [km^3]\")"
   ]
  },
  {
   "cell_type": "markdown",
   "metadata": {},
   "source": [
    "## 50 years of actual simulation after spinup of a mountain glacier\n",
    "\n",
    "Since we need a mountain glacier that has a reduced thickness over time, we change the source term from \n",
    "$$\n",
    "M(x) = M_0 - x M_1 \\:\\text{(accumulation rate, essentially a source term)}\\\\\n",
    "M_0 = 4.0 \\:\\text{m/yr}, \\:M_1 = 0.0002 \\:\\text{yr}^{-1}\\\\\n",
    "$$\n",
    "to \n",
    "$$\n",
    "M(x) = M_0 - x M_1 \\:\\text{(accumulation rate, essentially a source term)}\\\\\n",
    "M_0 = 1.7 \\:\\text{m/yr}, \\:M_1 = 0.0002 \\:\\text{yr}^{-1}\\\\\n",
    "$$\n",
    "\n",
    "This gives a realistic simulation with the thickness reducing by 1 m/yr in some regions."
   ]
  },
  {
   "cell_type": "code",
   "execution_count": null,
   "metadata": {},
   "outputs": [],
   "source": [
    "A = 1e-16\n",
    "n = 3\n",
    "rho = 920.0\n",
    "g = 9.2 \n",
    "dx = 0.5\n",
    "dt = 1./48.\n",
    "\n",
    "def accum_rate_func(x):\n",
    "    M = 0.0017-0.0002*x\n",
    "    return M\n",
    "\n",
    "def simulation(h_init, L, T, accum_rate_func, basal_topology_func):\n",
    "\n",
    "\n",
    "\n",
    "    nx = int(L/dx)\n",
    "    nt = int(T/dt)\n",
    "    x = np.linspace(0,L,nx+1)\n",
    "    t = np.linspace(0,T,nt+1)\n",
    "\n",
    "    M = accum_rate_func(x)\n",
    "    b = basal_topology_func(x,L)\n",
    "\n",
    "    ### (1.e3)**n factor appears since we convert g from m/s^2 to km/s^2 \n",
    "    C = 2*A/(n+2) * (rho*g)**n * (1.e3)**n\n",
    "\n",
    "    print(f\"True value of C = {C}\")\n",
    "\n",
    "    h = np.zeros((nx+1,nt+1))\n",
    "    H = np.zeros((nx+1,nt+1))\n",
    "    h[:,0] = np.copy(h_init)\n",
    "    h[0,:] = b[0]\n",
    "    h[-1,:] = b[-1]\n",
    "    \n",
    "    H[:,0] = h[:,0] - b\n",
    "    H[0,:] = h[0,:] - b[0]\n",
    "    H[-1,:] = h[-1,:] - b[-1]\n",
    "\n",
    "    for i in range(1,len(t)):\n",
    "\n",
    "        D = C *((H[1:,i-1]+H[:nx,i-1])/2.0)**(n+2) * ((h[1:,i-1] - h[:nx,i-1])/dx)**(n-1)\n",
    "\n",
    "        phi = -D*(h[1:,i-1]-h[:nx,i-1])/dx\n",
    "\n",
    "        h[1:nx,i] = h[1:nx,i-1] + M[1:nx]*dt - dt/dx * (phi[1:]-phi[:nx-1])\n",
    "    \n",
    "        h[1:nx,i] = (h[1:nx,i] < b[1:nx]) * b[1:nx] + (h[1:nx,i] >= b[1:nx]) * h[1:nx,i]\n",
    "\n",
    "        H[:,i] = h[:,i] - b\n",
    "        \n",
    "        \n",
    "\n",
    "    alpha_sx = np.zeros((nx+1,nt+1))\n",
    "    tau_d = np.zeros((nx+1,nt+1))\n",
    "    alpha_sx[0, :] = (h[1, :] - h[0, :]) / dx\n",
    "    alpha_sx[-1, :] = (h[-1, :] - h[-2, :]) / dx\n",
    "    alpha_sx[1:-1, :] = (h[2:, :] - h[:-2, :]) / (2*dx)\n",
    "    tau_d = - rho * g * H * alpha_sx\n",
    "    phi = 0.0\n",
    "\n",
    "    vx_surface = 2*A/(n+2) * (tau_d)**n * (1.e3)**n * H * (phi + 1)\n",
    "\n",
    "    return x, t, H, h, b, vx_surface, alpha_sx, C, n"
   ]
  },
  {
   "cell_type": "code",
   "execution_count": null,
   "metadata": {},
   "outputs": [],
   "source": [
    "L = 10.\n",
    "T = 50.\n",
    "h_init = h_spinup[:,-1]\n",
    "x, t, H_true, h_true, b_true, vx_surface_true, alpha_sx_true, C_true, n_true = simulation(h_init, L, T, accum_rate_func, basal_topology_func)"
   ]
  },
  {
   "cell_type": "code",
   "execution_count": null,
   "metadata": {
    "scrolled": true
   },
   "outputs": [],
   "source": [
    "plt.plot(b_true, label = \"Basal topography\")\n",
    "plt.plot(H_true[:,-1], label = \"Ice thickness\")\n",
    "plt.plot(h_true[:,-1], label = \"Ice Surface\")\n",
    "plt.plot(h_spinup[:,-1], label = \"Ice surface after spinup\")\n",
    "plt.title(\"Actual solution, 50 years after spinup\")\n",
    "plt.xlabel(\"x-extent in km\")\n",
    "plt.ylabel(\"Height in km\")\n",
    "plt.legend()\n",
    "plt.legend()"
   ]
  },
  {
   "cell_type": "markdown",
   "metadata": {},
   "source": [
    "Ice thickness (as can be seen below), changes by about 1 metre/yr in some regions for these 50 years."
   ]
  },
  {
   "cell_type": "code",
   "execution_count": null,
   "metadata": {},
   "outputs": [],
   "source": [
    "plt.plot((-h_true[:,-1]+h_spinup[:,-1])*1000/T, label = 'Thickness reduction in m/yr')\n",
    "plt.xlabel(\"x-extent in km\")\n",
    "plt.ylabel(\"Height in km\")\n",
    "plt.legend()"
   ]
  },
  {
   "cell_type": "code",
   "execution_count": null,
   "metadata": {},
   "outputs": [],
   "source": []
  }
 ],
 "metadata": {
  "kernelspec": {
   "display_name": "Python 3",
   "language": "python",
   "name": "python3"
  },
  "language_info": {
   "codemirror_mode": {
    "name": "ipython",
    "version": 3
   },
   "file_extension": ".py",
   "mimetype": "text/x-python",
   "name": "python",
   "nbconvert_exporter": "python",
   "pygments_lexer": "ipython3",
   "version": "3.8.3"
  }
 },
 "nbformat": 4,
 "nbformat_minor": 4
}
