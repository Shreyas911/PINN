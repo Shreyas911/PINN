{
  "nbformat": 4,
  "nbformat_minor": 0,
  "metadata": {
    "colab": {
      "name": "PINN_himalayan_mountain_glacier_fake_data",
      "provenance": [],
      "collapsed_sections": [],
      "authorship_tag": "ABX9TyPHNGv60Ac/LKxAQkpE5Zmp",
      "include_colab_link": true
    },
    "kernelspec": {
      "name": "python3",
      "display_name": "Python 3"
    },
    "language_info": {
      "name": "python"
    },
    "accelerator": "TPU"
  },
  "cells": [
    {
      "cell_type": "markdown",
      "metadata": {
        "id": "view-in-github",
        "colab_type": "text"
      },
      "source": [
        "<a href=\"https://colab.research.google.com/github/Shreyas911/PINN/blob/main/PINN_himalayan_mountain_glacier_fake_data.ipynb\" target=\"_parent\"><img src=\"https://colab.research.google.com/assets/colab-badge.svg\" alt=\"Open In Colab\"/></a>"
      ]
    },
    {
      "cell_type": "code",
      "execution_count": 1,
      "metadata": {
        "colab": {
          "base_uri": "https://localhost:8080/"
        },
        "id": "Aanahw4ZYI8l",
        "outputId": "a3089139-47a8-4182-8d9f-c5ba4be7fd92"
      },
      "outputs": [
        {
          "output_type": "stream",
          "name": "stdout",
          "text": [
            "Collecting torch-xla==1.9\n",
            "  Downloading https://storage.googleapis.com/tpu-pytorch/wheels/torch_xla-1.9-cp37-cp37m-linux_x86_64.whl (149.9 MB)\n",
            "\u001b[K     |████████████████████████████████| 149.9 MB 25 kB/s \n",
            "\u001b[?25hCollecting cloud-tpu-client==0.10\n",
            "  Downloading cloud_tpu_client-0.10-py3-none-any.whl (7.4 kB)\n",
            "Requirement already satisfied: oauth2client in /usr/local/lib/python3.7/dist-packages (from cloud-tpu-client==0.10) (4.1.3)\n",
            "Collecting google-api-python-client==1.8.0\n",
            "  Downloading google_api_python_client-1.8.0-py3-none-any.whl (57 kB)\n",
            "\u001b[K     |████████████████████████████████| 57 kB 3.9 MB/s \n",
            "\u001b[?25hRequirement already satisfied: google-auth-httplib2>=0.0.3 in /usr/local/lib/python3.7/dist-packages (from google-api-python-client==1.8.0->cloud-tpu-client==0.10) (0.0.4)\n",
            "Requirement already satisfied: uritemplate<4dev,>=3.0.0 in /usr/local/lib/python3.7/dist-packages (from google-api-python-client==1.8.0->cloud-tpu-client==0.10) (3.0.1)\n",
            "Requirement already satisfied: httplib2<1dev,>=0.9.2 in /usr/local/lib/python3.7/dist-packages (from google-api-python-client==1.8.0->cloud-tpu-client==0.10) (0.17.4)\n",
            "Requirement already satisfied: google-auth>=1.4.1 in /usr/local/lib/python3.7/dist-packages (from google-api-python-client==1.8.0->cloud-tpu-client==0.10) (1.35.0)\n",
            "Requirement already satisfied: google-api-core<2dev,>=1.13.0 in /usr/local/lib/python3.7/dist-packages (from google-api-python-client==1.8.0->cloud-tpu-client==0.10) (1.26.3)\n",
            "Requirement already satisfied: six<2dev,>=1.6.1 in /usr/local/lib/python3.7/dist-packages (from google-api-python-client==1.8.0->cloud-tpu-client==0.10) (1.15.0)\n",
            "Requirement already satisfied: pytz in /usr/local/lib/python3.7/dist-packages (from google-api-core<2dev,>=1.13.0->google-api-python-client==1.8.0->cloud-tpu-client==0.10) (2018.9)\n",
            "Requirement already satisfied: protobuf>=3.12.0 in /usr/local/lib/python3.7/dist-packages (from google-api-core<2dev,>=1.13.0->google-api-python-client==1.8.0->cloud-tpu-client==0.10) (3.17.3)\n",
            "Requirement already satisfied: requests<3.0.0dev,>=2.18.0 in /usr/local/lib/python3.7/dist-packages (from google-api-core<2dev,>=1.13.0->google-api-python-client==1.8.0->cloud-tpu-client==0.10) (2.23.0)\n",
            "Requirement already satisfied: setuptools>=40.3.0 in /usr/local/lib/python3.7/dist-packages (from google-api-core<2dev,>=1.13.0->google-api-python-client==1.8.0->cloud-tpu-client==0.10) (57.4.0)\n",
            "Requirement already satisfied: packaging>=14.3 in /usr/local/lib/python3.7/dist-packages (from google-api-core<2dev,>=1.13.0->google-api-python-client==1.8.0->cloud-tpu-client==0.10) (21.3)\n",
            "Requirement already satisfied: googleapis-common-protos<2.0dev,>=1.6.0 in /usr/local/lib/python3.7/dist-packages (from google-api-core<2dev,>=1.13.0->google-api-python-client==1.8.0->cloud-tpu-client==0.10) (1.54.0)\n",
            "Requirement already satisfied: pyasn1-modules>=0.2.1 in /usr/local/lib/python3.7/dist-packages (from google-auth>=1.4.1->google-api-python-client==1.8.0->cloud-tpu-client==0.10) (0.2.8)\n",
            "Requirement already satisfied: rsa<5,>=3.1.4 in /usr/local/lib/python3.7/dist-packages (from google-auth>=1.4.1->google-api-python-client==1.8.0->cloud-tpu-client==0.10) (4.8)\n",
            "Requirement already satisfied: cachetools<5.0,>=2.0.0 in /usr/local/lib/python3.7/dist-packages (from google-auth>=1.4.1->google-api-python-client==1.8.0->cloud-tpu-client==0.10) (4.2.4)\n",
            "Requirement already satisfied: pyparsing!=3.0.5,>=2.0.2 in /usr/local/lib/python3.7/dist-packages (from packaging>=14.3->google-api-core<2dev,>=1.13.0->google-api-python-client==1.8.0->cloud-tpu-client==0.10) (3.0.7)\n",
            "Requirement already satisfied: pyasn1<0.5.0,>=0.4.6 in /usr/local/lib/python3.7/dist-packages (from pyasn1-modules>=0.2.1->google-auth>=1.4.1->google-api-python-client==1.8.0->cloud-tpu-client==0.10) (0.4.8)\n",
            "Requirement already satisfied: chardet<4,>=3.0.2 in /usr/local/lib/python3.7/dist-packages (from requests<3.0.0dev,>=2.18.0->google-api-core<2dev,>=1.13.0->google-api-python-client==1.8.0->cloud-tpu-client==0.10) (3.0.4)\n",
            "Requirement already satisfied: urllib3!=1.25.0,!=1.25.1,<1.26,>=1.21.1 in /usr/local/lib/python3.7/dist-packages (from requests<3.0.0dev,>=2.18.0->google-api-core<2dev,>=1.13.0->google-api-python-client==1.8.0->cloud-tpu-client==0.10) (1.24.3)\n",
            "Requirement already satisfied: idna<3,>=2.5 in /usr/local/lib/python3.7/dist-packages (from requests<3.0.0dev,>=2.18.0->google-api-core<2dev,>=1.13.0->google-api-python-client==1.8.0->cloud-tpu-client==0.10) (2.10)\n",
            "Requirement already satisfied: certifi>=2017.4.17 in /usr/local/lib/python3.7/dist-packages (from requests<3.0.0dev,>=2.18.0->google-api-core<2dev,>=1.13.0->google-api-python-client==1.8.0->cloud-tpu-client==0.10) (2021.10.8)\n",
            "Installing collected packages: google-api-python-client, torch-xla, cloud-tpu-client\n",
            "  Attempting uninstall: google-api-python-client\n",
            "    Found existing installation: google-api-python-client 1.12.10\n",
            "    Uninstalling google-api-python-client-1.12.10:\n",
            "      Successfully uninstalled google-api-python-client-1.12.10\n",
            "\u001b[31mERROR: pip's dependency resolver does not currently take into account all the packages that are installed. This behaviour is the source of the following dependency conflicts.\n",
            "earthengine-api 0.1.296 requires google-api-python-client<2,>=1.12.1, but you have google-api-python-client 1.8.0 which is incompatible.\u001b[0m\n",
            "Successfully installed cloud-tpu-client-0.10 google-api-python-client-1.8.0 torch-xla-1.9\n",
            "Looking in links: https://download.pytorch.org/whl/cu111/torch_stable.html\n",
            "Collecting torch==1.9.0+cu111\n",
            "  Downloading https://download.pytorch.org/whl/cu111/torch-1.9.0%2Bcu111-cp37-cp37m-linux_x86_64.whl (2041.3 MB)\n",
            "\u001b[K     |█████████████                   | 834.1 MB 1.5 MB/s eta 0:13:31tcmalloc: large alloc 1147494400 bytes == 0x55b6224d8000 @  0x7f2bbca12615 0x55b6203c53bc 0x55b6204a618a 0x55b6203c81cd 0x55b6204bab3d 0x55b62043c458 0x55b62043702f 0x55b6203c9aba 0x55b62043c2c0 0x55b62043702f 0x55b6203c9aba 0x55b620438cd4 0x55b6204bb986 0x55b620438350 0x55b6204bb986 0x55b620438350 0x55b6204bb986 0x55b620438350 0x55b6203c9f19 0x55b62040da79 0x55b6203c8b32 0x55b62043c1dd 0x55b62043702f 0x55b6203c9aba 0x55b620438cd4 0x55b62043702f 0x55b6203c9aba 0x55b620437eae 0x55b6203c99da 0x55b620438108 0x55b62043702f\n",
            "\u001b[K     |████████████████▌               | 1055.7 MB 1.4 MB/s eta 0:12:06tcmalloc: large alloc 1434370048 bytes == 0x55b666b2e000 @  0x7f2bbca12615 0x55b6203c53bc 0x55b6204a618a 0x55b6203c81cd 0x55b6204bab3d 0x55b62043c458 0x55b62043702f 0x55b6203c9aba 0x55b62043c2c0 0x55b62043702f 0x55b6203c9aba 0x55b620438cd4 0x55b6204bb986 0x55b620438350 0x55b6204bb986 0x55b620438350 0x55b6204bb986 0x55b620438350 0x55b6203c9f19 0x55b62040da79 0x55b6203c8b32 0x55b62043c1dd 0x55b62043702f 0x55b6203c9aba 0x55b620438cd4 0x55b62043702f 0x55b6203c9aba 0x55b620437eae 0x55b6203c99da 0x55b620438108 0x55b62043702f\n",
            "\u001b[K     |█████████████████████           | 1336.2 MB 1.5 MB/s eta 0:07:43tcmalloc: large alloc 1792966656 bytes == 0x55b6bc31a000 @  0x7f2bbca12615 0x55b6203c53bc 0x55b6204a618a 0x55b6203c81cd 0x55b6204bab3d 0x55b62043c458 0x55b62043702f 0x55b6203c9aba 0x55b62043c2c0 0x55b62043702f 0x55b6203c9aba 0x55b620438cd4 0x55b6204bb986 0x55b620438350 0x55b6204bb986 0x55b620438350 0x55b6204bb986 0x55b620438350 0x55b6203c9f19 0x55b62040da79 0x55b6203c8b32 0x55b62043c1dd 0x55b62043702f 0x55b6203c9aba 0x55b620438cd4 0x55b62043702f 0x55b6203c9aba 0x55b620437eae 0x55b6203c99da 0x55b620438108 0x55b62043702f\n",
            "\u001b[K     |██████████████████████████▌     | 1691.1 MB 1.3 MB/s eta 0:04:23tcmalloc: large alloc 2241208320 bytes == 0x55b6224d8000 @  0x7f2bbca12615 0x55b6203c53bc 0x55b6204a618a 0x55b6203c81cd 0x55b6204bab3d 0x55b62043c458 0x55b62043702f 0x55b6203c9aba 0x55b62043c2c0 0x55b62043702f 0x55b6203c9aba 0x55b620438cd4 0x55b6204bb986 0x55b620438350 0x55b6204bb986 0x55b620438350 0x55b6204bb986 0x55b620438350 0x55b6203c9f19 0x55b62040da79 0x55b6203c8b32 0x55b62043c1dd 0x55b62043702f 0x55b6203c9aba 0x55b620438cd4 0x55b62043702f 0x55b6203c9aba 0x55b620437eae 0x55b6203c99da 0x55b620438108 0x55b62043702f\n",
            "\u001b[K     |████████████████████████████████| 2041.3 MB 1.2 MB/s eta 0:00:01tcmalloc: large alloc 2041348096 bytes == 0x55b6a7e3a000 @  0x7f2bbca111e7 0x55b6203fb5d7 0x55b6203c53bc 0x55b6204a618a 0x55b6203c81cd 0x55b6204bab3d 0x55b62043c458 0x55b62043702f 0x55b6203c9aba 0x55b620438108 0x55b62043702f 0x55b6203c9aba 0x55b620438108 0x55b62043702f 0x55b6203c9aba 0x55b620438108 0x55b62043702f 0x55b6203c9aba 0x55b620438108 0x55b62043702f 0x55b6203c9aba 0x55b620438108 0x55b6203c99da 0x55b620438108 0x55b62043702f 0x55b6203c9aba 0x55b620438cd4 0x55b62043702f 0x55b6203c9aba 0x55b620438cd4 0x55b62043702f\n",
            "tcmalloc: large alloc 2551685120 bytes == 0x55b721902000 @  0x7f2bbca12615 0x55b6203c53bc 0x55b6204a618a 0x55b6203c81cd 0x55b6204bab3d 0x55b62043c458 0x55b62043702f 0x55b6203c9aba 0x55b620438108 0x55b62043702f 0x55b6203c9aba 0x55b620438108 0x55b62043702f 0x55b6203c9aba 0x55b620438108 0x55b62043702f 0x55b6203c9aba 0x55b620438108 0x55b62043702f 0x55b6203c9aba 0x55b620438108 0x55b6203c99da 0x55b620438108 0x55b62043702f 0x55b6203c9aba 0x55b620438cd4 0x55b62043702f 0x55b6203c9aba 0x55b620438cd4 0x55b62043702f 0x55b6203ca151\n",
            "\u001b[K     |████████████████████████████████| 2041.3 MB 6.4 kB/s \n",
            "\u001b[?25hCollecting torchvision==0.10.0+cu111\n",
            "  Downloading https://download.pytorch.org/whl/cu111/torchvision-0.10.0%2Bcu111-cp37-cp37m-linux_x86_64.whl (23.2 MB)\n",
            "\u001b[K     |████████████████████████████████| 23.2 MB 1.3 MB/s \n",
            "\u001b[?25hCollecting torchtext==0.10.0\n",
            "  Downloading torchtext-0.10.0-cp37-cp37m-manylinux1_x86_64.whl (7.6 MB)\n",
            "\u001b[K     |████████████████████████████████| 7.6 MB 5.4 MB/s \n",
            "\u001b[?25hRequirement already satisfied: typing-extensions in /usr/local/lib/python3.7/dist-packages (from torch==1.9.0+cu111) (3.10.0.2)\n",
            "Requirement already satisfied: pillow>=5.3.0 in /usr/local/lib/python3.7/dist-packages (from torchvision==0.10.0+cu111) (7.1.2)\n",
            "Requirement already satisfied: numpy in /usr/local/lib/python3.7/dist-packages (from torchvision==0.10.0+cu111) (1.19.5)\n",
            "Requirement already satisfied: tqdm in /usr/local/lib/python3.7/dist-packages (from torchtext==0.10.0) (4.62.3)\n",
            "Requirement already satisfied: requests in /usr/local/lib/python3.7/dist-packages (from torchtext==0.10.0) (2.23.0)\n",
            "Requirement already satisfied: chardet<4,>=3.0.2 in /usr/local/lib/python3.7/dist-packages (from requests->torchtext==0.10.0) (3.0.4)\n",
            "Requirement already satisfied: idna<3,>=2.5 in /usr/local/lib/python3.7/dist-packages (from requests->torchtext==0.10.0) (2.10)\n",
            "Requirement already satisfied: urllib3!=1.25.0,!=1.25.1,<1.26,>=1.21.1 in /usr/local/lib/python3.7/dist-packages (from requests->torchtext==0.10.0) (1.24.3)\n",
            "Requirement already satisfied: certifi>=2017.4.17 in /usr/local/lib/python3.7/dist-packages (from requests->torchtext==0.10.0) (2021.10.8)\n",
            "Installing collected packages: torch, torchvision, torchtext\n",
            "  Attempting uninstall: torch\n",
            "    Found existing installation: torch 1.10.0+cu111\n",
            "    Uninstalling torch-1.10.0+cu111:\n",
            "      Successfully uninstalled torch-1.10.0+cu111\n",
            "  Attempting uninstall: torchvision\n",
            "    Found existing installation: torchvision 0.11.1+cu111\n",
            "    Uninstalling torchvision-0.11.1+cu111:\n",
            "      Successfully uninstalled torchvision-0.11.1+cu111\n",
            "  Attempting uninstall: torchtext\n",
            "    Found existing installation: torchtext 0.11.0\n",
            "    Uninstalling torchtext-0.11.0:\n",
            "      Successfully uninstalled torchtext-0.11.0\n",
            "\u001b[31mERROR: pip's dependency resolver does not currently take into account all the packages that are installed. This behaviour is the source of the following dependency conflicts.\n",
            "torchaudio 0.10.0+cu111 requires torch==1.10.0, but you have torch 1.9.0+cu111 which is incompatible.\u001b[0m\n",
            "Successfully installed torch-1.9.0+cu111 torchtext-0.10.0 torchvision-0.10.0+cu111\n"
          ]
        },
        {
          "output_type": "stream",
          "name": "stderr",
          "text": [
            "WARNING:root:Waiting for TPU to be start up with version pytorch-1.9...\n",
            "WARNING:root:Waiting for TPU to be start up with version pytorch-1.9...\n",
            "WARNING:root:TPU has started up successfully with version pytorch-1.9\n"
          ]
        }
      ],
      "source": [
        "#!pip install cloud-tpu-client==0.10 https://storage.googleapis.com/tpu-pytorch/wheels/torch_xla-1.9-cp37-cp37m-linux_x86_64.whl\n",
        "!pip install cloud-tpu-client==0.10 https://storage.googleapis.com/tpu-pytorch/wheels/torch_xla-1.9-cp37-cp37m-linux_x86_64.whl\n",
        "!pip install torch==1.9.0+cu111 torchvision==0.10.0+cu111 torchtext==0.10.0 -f https://download.pytorch.org/whl/cu111/torch_stable.html\n",
        "\n",
        "### Import the required libraries\n",
        "import numpy as np\n",
        "import matplotlib.pyplot as plt \n",
        "from mpl_toolkits.axes_grid1 import make_axes_locatable\n",
        "import torch\n",
        "import torch.nn as nn\n",
        "import torch.nn.functional as F\n",
        "import torch_xla ## Specially for TPUs\n",
        "import torch_xla.core.xla_model as xm ## Specially for TPUs"
      ]
    },
    {
      "cell_type": "markdown",
      "source": [
        "## Specify the device\n",
        "\n",
        "We now specify the device type. There are two options to leverge the power of parallel computing. We can either use GPUs or TPUs. In this case, we use TPUs. "
      ],
      "metadata": {
        "id": "GU0EYLjwYulD"
      }
    },
    {
      "cell_type": "code",
      "source": [
        "### GPU ###\n",
        "# device = torch.device('cuda' if torch.cuda.is_available() else 'cpu')\n",
        "# torch.cuda.empty_cache()\n",
        "###########\n",
        "\n",
        "### TPU ###\n",
        "device = xm.xla_device()\n",
        "###########\n",
        "\n",
        "device"
      ],
      "metadata": {
        "colab": {
          "base_uri": "https://localhost:8080/"
        },
        "id": "iqyUUcPIYYPy",
        "outputId": "5cc65d9e-7c7e-4ea1-a008-04d69c7a7fd7"
      },
      "execution_count": 2,
      "outputs": [
        {
          "output_type": "execute_result",
          "data": {
            "text/plain": [
              "device(type='xla', index=1)"
            ]
          },
          "metadata": {},
          "execution_count": 2
        }
      ]
    },
    {
      "cell_type": "code",
      "source": [
        "class physics_informed_NN(nn.Module):\n",
        "    \n",
        "    def __init__ (self):\n",
        "\n",
        "        super(physics_informed_NN, self).__init__()\n",
        "\n",
        "        self.fc1 = nn.Linear(2, 200)\n",
        "        self.fc2 = nn.Linear(200, 200)\n",
        "        self.fc3 = nn.Linear(200, 200)\n",
        "        self.fc4 = nn.Linear(200, 200)\n",
        "        self.fc5 = nn.Linear(200, 200)\n",
        "        self.fc6 = nn.Linear(200, 200)\n",
        "        self.fc7 = nn.Linear(200, 200)\n",
        "        self.fc8 = nn.Linear(200, 1)\n",
        "\n",
        "    def forward(self, x):\n",
        "        x = torch.tanh(self.fc1(x))\n",
        "        x = torch.tanh(self.fc2(x))\n",
        "        x = torch.tanh(self.fc3(x))\n",
        "        x = torch.tanh(self.fc4(x))\n",
        "        # x = torch.tanh(self.fc5(x))\n",
        "        # x = torch.tanh(self.fc6(x))\n",
        "        # x = torch.tanh(self.fc7(x))\n",
        "        x = self.fc8(x)\n",
        "        return x\n",
        "\n",
        "physics_informed_NN"
      ],
      "metadata": {
        "colab": {
          "base_uri": "https://localhost:8080/"
        },
        "id": "HEzG0rSjY-IT",
        "outputId": "3d9462af-57ff-4eaa-d43b-d5217ec47bf7"
      },
      "execution_count": 3,
      "outputs": [
        {
          "output_type": "execute_result",
          "data": {
            "text/plain": [
              "__main__.physics_informed_NN"
            ]
          },
          "metadata": {},
          "execution_count": 3
        }
      ]
    },
    {
      "cell_type": "markdown",
      "source": [
        "##True solution "
      ],
      "metadata": {
        "id": "z_QwZ-tBbQaq"
      }
    },
    {
      "cell_type": "markdown",
      "source": [
        "We now generate the true solution for a simple mountain glacier model, taken from *Fundamentals of Glacier Dynamics* by CJ van der Veen and then look to make our neural network model *emulate* this PDE. The system is modeled by a non-linear, highly diffusive PDE. Although, ice sheet models tend to be non-local, but as a starting point we assume a local model. \n",
        "\n",
        "$$\n",
        " \\frac{\\partial H}{\\partial t } = -\\frac{\\partial}{\\partial x}\\left(-D(x)\\frac{\\partial h}{\\partial x}\\right) + M\\\\\n",
        "  D(x) = CH^{n+2}\\left|\\frac{\\partial h}{\\partial x}\\right|^{n-1}\\\\\n",
        "  C = \\frac{2A}{n+2}(\\rho g)^n\\\\\n",
        "    H(x,t) = h(x,t) - b(x) \\\\ \n",
        "    H_l = 0, H_r > 0\n",
        "$$\n",
        "\n",
        "$$\\frac{\\partial{b}}{\\partial{x}} = -0.1\\\\\n",
        "M(x) = M_0 - x M_1 \\:\\text{(accumulation rate, essentially a source term)}\\\\\n",
        "M_0 = 4.0 \\:\\text{m/yr}, \\:M_1 = 0.0002 \\:\\text{yr}^{-1}\\\\\n",
        "\\rho = 920 \\:\\text{kg/m}^3\\\\\n",
        "g = 9.8 \\:\\text{m/s}^2\\\\\n",
        "A = 10^{-16} \\: \\text{Pa}^{-3} \\text{a}^{-1}\\\\\n",
        "n = 3\\\\\n",
        "dx = 1.0 \\:\\text{km}, \\:L = 30 \\:\\text{km}\\\\\n",
        "dt = 1 \\:\\text{month}, \\:T = 2000 \\:\\text{yr}$$\n",
        "\n",
        "$$\n",
        "v_{x, \\text{surface}} = \\frac{2A}{n+1} \\tau_d^n H \\left\\{ \\phi + 1 \\right\\}\n",
        "$$\n",
        "\n",
        "The true solution will be generated using a staggered grid finite volume method on a fine, uniform grid.\n",
        "\n"
      ],
      "metadata": {
        "id": "aAsDNeVubVQ3"
      }
    },
    {
      "cell_type": "code",
      "source": [
        "A = 1e-16\n",
        "n = 3\n",
        "rho = 920.0\n",
        "g = 9.2 \n",
        "dx = 1.0\n",
        "dt = 1./12.\n",
        "\n",
        "def accum_rate_func(x):\n",
        "    M = 0.004-0.0002*x\n",
        "    return M\n",
        "\n",
        "def basal_topology_func(x):\n",
        "    #   b = 1.0 - 0.01*x \n",
        "    b = 0.03*np.sin(10*x)\n",
        "    return b\n",
        "\n",
        "def true_solution(L, T, accum_rate_func, basal_topology_func):\n",
        "\n",
        "\n",
        "\n",
        "    nx = int(L/dx)\n",
        "    nt = int(T/dt)\n",
        "    x = np.linspace(0,L,nx+1)\n",
        "    t = np.linspace(0,T,nt+1)\n",
        "\n",
        "    M = accum_rate_func(x)\n",
        "    b = basal_topology_func(x)\n",
        "\n",
        "    ### (1.e3)**n factor appears since we convert g from m/s^2 to km/s^2 \n",
        "    C = 2*A/(n+2) * (rho*g)**n * (1.e3)**n\n",
        "\n",
        "    print(f\"True value of C = {C}\")\n",
        "\n",
        "    h = np.zeros((nx+1,nt+1))\n",
        "    H = np.zeros((nx+1,nt+1))\n",
        "    h[:,0] = b\n",
        "    h[0,:] = b[0]\n",
        "    h[-1,:] = b[-1]\n",
        "\n",
        "    H[:,0] = h[:,0] - b\n",
        "    H[0,:] = h[0,:] - b[0]\n",
        "    H[-1,:] = h[-1,:] - b[-1]\n",
        "\n",
        "    for i in range(1,len(t)):\n",
        "\n",
        "        D = C *((H[1:,i-1]+H[:nx,i-1])/2.0)**(n+2) * ((h[1:,i-1] - h[:nx,i-1])/dx)**(n-1)\n",
        "\n",
        "        phi = -D*(h[1:,i-1]-h[:nx,i-1])/dx\n",
        "\n",
        "        h[1:nx,i] = h[1:nx,i-1] + M[1:nx]*dt - dt/dx * (phi[1:]-phi[:nx-1])\n",
        "        h[1:nx,i] = (h[1:nx,i] < b[1:nx]) * b[1:nx] + (h[1:nx,i] >= b[1:nx]) * h[1:nx,i]\n",
        "        H[:,i] = h[:,i] - b\n",
        "\n",
        "    alpha_sx = np.zeros((nx+1,nt+1))\n",
        "    tau_d = np.zeros((nx+1,nt+1))\n",
        "    alpha_sx[0, :] = (h[1, :] - h[0, :]) / dx\n",
        "    alpha_sx[-1, :] = (h[-1, :] - h[-2, :]) / dx\n",
        "    alpha_sx[1:-1, :] = (h[2:, :] - h[:-2, :]) / (2*dx)\n",
        "    tau_d = - rho * g * H * alpha_sx\n",
        "    phi = 0.0\n",
        "\n",
        "    vx_surface= 2*A/(n+2) * (tau_d)**n * (1.e3)**n * H * (phi + 1)\n",
        "\n",
        "    return x, t, H, h, b, vx_surface, alpha_sx, C, n"
      ],
      "metadata": {
        "id": "9KOQyM-DbA7E"
      },
      "execution_count": 4,
      "outputs": []
    },
    {
      "cell_type": "code",
      "source": [
        "L = 30.\n",
        "T = 400.\n",
        "\n",
        "x, t, H_true, h_true, b_true, vx_surface_true, alpha_sx_true, C_true, n_true = true_solution(L, T, accum_rate_func, basal_topology_func)"
      ],
      "metadata": {
        "colab": {
          "base_uri": "https://localhost:8080/"
        },
        "id": "GOmakxxibdlQ",
        "outputId": "28650064-6ae0-45d7-c4c3-250496ccb1c2"
      },
      "execution_count": 5,
      "outputs": [
        {
          "output_type": "stream",
          "name": "stdout",
          "text": [
            "True value of C = 24254.200053759996\n"
          ]
        }
      ]
    },
    {
      "cell_type": "code",
      "source": [
        "plt.plot(vx_surface_true[:,-1])\n",
        "plt.plot(alpha_sx_true[:,-1])"
      ],
      "metadata": {
        "colab": {
          "base_uri": "https://localhost:8080/",
          "height": 282
        },
        "id": "ebEJygUtm7CZ",
        "outputId": "4b735286-7739-45bb-8ef5-f67a52f30922"
      },
      "execution_count": 6,
      "outputs": [
        {
          "output_type": "execute_result",
          "data": {
            "text/plain": [
              "[<matplotlib.lines.Line2D at 0x7f0c4733bf90>]"
            ]
          },
          "metadata": {},
          "execution_count": 6
        },
        {
          "output_type": "display_data",
          "data": {
            "image/png": "[encoded data removed]",
            "text/plain": [
              "<Figure size 432x288 with 1 Axes>"
            ]
          },
          "metadata": {
            "needs_background": "light"
          }
        }
      ]
    },
    {
      "cell_type": "code",
      "source": [
        "plt.plot(H_true[:,-1])\n",
        "plt.plot(h_true[:,-1])\n",
        "plt.plot(b_true)"
      ],
      "metadata": {
        "colab": {
          "base_uri": "https://localhost:8080/",
          "height": 282
        },
        "id": "TROD9mIzqBr_",
        "outputId": "53b2c7d8-aa45-43f3-e57a-f00207e9bb6f"
      },
      "execution_count": 7,
      "outputs": [
        {
          "output_type": "execute_result",
          "data": {
            "text/plain": [
              "[<matplotlib.lines.Line2D at 0x7f0c46ea9a90>]"
            ]
          },
          "metadata": {},
          "execution_count": 7
        },
        {
          "output_type": "display_data",
          "data": {
            "image/png": "[encoded data removed]",
            "text/plain": [
              "<Figure size 432x288 with 1 Axes>"
            ]
          },
          "metadata": {
            "needs_background": "light"
          }
        }
      ]
    },
    {
      "cell_type": "code",
      "source": [
        "alpha_sx_true[:,-1]"
      ],
      "metadata": {
        "colab": {
          "base_uri": "https://localhost:8080/"
        },
        "id": "TYm09WXtnIe6",
        "outputId": "6d82b9bd-293f-4457-8279-411113efe512"
      },
      "execution_count": 8,
      "outputs": [
        {
          "output_type": "execute_result",
          "data": {
            "text/plain": [
              "array([ 0.26721248,  0.17032359,  0.06135053,  0.04359092,  0.0349697 ,\n",
              "        0.02848931,  0.02334943,  0.01934371,  0.01480736,  0.00495692,\n",
              "       -0.00723909, -0.01378927, -0.01687869, -0.01939216, -0.02239699,\n",
              "       -0.02484852, -0.0284619 , -0.03222996, -0.03695989, -0.04472289,\n",
              "       -0.05376432, -0.12732021, -0.11162336,  0.00978025, -0.00531696,\n",
              "       -0.00393308,  0.01191723, -0.01606574,  0.01504337, -0.0091792 ,\n",
              "       -0.05479804])"
            ]
          },
          "metadata": {},
          "execution_count": 8
        }
      ]
    },
    {
      "cell_type": "markdown",
      "source": [
        "## Inferring basal topography from surface velocity data and surface topography data\n",
        "\n",
        "Since we are training our network to find the diffusion coefficient, we want to enforce the physics, as well look to fit the data. We define the Loss function as follows (superscripts indicate the data) - \n",
        "\n",
        "\n",
        "$$\\text{PDE operator} \\quad \\mathcal{F}(x, t) = H_t (x,t) - 3 (C H^5 h_x^3)_x  - M(x) $$\n",
        "$$\\text{Loss function} \\quad \\mathcal{L} = \\frac{1}{N_i}\\sum_{i=1}^{N_i} \\left(h^i - h(x^i,0)\\right)^2 + \\frac{1}{N_b}\\sum_{i=1}^{N_b} \\left(h^i - h(x^i, t^i)\\right)^2 + \\frac{1}{N_c}\\sum_{i=1}^{N_c} \\left(\\mathcal{F}(x^i, t^i) \\right)^2 + \\frac{1}{N_d}\\sum_{i=1}^{N_d} \\left(h^i - h(x^i, t^i)\\right)^2$$\n",
        "\n",
        "where, $N_i$, $N_b$, $N_c$ are the initial value points, boundary value points and collocation points in the interior where we want the model to obey the physics.\n",
        "\n",
        "Here, we optimize wrt both the neural network parameters as well as the unknown accumulation rate $M$. $M$ is modeled as $M=B+Ax$ and we look to infer the coeffients A and B. $B_{\\text{true}} = 0.004, A_{\\text{true}} = -0.0002$"
      ],
      "metadata": {
        "id": "SuBvZqmjwMNu"
      }
    },
    {
      "cell_type": "code",
      "source": [
        "x = x.reshape(-1,1)\n",
        "t = t.reshape(-1,1)\n",
        "\n",
        "### Initial data\n",
        "Ni = 25\n",
        "random_i = np.random.permutation(x.shape[0])[:Ni]\n",
        "x_i = x[random_i]\n",
        "t_i = np.zeros((Ni, 1))\n",
        "h_i = np.reshape(h_true[random_i, 0], (-1,1))\n",
        "\n",
        "### Boundary data\n",
        "Nb = 500\n",
        "Nb = int(Nb/2) # Split points to two boundaries\n",
        "\n",
        "random_b = np.random.permutation(t.shape[0])[:Nb]\n",
        "x_l = np.zeros((Nb, 1))\n",
        "x_r = L*np.ones((Nb, 1))\n",
        "t_b = t[random_b]\n",
        "h_l = np.reshape(h_true[0, random_b], (-1,1))\n",
        "h_r = np.reshape(h_true[-1, random_b], (-1,1))\n",
        "\n",
        "### Collocation points - sample such that you don't sample the boundary and initial points again\n",
        "# Nc = 75000\n",
        "\n",
        "# x_grid = np.tile(x,(1, t.shape[0]))\n",
        "# t_grid = np.tile(t.T,(x.shape[0], 1))\n",
        "\n",
        "# temp = np.zeros((x.shape[0]-2)*(t.shape[0]-1), dtype = bool)\n",
        "# temp[:Nc] = 1\n",
        "# temp = np.random.permutation(temp)\n",
        "# temp = np.reshape(temp, (x.shape[0]-2, t.shape[0]-1))\n",
        "# random_c = np.zeros((x.shape[0], t.shape[0]), dtype = bool)\n",
        "# random_c[1:-1,1:] = temp\n",
        "# x_c = x_grid[random_c].reshape(-1,1)\n",
        "# t_c = t_grid[random_c].reshape(-1,1)\n",
        "# h_c = h_true[random_c].reshape(-1,1)\n",
        "\n",
        "\n",
        "x_grid = np.tile(x,(1, t.shape[0]))\n",
        "t_grid = np.tile(t.T,(x.shape[0], 1))\n",
        "x_c = x_grid[:,:].reshape(-1,1)\n",
        "t_c = t_grid[:,:].reshape(-1,1)\n",
        "h_c = h_true[:,:].reshape(-1,1)\n",
        "\n",
        "### Data points - sample such that you don't sample the boundary and initial points again\n",
        "# Nd = 75000\n",
        "\n",
        "# temp = np.zeros((x.shape[0]-2)*(t.shape[0]-1), dtype = bool)\n",
        "# temp[:Nd] = 1\n",
        "# temp = np.random.permutation(temp)\n",
        "# temp = np.reshape(temp, (x.shape[0]-2, t.shape[0]-1))\n",
        "# random_d = np.zeros((x.shape[0], t.shape[0]), dtype = bool)\n",
        "# random_d[1:-1,1:] = temp\n",
        "# x_d = x_grid[random_d].reshape(-1,1)\n",
        "# t_d = t_grid[random_d].reshape(-1,1)\n",
        "# h_d = h_true[random_d].reshape(-1,1)\n",
        "\n",
        "x_d = x_grid[:,:].reshape(-1,1)\n",
        "t_d = t_grid[:,:].reshape(-1,1)\n",
        "h_d = h_true[:,:].reshape(-1,1)\n",
        "vx_surface_d = vx_surface_true[:,:].reshape(-1,1)"
      ],
      "metadata": {
        "id": "weH9oPzkpINl"
      },
      "execution_count": 9,
      "outputs": []
    },
    {
      "cell_type": "code",
      "source": [
        "x_torch_i = torch.from_numpy(x_i).float()\n",
        "t_torch_i = torch.from_numpy(t_i).float()\n",
        "h_torch_i = torch.from_numpy(h_i).float()\n",
        "\n",
        "x_torch_l = torch.from_numpy(x_l).float()\n",
        "x_torch_r = torch.from_numpy(x_r).float()\n",
        "t_torch_b = torch.from_numpy(t_b).float()\n",
        "h_torch_l = torch.from_numpy(h_l).float()\n",
        "h_torch_r = torch.from_numpy(h_r).float()\n",
        "\n",
        "x_torch_c = torch.from_numpy(x_c).float()\n",
        "t_torch_c = torch.from_numpy(t_c).float()\n",
        "h_torch_c = torch.from_numpy(h_c).float()\n",
        "\n",
        "x_torch_d = torch.from_numpy(x_d).float()\n",
        "t_torch_d = torch.from_numpy(t_d).float()\n",
        "h_torch_d = torch.from_numpy(h_d).float()\n",
        "vx_surface_torch_d = torch.from_numpy(vx_surface_d).float()\n",
        "\n",
        "### Concatenate the respective x and t tensors \n",
        "X_i = torch.cat((x_torch_i, t_torch_i), 1)\n",
        "\n",
        "X_l = torch.cat((x_torch_l, t_torch_b), 1)\n",
        "X_r = torch.cat((x_torch_r, t_torch_b), 1)\n",
        "\n",
        "X_c = torch.cat((x_torch_c, t_torch_c), 1)\n",
        "\n",
        "X_d = torch.cat((x_torch_d, t_torch_d), 1)"
      ],
      "metadata": {
        "id": "xxZvwQHVMWmg"
      },
      "execution_count": 10,
      "outputs": []
    },
    {
      "cell_type": "code",
      "source": [
        "X_i = X_i.to(device)\n",
        "H_small_i = h_torch_i.to(device)\n",
        "\n",
        "X_l = X_l.to(device)\n",
        "H_small_l = h_torch_l.to(device)\n",
        "X_r = X_r.to(device)\n",
        "H_small_r = h_torch_r.to(device)\n",
        "\n",
        "X_c = X_c.to(device)\n",
        "H_small_c = h_torch_c.to(device)\n",
        "\n",
        "X_d = X_d.to(device)\n",
        "H_small_d = h_torch_d.to(device)\n",
        "### 'small' makes no sense for this variable name, but we just go along with it\n",
        "vx_surface_small_d = vx_surface_torch_d.to(device)"
      ],
      "metadata": {
        "id": "9pMBDYP7Mf8m"
      },
      "execution_count": 11,
      "outputs": []
    },
    {
      "cell_type": "code",
      "source": [
        "X_d.shape[0]"
      ],
      "metadata": {
        "colab": {
          "base_uri": "https://localhost:8080/"
        },
        "id": "PI32WFUBV-cg",
        "outputId": "cba23870-ea93-420b-a8f3-1ed186f09648"
      },
      "execution_count": 12,
      "outputs": [
        {
          "output_type": "execute_result",
          "data": {
            "text/plain": [
              "148831"
            ]
          },
          "metadata": {},
          "execution_count": 12
        }
      ]
    },
    {
      "cell_type": "code",
      "source": [
        "X_c.shape"
      ],
      "metadata": {
        "colab": {
          "base_uri": "https://localhost:8080/"
        },
        "id": "7ojzk6yQaC1C",
        "outputId": "dbc0d09e-dab4-4628-f1bb-16e35990524d"
      },
      "execution_count": 13,
      "outputs": [
        {
          "output_type": "execute_result",
          "data": {
            "text/plain": [
              "torch.Size([148831, 2])"
            ]
          },
          "metadata": {},
          "execution_count": 13
        }
      ]
    },
    {
      "cell_type": "code",
      "source": [
        "PINN = physics_informed_NN()\n",
        "PINN.to(device)\n",
        "\n",
        "optimizer = torch.optim.Adam(PINN.parameters(), lr=0.0001)\n",
        "criterion = nn.MSELoss()\n",
        "my_lr_scheduler = torch.optim.lr_scheduler.StepLR(optimizer=optimizer, step_size=1, gamma=0.995)\n",
        "# my_lr_scheduler = torch.optim.lr_scheduler.ReduceLROnPlateau(optimizer=optimizer)\n",
        "#C = torch.tensor(0., requires_grad = True)\n",
        "\n",
        "# M = torch.zeros((Nc), requires_grad = True, dtype = float, device = device)\n",
        "# A = torch.tensor(0., requires_grad = True, device = device)\n",
        "# B = torch.tensor(0., requires_grad = True, device = device)\n",
        "# optimizer.add_param_group({'params': A})\n",
        "# optimizer.add_param_group({'params': B})\n",
        "\n",
        "b = torch.ones((int(L/dx)+1,1), requires_grad = True, device = device)\n",
        "optimizer.add_param_group({'params': b, 'lr':5.e-2})\n",
        "b.shape"
      ],
      "metadata": {
        "id": "C5DU7lnjMjRB"
      },
      "execution_count": null,
      "outputs": []
    },
    {
      "cell_type": "code",
      "source": [
        "statistics = []\n",
        "for epochs in range(2000):\n",
        "\n",
        "    X_c_clone = X_c.clone()\n",
        "    X_c_index = X_c[:,0]/dx\n",
        "    X_c_index = X_c_index.to(torch.int64)\n",
        "    X_c_clone.requires_grad = True\n",
        "    h_pred = PINN(X_c_clone)\n",
        "\n",
        "    # b = 1.0 - 0.01*X_c_clone[:,0]\n",
        "    # b = torch.reshape(b, (-1,1))\n",
        "    M = 0.004-0.0002*X_c_clone[:,0]\n",
        "\n",
        "    H_pred = torch.sub(h_pred, b[X_c_index])\n",
        "    gradients_h = torch.autograd.grad(torch.sum(h_pred), X_c_clone, create_graph=True)\n",
        "    h_x = gradients_h[0][:,0]\n",
        "    h_t = gradients_h[0][:,1]\n",
        "    hessians_h = torch.autograd.grad(torch.sum(h_x), X_c_clone, create_graph=True)\n",
        "    h_xx = hessians_h[0][:,0]\n",
        "\n",
        "    gradients_H = torch.autograd.grad(torch.sum(H_pred), X_c_clone, create_graph=True)\n",
        "    H_x = gradients_H[0][:,0]\n",
        "\n",
        "    flux = - C_true * torch.pow(torch.squeeze(H_pred), 5) * torch.pow(torch.abs(h_x), 2) * h_x\n",
        "    gradients_flux = torch.autograd.grad(torch.sum(flux), X_c_clone, create_graph=True)\n",
        "    flux_x = - gradients_flux[0][:,0]\n",
        "    # M = B + A*X_c_clone[:, 0]\n",
        "    pde_rhs = M + flux_x\n",
        "\n",
        "\n",
        "    collocation_mse = criterion(h_t, pde_rhs)\n",
        "\n",
        "    initial_mse = criterion(PINN(X_i), H_small_i)\n",
        "    left_mse = criterion(PINN(X_l), H_small_l)\n",
        "    right_mse = criterion(PINN(X_r), H_small_r)\n",
        "    data_h_mse = criterion(PINN(X_d), H_small_d)\n",
        "\n",
        "    X_d_clone = X_d.clone()\n",
        "    X_d_index = X_d[:,0]/dx\n",
        "    X_d_index = X_d_index.to(torch.int64)\n",
        "    X_d_clone.requires_grad = True\n",
        "    h_pred_for_vx = PINN(X_d_clone)\n",
        "\n",
        "    alpha_pred_for_vx = torch.autograd.grad(torch.sum(h_pred_for_vx), X_d_clone, create_graph=True)\n",
        "\n",
        "    tau_d = - rho * g * torch.squeeze(torch.sub(h_pred_for_vx, b[X_d_index])) * alpha_pred_for_vx[0][:,0]\n",
        "    phi = 0.0\n",
        "    vx_surface_pred = 2*A/(n+2) * (tau_d)**n * (1.e3)**n * torch.squeeze(torch.sub(h_pred_for_vx,b[X_d_index])) * (phi + 1)\n",
        "    data_vx_mse = criterion(vx_surface_pred, torch.squeeze(vx_surface_small_d))\n",
        "\n",
        "    loss = right_mse + left_mse + initial_mse + 40*collocation_mse + 40*data_h_mse + 20*data_vx_mse\n",
        "\n",
        "    optimizer.zero_grad()  \n",
        "    loss.backward()       \n",
        "    xm.optimizer_step(optimizer)\n",
        "    xm.mark_step()\n",
        "    # optimizer.step()\n",
        "    my_lr_scheduler.step()\n",
        "\n",
        "    if (epochs % 5 == 0):\n",
        "        statistics.append([epochs, loss.cpu().data.numpy(), left_mse.cpu().data.numpy(), right_mse.cpu().data.numpy(), initial_mse.cpu().data.numpy(), collocation_mse.cpu().data.numpy(), data_h_mse.cpu().data.numpy()])\n",
        "        print (f'epoch = {epochs:.1e}, loss = {loss:.1e}, L2_error_b = {np.linalg.norm(b.cpu().data.numpy()-b_true):.1e}, lr = {my_lr_scheduler.get_last_lr()}, l_loss = {left_mse}, r_loss = {right_mse}, i_mse = {initial_mse}, c_mse = {collocation_mse}, d_mse = {data_h_mse}')"
      ],
      "metadata": {
        "id": "mm3OslYyMlqB"
      },
      "execution_count": null,
      "outputs": []
    },
    {
      "cell_type": "code",
      "source": [
        "b"
      ],
      "metadata": {
        "colab": {
          "base_uri": "https://localhost:8080/"
        },
        "id": "clofJquNYZ4f",
        "outputId": "f5cbb5f4-861c-439f-e111-553ab1511a22"
      },
      "execution_count": 18,
      "outputs": [
        {
          "output_type": "execute_result",
          "data": {
            "text/plain": [
              "tensor([[ 0.1766],\n",
              "        [ 0.5475],\n",
              "        [ 0.1022],\n",
              "        [ 0.1067],\n",
              "        [ 0.1232],\n",
              "        [ 0.0669],\n",
              "        [ 0.1264],\n",
              "        [ 0.1731],\n",
              "        [ 0.1510],\n",
              "        [ 0.3396],\n",
              "        [ 0.4133],\n",
              "        [ 0.4217],\n",
              "        [ 0.4179],\n",
              "        [ 0.4598],\n",
              "        [ 0.4252],\n",
              "        [ 0.4714],\n",
              "        [ 0.4617],\n",
              "        [ 0.4565],\n",
              "        [ 0.5028],\n",
              "        [ 0.5218],\n",
              "        [ 0.4799],\n",
              "        [-0.0232],\n",
              "        [ 0.2653],\n",
              "        [ 0.2663],\n",
              "        [ 0.2632],\n",
              "        [ 0.2670],\n",
              "        [ 0.2869],\n",
              "        [ 0.3044],\n",
              "        [ 0.3078],\n",
              "        [ 0.3087],\n",
              "        [ 0.3087]], device='xla:1', requires_grad=True)"
            ]
          },
          "metadata": {},
          "execution_count": 18
        }
      ]
    },
    {
      "cell_type": "code",
      "source": [
        "plt.plot(b.cpu().data.numpy())\n",
        "plt.plot(b_true)"
      ],
      "metadata": {
        "colab": {
          "base_uri": "https://localhost:8080/",
          "height": 282
        },
        "id": "2Q8RZ22byT0W",
        "outputId": "11cfd53b-2565-42db-e284-86be0087f810"
      },
      "execution_count": 19,
      "outputs": [
        {
          "output_type": "execute_result",
          "data": {
            "text/plain": [
              "[<matplotlib.lines.Line2D at 0x7fb7800b0850>]"
            ]
          },
          "metadata": {},
          "execution_count": 19
        },
        {
          "output_type": "display_data",
          "data": {
            "image/png": "[encoded data removed]",
            "text/plain": [
              "<Figure size 432x288 with 1 Axes>"
            ]
          },
          "metadata": {
            "needs_background": "light"
          }
        }
      ]
    },
    {
      "cell_type": "code",
      "source": [
        "PINN = physics_informed_NN()\n",
        "PINN.to(device)\n",
        "\n",
        "optimizer = torch.optim.Adam(PINN.parameters(), lr=0.0001)\n",
        "criterion = nn.MSELoss()\n",
        "my_lr_scheduler = torch.optim.lr_scheduler.StepLR(optimizer=optimizer, step_size=1, gamma=0.995)\n",
        "# my_lr_scheduler = torch.optim.lr_scheduler.ReduceLROnPlateau(optimizer=optimizer)\n",
        "#C = torch.tensor(0., requires_grad = True)\n",
        "\n",
        "# M = torch.zeros((Nc), requires_grad = True, dtype = float, device = device)\n",
        "A = torch.tensor(0., requires_grad = True, device = device)\n",
        "B = torch.tensor(0., requires_grad = True, device = device)\n",
        "optimizer.add_param_group({'params': A})\n",
        "optimizer.add_param_group({'params': B})\n",
        "\n",
        "# b = torch.ones((int(L/dx)+1,1), requires_grad = True, device = device)\n",
        "# optimizer.add_param_group({'params': b, 'lr':5.e-2})\n",
        "# b.shape"
      ],
      "metadata": {
        "id": "PFEcFGjVAxKx"
      },
      "execution_count": 14,
      "outputs": []
    },
    {
      "cell_type": "code",
      "source": [
        "statistics = []\n",
        "for epochs in range(2000):\n",
        "\n",
        "    X_c_clone = X_c.clone()\n",
        "    X_c_index = X_c[:,0]/dx\n",
        "    X_c_index = X_c_index.to(torch.int64)\n",
        "    X_c_clone.requires_grad = True\n",
        "    h_pred = PINN(X_c_clone)\n",
        "\n",
        "    # b = 1.0 - 0.01*X_c_clone[:,0]\n",
        "    # b = torch.reshape(b, (-1,1))\n",
        "    M = 0.004-0.0002*X_c_clone[:,0]\n",
        "    b = A* torch.sin(B*X_c_clone[:,0])\n",
        "\n",
        "    H_pred = torch.sub(h_pred, b[X_c_index])\n",
        "    gradients_h = torch.autograd.grad(torch.sum(h_pred), X_c_clone, create_graph=True)\n",
        "    h_x = gradients_h[0][:,0]\n",
        "    h_t = gradients_h[0][:,1]\n",
        "    hessians_h = torch.autograd.grad(torch.sum(h_x), X_c_clone, create_graph=True)\n",
        "    h_xx = hessians_h[0][:,0]\n",
        "\n",
        "    gradients_H = torch.autograd.grad(torch.sum(H_pred), X_c_clone, create_graph=True)\n",
        "    H_x = gradients_H[0][:,0]\n",
        "\n",
        "    flux = - C_true * torch.pow(torch.squeeze(H_pred), 5) * torch.pow(torch.abs(h_x), 2) * h_x\n",
        "    gradients_flux = torch.autograd.grad(torch.sum(flux), X_c_clone, create_graph=True)\n",
        "    flux_x = - gradients_flux[0][:,0]\n",
        "    # M = B + A*X_c_clone[:, 0]\n",
        "    pde_rhs = M + flux_x\n",
        "\n",
        "\n",
        "    collocation_mse = criterion(h_t, pde_rhs)\n",
        "\n",
        "    initial_mse = criterion(PINN(X_i), H_small_i)\n",
        "    left_mse = criterion(PINN(X_l), H_small_l)\n",
        "    right_mse = criterion(PINN(X_r), H_small_r)\n",
        "    data_h_mse = criterion(PINN(X_d), H_small_d)\n",
        "\n",
        "    X_d_clone = X_d.clone()\n",
        "    X_d_index = X_d[:,0]/dx\n",
        "    X_d_index = X_d_index.to(torch.int64)\n",
        "    X_d_clone.requires_grad = True\n",
        "    h_pred_for_vx = PINN(X_d_clone)\n",
        "\n",
        "    alpha_pred_for_vx = torch.autograd.grad(torch.sum(h_pred_for_vx), X_d_clone, create_graph=True)\n",
        "\n",
        "    tau_d = - rho * g * torch.squeeze(torch.sub(h_pred_for_vx, b[X_d_index])) * alpha_pred_for_vx[0][:,0]\n",
        "    phi = 0.0\n",
        "    vx_surface_pred = 2*A/(n+2) * (tau_d)**n * (1.e3)**n * torch.squeeze(torch.sub(h_pred_for_vx,b[X_d_index])) * (phi + 1)\n",
        "    data_vx_mse = criterion(vx_surface_pred, torch.squeeze(vx_surface_small_d))\n",
        "\n",
        "    loss = right_mse + left_mse + initial_mse + 40*collocation_mse + 40*data_h_mse + 20*data_vx_mse\n",
        "\n",
        "    optimizer.zero_grad()  \n",
        "    loss.backward()       \n",
        "    xm.optimizer_step(optimizer)\n",
        "    xm.mark_step()\n",
        "    # optimizer.step()\n",
        "    my_lr_scheduler.step()\n",
        "\n",
        "    if (epochs % 5 == 0):\n",
        "        statistics.append([epochs, loss.cpu().data.numpy(), left_mse.cpu().data.numpy(), right_mse.cpu().data.numpy(), initial_mse.cpu().data.numpy(), collocation_mse.cpu().data.numpy(), data_h_mse.cpu().data.numpy()])\n",
        "        print (f'epoch = {epochs:.1e}, loss = {loss:.1e}, A = {A.cpu().data.numpy():.1e}, B = {B.cpu().data.numpy():.1e}, lr = {my_lr_scheduler.get_last_lr()}, l_loss = {left_mse}, r_loss = {right_mse}, i_mse = {initial_mse}, c_mse = {collocation_mse}, d_mse = {data_h_mse}')"
      ],
      "metadata": {
        "id": "Aw_AF3ncputw",
        "outputId": "2af7ede4-0f11-4e0c-a224-3d63754313b6",
        "colab": {
          "base_uri": "https://localhost:8080/",
          "height": 603
        }
      },
      "execution_count": 15,
      "outputs": [
        {
          "output_type": "stream",
          "name": "stderr",
          "text": [
            "/usr/local/lib/python3.7/dist-packages/torch/nn/modules/loss.py:528: UserWarning: Using a target size (torch.Size([148831])) that is different to the input size (torch.Size([148831, 148831])). This will likely lead to incorrect results due to broadcasting. Please ensure they have the same size.\n",
            "  return F.mse_loss(input, target, reduction=self.reduction)\n"
          ]
        },
        {
          "output_type": "error",
          "ename": "RuntimeError",
          "evalue": "ignored",
          "traceback": [
            "\u001b[0;31m---------------------------------------------------------------------------\u001b[0m",
            "\u001b[0;31mRuntimeError\u001b[0m                              Traceback (most recent call last)",
            "\u001b[0;32m<ipython-input-15-a70df891f8c9>\u001b[0m in \u001b[0;36m<module>\u001b[0;34m()\u001b[0m\n\u001b[1;32m     60\u001b[0m \u001b[0;34m\u001b[0m\u001b[0m\n\u001b[1;32m     61\u001b[0m     \u001b[0;32mif\u001b[0m \u001b[0;34m(\u001b[0m\u001b[0mepochs\u001b[0m \u001b[0;34m%\u001b[0m \u001b[0;36m5\u001b[0m \u001b[0;34m==\u001b[0m \u001b[0;36m0\u001b[0m\u001b[0;34m)\u001b[0m\u001b[0;34m:\u001b[0m\u001b[0;34m\u001b[0m\u001b[0;34m\u001b[0m\u001b[0m\n\u001b[0;32m---> 62\u001b[0;31m         \u001b[0mstatistics\u001b[0m\u001b[0;34m.\u001b[0m\u001b[0mappend\u001b[0m\u001b[0;34m(\u001b[0m\u001b[0;34m[\u001b[0m\u001b[0mepochs\u001b[0m\u001b[0;34m,\u001b[0m \u001b[0mloss\u001b[0m\u001b[0;34m.\u001b[0m\u001b[0mcpu\u001b[0m\u001b[0;34m(\u001b[0m\u001b[0;34m)\u001b[0m\u001b[0;34m.\u001b[0m\u001b[0mdata\u001b[0m\u001b[0;34m.\u001b[0m\u001b[0mnumpy\u001b[0m\u001b[0;34m(\u001b[0m\u001b[0;34m)\u001b[0m\u001b[0;34m,\u001b[0m \u001b[0mleft_mse\u001b[0m\u001b[0;34m.\u001b[0m\u001b[0mcpu\u001b[0m\u001b[0;34m(\u001b[0m\u001b[0;34m)\u001b[0m\u001b[0;34m.\u001b[0m\u001b[0mdata\u001b[0m\u001b[0;34m.\u001b[0m\u001b[0mnumpy\u001b[0m\u001b[0;34m(\u001b[0m\u001b[0;34m)\u001b[0m\u001b[0;34m,\u001b[0m \u001b[0mright_mse\u001b[0m\u001b[0;34m.\u001b[0m\u001b[0mcpu\u001b[0m\u001b[0;34m(\u001b[0m\u001b[0;34m)\u001b[0m\u001b[0;34m.\u001b[0m\u001b[0mdata\u001b[0m\u001b[0;34m.\u001b[0m\u001b[0mnumpy\u001b[0m\u001b[0;34m(\u001b[0m\u001b[0;34m)\u001b[0m\u001b[0;34m,\u001b[0m \u001b[0minitial_mse\u001b[0m\u001b[0;34m.\u001b[0m\u001b[0mcpu\u001b[0m\u001b[0;34m(\u001b[0m\u001b[0;34m)\u001b[0m\u001b[0;34m.\u001b[0m\u001b[0mdata\u001b[0m\u001b[0;34m.\u001b[0m\u001b[0mnumpy\u001b[0m\u001b[0;34m(\u001b[0m\u001b[0;34m)\u001b[0m\u001b[0;34m,\u001b[0m \u001b[0mcollocation_mse\u001b[0m\u001b[0;34m.\u001b[0m\u001b[0mcpu\u001b[0m\u001b[0;34m(\u001b[0m\u001b[0;34m)\u001b[0m\u001b[0;34m.\u001b[0m\u001b[0mdata\u001b[0m\u001b[0;34m.\u001b[0m\u001b[0mnumpy\u001b[0m\u001b[0;34m(\u001b[0m\u001b[0;34m)\u001b[0m\u001b[0;34m,\u001b[0m \u001b[0mdata_h_mse\u001b[0m\u001b[0;34m.\u001b[0m\u001b[0mcpu\u001b[0m\u001b[0;34m(\u001b[0m\u001b[0;34m)\u001b[0m\u001b[0;34m.\u001b[0m\u001b[0mdata\u001b[0m\u001b[0;34m.\u001b[0m\u001b[0mnumpy\u001b[0m\u001b[0;34m(\u001b[0m\u001b[0;34m)\u001b[0m\u001b[0;34m]\u001b[0m\u001b[0;34m)\u001b[0m\u001b[0;34m\u001b[0m\u001b[0;34m\u001b[0m\u001b[0m\n\u001b[0m\u001b[1;32m     63\u001b[0m         \u001b[0mprint\u001b[0m \u001b[0;34m(\u001b[0m\u001b[0;34mf'epoch = {epochs:.1e}, loss = {loss:.1e}, A = {A.cpu().data.numpy():.1e}, B = {B.cpu().data.numpy():.1e}, lr = {my_lr_scheduler.get_last_lr()}, l_loss = {left_mse}, r_loss = {right_mse}, i_mse = {initial_mse}, c_mse = {collocation_mse}, d_mse = {data_h_mse}'\u001b[0m\u001b[0;34m)\u001b[0m\u001b[0;34m\u001b[0m\u001b[0;34m\u001b[0m\u001b[0m\n",
            "\u001b[0;31mRuntimeError\u001b[0m: Resource exhausted: From /job:tpu_worker/replica:0/task:0:\n2 root error(s) found.\n  (0) Resource exhausted: Failed to allocate request for 82.54GiB (88622907392B) on device ordinal 0\n\t [[{{node XRTExecute}}]]\nHint: If you want to see a list of allocated tensors when OOM happens, add report_tensor_allocations_upon_oom to RunOptions for current allocation info. This isn't available when running in Eager mode.\n\n  (1) Resource exhausted: Failed to allocate request for 82.54GiB (88622907392B) on device ordinal 0\n\t [[{{node XRTExecute}}]]\nHint: If you want to see a list of allocated tensors when OOM happens, add report_tensor_allocations_upon_oom to RunOptions for current allocation info. This isn't available when running in Eager mode.\n\n\t [[XRTExecute_G12]]\nHint: If you want to see a list of allocated tensors when OOM happens, add report_tensor_allocations_upon_oom to RunOptions for current allocation info. This isn't available when running in Eager mode.\n\n0 successful operations.\n0 derived errors ignored."
          ]
        }
      ]
    },
    {
      "cell_type": "code",
      "source": [
        "b.shape"
      ],
      "metadata": {
        "id": "MnZld-tyqCNK"
      },
      "execution_count": null,
      "outputs": []
    },
    {
      "cell_type": "code",
      "source": [
        ""
      ],
      "metadata": {
        "id": "mglf1_1dsAvQ"
      },
      "execution_count": null,
      "outputs": []
    }
  ]
}