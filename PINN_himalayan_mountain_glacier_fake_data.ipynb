{
  "nbformat": 4,
  "nbformat_minor": 0,
  "metadata": {
    "colab": {
      "name": "PINN_himalayan_mountain_glacier_fake_data",
      "provenance": [],
      "collapsed_sections": [],
      "authorship_tag": "ABX9TyMyOYL5nVYDT2T6hZ2RiYEe",
      "include_colab_link": true
    },
    "kernelspec": {
      "name": "python3",
      "display_name": "Python 3"
    },
    "language_info": {
      "name": "python"
    },
    "accelerator": "TPU"
  },
  "cells": [
    {
      "cell_type": "markdown",
      "metadata": {
        "id": "view-in-github",
        "colab_type": "text"
      },
      "source": [
        "<a href=\"https://colab.research.google.com/github/Shreyas911/PINN/blob/main/PINN_himalayan_mountain_glacier_fake_data.ipynb\" target=\"_parent\"><img src=\"https://colab.research.google.com/assets/colab-badge.svg\" alt=\"Open In Colab\"/></a>"
      ]
    },
    {
      "cell_type": "code",
      "execution_count": 1,
      "metadata": {
        "colab": {
          "base_uri": "https://localhost:8080/"
        },
        "id": "Aanahw4ZYI8l",
        "outputId": "68dcd7da-fd09-41e5-e4b8-bc15b355d0fb"
      },
      "outputs": [
        {
          "output_type": "stream",
          "name": "stdout",
          "text": [
            "Collecting torch-xla==1.9\n",
            "  Using cached https://storage.googleapis.com/tpu-pytorch/wheels/torch_xla-1.9-cp37-cp37m-linux_x86_64.whl (149.9 MB)\n",
            "Requirement already satisfied: cloud-tpu-client==0.10 in /usr/local/lib/python3.7/dist-packages (0.10)\n",
            "Requirement already satisfied: google-api-python-client==1.8.0 in /usr/local/lib/python3.7/dist-packages (from cloud-tpu-client==0.10) (1.8.0)\n",
            "Requirement already satisfied: oauth2client in /usr/local/lib/python3.7/dist-packages (from cloud-tpu-client==0.10) (4.1.3)\n",
            "Requirement already satisfied: google-auth>=1.4.1 in /usr/local/lib/python3.7/dist-packages (from google-api-python-client==1.8.0->cloud-tpu-client==0.10) (1.35.0)\n",
            "Requirement already satisfied: httplib2<1dev,>=0.9.2 in /usr/local/lib/python3.7/dist-packages (from google-api-python-client==1.8.0->cloud-tpu-client==0.10) (0.17.4)\n",
            "Requirement already satisfied: google-api-core<2dev,>=1.13.0 in /usr/local/lib/python3.7/dist-packages (from google-api-python-client==1.8.0->cloud-tpu-client==0.10) (1.26.3)\n",
            "Requirement already satisfied: uritemplate<4dev,>=3.0.0 in /usr/local/lib/python3.7/dist-packages (from google-api-python-client==1.8.0->cloud-tpu-client==0.10) (3.0.1)\n",
            "Requirement already satisfied: google-auth-httplib2>=0.0.3 in /usr/local/lib/python3.7/dist-packages (from google-api-python-client==1.8.0->cloud-tpu-client==0.10) (0.0.4)\n",
            "Requirement already satisfied: six<2dev,>=1.6.1 in /usr/local/lib/python3.7/dist-packages (from google-api-python-client==1.8.0->cloud-tpu-client==0.10) (1.15.0)\n",
            "Requirement already satisfied: googleapis-common-protos<2.0dev,>=1.6.0 in /usr/local/lib/python3.7/dist-packages (from google-api-core<2dev,>=1.13.0->google-api-python-client==1.8.0->cloud-tpu-client==0.10) (1.54.0)\n",
            "Requirement already satisfied: requests<3.0.0dev,>=2.18.0 in /usr/local/lib/python3.7/dist-packages (from google-api-core<2dev,>=1.13.0->google-api-python-client==1.8.0->cloud-tpu-client==0.10) (2.23.0)\n",
            "Requirement already satisfied: protobuf>=3.12.0 in /usr/local/lib/python3.7/dist-packages (from google-api-core<2dev,>=1.13.0->google-api-python-client==1.8.0->cloud-tpu-client==0.10) (3.17.3)\n",
            "Requirement already satisfied: pytz in /usr/local/lib/python3.7/dist-packages (from google-api-core<2dev,>=1.13.0->google-api-python-client==1.8.0->cloud-tpu-client==0.10) (2018.9)\n",
            "Requirement already satisfied: setuptools>=40.3.0 in /usr/local/lib/python3.7/dist-packages (from google-api-core<2dev,>=1.13.0->google-api-python-client==1.8.0->cloud-tpu-client==0.10) (57.4.0)\n",
            "Requirement already satisfied: packaging>=14.3 in /usr/local/lib/python3.7/dist-packages (from google-api-core<2dev,>=1.13.0->google-api-python-client==1.8.0->cloud-tpu-client==0.10) (21.3)\n",
            "Requirement already satisfied: rsa<5,>=3.1.4 in /usr/local/lib/python3.7/dist-packages (from google-auth>=1.4.1->google-api-python-client==1.8.0->cloud-tpu-client==0.10) (4.8)\n",
            "Requirement already satisfied: pyasn1-modules>=0.2.1 in /usr/local/lib/python3.7/dist-packages (from google-auth>=1.4.1->google-api-python-client==1.8.0->cloud-tpu-client==0.10) (0.2.8)\n",
            "Requirement already satisfied: cachetools<5.0,>=2.0.0 in /usr/local/lib/python3.7/dist-packages (from google-auth>=1.4.1->google-api-python-client==1.8.0->cloud-tpu-client==0.10) (4.2.4)\n",
            "Requirement already satisfied: pyparsing!=3.0.5,>=2.0.2 in /usr/local/lib/python3.7/dist-packages (from packaging>=14.3->google-api-core<2dev,>=1.13.0->google-api-python-client==1.8.0->cloud-tpu-client==0.10) (3.0.7)\n",
            "Requirement already satisfied: pyasn1<0.5.0,>=0.4.6 in /usr/local/lib/python3.7/dist-packages (from pyasn1-modules>=0.2.1->google-auth>=1.4.1->google-api-python-client==1.8.0->cloud-tpu-client==0.10) (0.4.8)\n",
            "Requirement already satisfied: certifi>=2017.4.17 in /usr/local/lib/python3.7/dist-packages (from requests<3.0.0dev,>=2.18.0->google-api-core<2dev,>=1.13.0->google-api-python-client==1.8.0->cloud-tpu-client==0.10) (2021.10.8)\n",
            "Requirement already satisfied: urllib3!=1.25.0,!=1.25.1,<1.26,>=1.21.1 in /usr/local/lib/python3.7/dist-packages (from requests<3.0.0dev,>=2.18.0->google-api-core<2dev,>=1.13.0->google-api-python-client==1.8.0->cloud-tpu-client==0.10) (1.24.3)\n",
            "Requirement already satisfied: chardet<4,>=3.0.2 in /usr/local/lib/python3.7/dist-packages (from requests<3.0.0dev,>=2.18.0->google-api-core<2dev,>=1.13.0->google-api-python-client==1.8.0->cloud-tpu-client==0.10) (3.0.4)\n",
            "Requirement already satisfied: idna<3,>=2.5 in /usr/local/lib/python3.7/dist-packages (from requests<3.0.0dev,>=2.18.0->google-api-core<2dev,>=1.13.0->google-api-python-client==1.8.0->cloud-tpu-client==0.10) (2.10)\n",
            "Looking in links: https://download.pytorch.org/whl/cu111/torch_stable.html\n",
            "Requirement already satisfied: torch==1.9.0+cu111 in /usr/local/lib/python3.7/dist-packages (1.9.0+cu111)\n",
            "Requirement already satisfied: torchvision==0.10.0+cu111 in /usr/local/lib/python3.7/dist-packages (0.10.0+cu111)\n",
            "Requirement already satisfied: torchtext==0.10.0 in /usr/local/lib/python3.7/dist-packages (0.10.0)\n",
            "Requirement already satisfied: typing-extensions in /usr/local/lib/python3.7/dist-packages (from torch==1.9.0+cu111) (3.10.0.2)\n",
            "Requirement already satisfied: numpy in /usr/local/lib/python3.7/dist-packages (from torchvision==0.10.0+cu111) (1.19.5)\n",
            "Requirement already satisfied: pillow>=5.3.0 in /usr/local/lib/python3.7/dist-packages (from torchvision==0.10.0+cu111) (7.1.2)\n",
            "Requirement already satisfied: requests in /usr/local/lib/python3.7/dist-packages (from torchtext==0.10.0) (2.23.0)\n",
            "Requirement already satisfied: tqdm in /usr/local/lib/python3.7/dist-packages (from torchtext==0.10.0) (4.62.3)\n",
            "Requirement already satisfied: idna<3,>=2.5 in /usr/local/lib/python3.7/dist-packages (from requests->torchtext==0.10.0) (2.10)\n",
            "Requirement already satisfied: chardet<4,>=3.0.2 in /usr/local/lib/python3.7/dist-packages (from requests->torchtext==0.10.0) (3.0.4)\n",
            "Requirement already satisfied: urllib3!=1.25.0,!=1.25.1,<1.26,>=1.21.1 in /usr/local/lib/python3.7/dist-packages (from requests->torchtext==0.10.0) (1.24.3)\n",
            "Requirement already satisfied: certifi>=2017.4.17 in /usr/local/lib/python3.7/dist-packages (from requests->torchtext==0.10.0) (2021.10.8)\n"
          ]
        },
        {
          "output_type": "stream",
          "name": "stderr",
          "text": [
            "WARNING:root:TPU has started up successfully with version pytorch-1.9\n"
          ]
        }
      ],
      "source": [
        "#!pip install cloud-tpu-client==0.10 https://storage.googleapis.com/tpu-pytorch/wheels/torch_xla-1.9-cp37-cp37m-linux_x86_64.whl\n",
        "!pip install cloud-tpu-client==0.10 https://storage.googleapis.com/tpu-pytorch/wheels/torch_xla-1.9-cp37-cp37m-linux_x86_64.whl\n",
        "!pip install torch==1.9.0+cu111 torchvision==0.10.0+cu111 torchtext==0.10.0 -f https://download.pytorch.org/whl/cu111/torch_stable.html\n",
        "\n",
        "### Import the required libraries\n",
        "import numpy as np\n",
        "import matplotlib.pyplot as plt \n",
        "from mpl_toolkits.axes_grid1 import make_axes_locatable\n",
        "import torch\n",
        "import torch.nn as nn\n",
        "import torch.nn.functional as F\n",
        "import torch_xla ## Specially for TPUs\n",
        "import torch_xla.core.xla_model as xm ## Specially for TPUs"
      ]
    },
    {
      "cell_type": "markdown",
      "source": [
        "## Specify the device\n",
        "\n",
        "We now specify the device type. There are two options to leverge the power of parallel computing. We can either use GPUs or TPUs. In this case, we use TPUs. "
      ],
      "metadata": {
        "id": "GU0EYLjwYulD"
      }
    },
    {
      "cell_type": "code",
      "source": [
        "### GPU ###\n",
        "# device = torch.device('cuda' if torch.cuda.is_available() else 'cpu')\n",
        "# torch.cuda.empty_cache()\n",
        "###########\n",
        "\n",
        "### TPU ###\n",
        "device = xm.xla_device()\n",
        "###########\n",
        "\n",
        "device"
      ],
      "metadata": {
        "colab": {
          "base_uri": "https://localhost:8080/"
        },
        "id": "iqyUUcPIYYPy",
        "outputId": "9b399adc-0c88-47a8-b3a8-9f5ca87a9912"
      },
      "execution_count": 2,
      "outputs": [
        {
          "output_type": "execute_result",
          "data": {
            "text/plain": [
              "device(type='xla', index=1)"
            ]
          },
          "metadata": {},
          "execution_count": 2
        }
      ]
    },
    {
      "cell_type": "code",
      "source": [
        "class physics_informed_NN(nn.Module):\n",
        "    \n",
        "    def __init__ (self):\n",
        "\n",
        "        super(physics_informed_NN, self).__init__()\n",
        "\n",
        "        self.fc1 = nn.Linear(2, 200)\n",
        "        self.fc2 = nn.Linear(200, 200)\n",
        "        self.fc3 = nn.Linear(200, 200)\n",
        "        self.fc4 = nn.Linear(200, 200)\n",
        "        self.fc5 = nn.Linear(200, 200)\n",
        "        self.fc6 = nn.Linear(200, 200)\n",
        "        self.fc7 = nn.Linear(200, 200)\n",
        "        self.fc8 = nn.Linear(200, 1)\n",
        "\n",
        "    def forward(self, x):\n",
        "        x = torch.tanh(self.fc1(x))\n",
        "        x = torch.tanh(self.fc2(x))\n",
        "        x = torch.tanh(self.fc3(x))\n",
        "        x = torch.tanh(self.fc4(x))\n",
        "        # x = torch.tanh(self.fc5(x))\n",
        "        # x = torch.tanh(self.fc6(x))\n",
        "        # x = torch.tanh(self.fc7(x))\n",
        "        x = self.fc8(x)\n",
        "        return x\n",
        "\n",
        "physics_informed_NN"
      ],
      "metadata": {
        "colab": {
          "base_uri": "https://localhost:8080/"
        },
        "id": "HEzG0rSjY-IT",
        "outputId": "45c90ed0-968e-417a-ade1-016905dfa592"
      },
      "execution_count": 3,
      "outputs": [
        {
          "output_type": "execute_result",
          "data": {
            "text/plain": [
              "__main__.physics_informed_NN"
            ]
          },
          "metadata": {},
          "execution_count": 3
        }
      ]
    },
    {
      "cell_type": "markdown",
      "source": [
        "##True solution "
      ],
      "metadata": {
        "id": "z_QwZ-tBbQaq"
      }
    },
    {
      "cell_type": "markdown",
      "source": [
        "We now generate the true solution for a simple mountain glacier model, taken from *Fundamentals of Glacier Dynamics* by CJ van der Veen and then look to make our neural network model *emulate* this PDE. The system is modeled by a non-linear, highly diffusive PDE. Although, ice sheet models tend to be non-local, but as a starting point we assume a local model. \n",
        "\n",
        "$$\n",
        " \\frac{\\partial H}{\\partial t } = -\\frac{\\partial}{\\partial x}\\left(-D(x)\\frac{\\partial h}{\\partial x}\\right) + M\\\\\n",
        "  D(x) = CH^{n+2}\\left|\\frac{\\partial h}{\\partial x}\\right|^{n-1}\\\\\n",
        "  C = \\frac{2A}{n+2}(\\rho g)^n\\\\\n",
        "    H(x,t) = h(x,t) - b(x) \\\\ \n",
        "    H_l = 0, H_r > 0\n",
        "$$\n",
        "\n",
        "$$\\frac{\\partial{b}}{\\partial{x}} = -0.1\\\\\n",
        "M(x) = M_0 - x M_1 \\:\\text{(accumulation rate, essentially a source term)}\\\\\n",
        "M_0 = 4.0 \\:\\text{m/yr}, \\:M_1 = 0.0002 \\:\\text{yr}^{-1}\\\\\n",
        "\\rho = 920 \\:\\text{kg/m}^3\\\\\n",
        "g = 9.8 \\:\\text{m/s}^2\\\\\n",
        "A = 10^{-16} \\: \\text{Pa}^{-3} \\text{a}^{-1}\\\\\n",
        "n = 3\\\\\n",
        "dx = 1.0 \\:\\text{km}, \\:L = 30 \\:\\text{km}\\\\\n",
        "dt = 1 \\:\\text{month}, \\:T = 2000 \\:\\text{yr}$$\n",
        "\n",
        "$$\n",
        "v_{x, \\text{surface}} = \\frac{2A}{n+1} \\tau_d^n H \\left\\{ \\phi + 1 \\right\\}\n",
        "$$\n",
        "\n",
        "The true solution will be generated using a staggered grid finite volume method on a fine, uniform grid.\n",
        "\n"
      ],
      "metadata": {
        "id": "aAsDNeVubVQ3"
      }
    },
    {
      "cell_type": "code",
      "source": [
        "A = 1e-16\n",
        "n = 3\n",
        "rho = 920.0\n",
        "g = 9.2 \n",
        "dx = 1.0\n",
        "dt = 1./12.\n",
        "\n",
        "def accum_rate_func(x):\n",
        "    M = 0.004-0.0002*x\n",
        "    return M\n",
        "\n",
        "def basal_topology_func(x):\n",
        "    #   b = 1.0 - 0.01*x \n",
        "    b = 0.03*np.sin(10*x)\n",
        "    return b\n",
        "\n",
        "def true_solution(L, T, accum_rate_func, basal_topology_func):\n",
        "\n",
        "\n",
        "\n",
        "    nx = int(L/dx)\n",
        "    nt = int(T/dt)\n",
        "    x = np.linspace(0,L,nx+1)\n",
        "    t = np.linspace(0,T,nt+1)\n",
        "\n",
        "    M = accum_rate_func(x)\n",
        "    b = basal_topology_func(x)\n",
        "\n",
        "    ### (1.e3)**n factor appears since we convert g from m/s^2 to km/s^2 \n",
        "    C = 2*A/(n+2) * (rho*g)**n * (1.e3)**n\n",
        "\n",
        "    print(f\"True value of C = {C}\")\n",
        "\n",
        "    h = np.zeros((nx+1,nt+1))\n",
        "    H = np.zeros((nx+1,nt+1))\n",
        "    h[:,0] = b\n",
        "    h[0,:] = b[0]\n",
        "    h[-1,:] = b[-1]\n",
        "\n",
        "    H[:,0] = h[:,0] - b\n",
        "    H[0,:] = h[0,:] - b[0]\n",
        "    H[-1,:] = h[-1,:] - b[-1]\n",
        "\n",
        "    for i in range(1,len(t)):\n",
        "\n",
        "        D = C *((H[1:,i-1]+H[:nx,i-1])/2.0)**(n+2) * ((h[1:,i-1] - h[:nx,i-1])/dx)**(n-1)\n",
        "\n",
        "        phi = -D*(h[1:,i-1]-h[:nx,i-1])/dx\n",
        "\n",
        "        h[1:nx,i] = h[1:nx,i-1] + M[1:nx]*dt - dt/dx * (phi[1:]-phi[:nx-1])\n",
        "        h[1:nx,i] = (h[1:nx,i] < b[1:nx]) * b[1:nx] + (h[1:nx,i] >= b[1:nx]) * h[1:nx,i]\n",
        "        H[:,i] = h[:,i] - b\n",
        "\n",
        "    alpha_sx = np.zeros((nx+1,nt+1))\n",
        "    tau_d = np.zeros((nx+1,nt+1))\n",
        "    alpha_sx[0, :] = (h[1, :] - h[0, :]) / dx\n",
        "    alpha_sx[-1, :] = (h[-1, :] - h[-2, :]) / dx\n",
        "    alpha_sx[1:-1, :] = (h[2:, :] - h[:-2, :]) / (2*dx)\n",
        "    tau_d = - rho * g * H * alpha_sx\n",
        "    phi = 0.0\n",
        "\n",
        "    vx_surface= 2*A/(n+2) * (tau_d)**n * (1.e3)**n * H * (phi + 1)\n",
        "\n",
        "    return x, t, H, h, b, vx_surface, alpha_sx, C, n"
      ],
      "metadata": {
        "id": "9KOQyM-DbA7E"
      },
      "execution_count": 4,
      "outputs": []
    },
    {
      "cell_type": "code",
      "source": [
        "L = 30.\n",
        "T = 50.\n",
        "\n",
        "x, t, H_true, h_true, b_true, vx_surface_true, alpha_sx_true, C_true, n_true = true_solution(L, T, accum_rate_func, basal_topology_func)"
      ],
      "metadata": {
        "colab": {
          "base_uri": "https://localhost:8080/"
        },
        "id": "GOmakxxibdlQ",
        "outputId": "80656ef9-c23d-46d8-bf8a-43051ff5325f"
      },
      "execution_count": 5,
      "outputs": [
        {
          "output_type": "stream",
          "name": "stdout",
          "text": [
            "True value of C = 24254.200053759996\n"
          ]
        }
      ]
    },
    {
      "cell_type": "code",
      "source": [
        "plt.plot(vx_surface_true[:,-1])\n",
        "plt.plot(alpha_sx_true[:,-1])"
      ],
      "metadata": {
        "colab": {
          "base_uri": "https://localhost:8080/",
          "height": 282
        },
        "id": "ebEJygUtm7CZ",
        "outputId": "4128eb77-3751-4524-c612-d28f8e9a338f"
      },
      "execution_count": 6,
      "outputs": [
        {
          "output_type": "execute_result",
          "data": {
            "text/plain": [
              "[<matplotlib.lines.Line2D at 0x7f1b8e6f60d0>]"
            ]
          },
          "metadata": {},
          "execution_count": 6
        },
        {
          "output_type": "display_data",
          "data": {
            "image/png": "[encoded data removed]",
            "text/plain": [
              "<Figure size 432x288 with 1 Axes>"
            ]
          },
          "metadata": {
            "needs_background": "light"
          }
        }
      ]
    },
    {
      "cell_type": "code",
      "source": [
        "plt.plot(H_true[:,-1])\n",
        "plt.plot(h_true[:,-1])\n",
        "plt.plot(b_true)"
      ],
      "metadata": {
        "colab": {
          "base_uri": "https://localhost:8080/",
          "height": 282
        },
        "id": "TROD9mIzqBr_",
        "outputId": "ef4f4901-1caf-4083-cb14-a1d88e798d7a"
      },
      "execution_count": 7,
      "outputs": [
        {
          "output_type": "execute_result",
          "data": {
            "text/plain": [
              "[<matplotlib.lines.Line2D at 0x7f1b8e1d10d0>]"
            ]
          },
          "metadata": {},
          "execution_count": 7
        },
        {
          "output_type": "display_data",
          "data": {
            "image/png": "[encoded data removed]",
            "text/plain": [
              "<Figure size 432x288 with 1 Axes>"
            ]
          },
          "metadata": {
            "needs_background": "light"
          }
        }
      ]
    },
    {
      "cell_type": "code",
      "source": [
        "alpha_sx_true[:,-1]"
      ],
      "metadata": {
        "colab": {
          "base_uri": "https://localhost:8080/"
        },
        "id": "TYm09WXtnIe6",
        "outputId": "d5842519-0c99-4e0d-e2f2-e111ab0489ea"
      },
      "execution_count": 8,
      "outputs": [
        {
          "output_type": "execute_result",
          "data": {
            "text/plain": [
              "array([ 0.17017277,  0.09989328, -0.0110692 , -0.00989031, -0.00250892,\n",
              "       -0.02451263,  0.00437964, -0.01952249, -0.00784887, -0.00340317,\n",
              "       -0.02370231,  0.00610677, -0.02323758, -0.00399195, -0.00681154,\n",
              "       -0.02138826,  0.00591207, -0.02530844, -0.00023268, -0.01108226,\n",
              "       -0.0129512 ,  0.01442544, -0.01625674,  0.0128557 , -0.00531696,\n",
              "       -0.00393308,  0.01191723, -0.01606574,  0.01504337, -0.0091792 ,\n",
              "       -0.05479804])"
            ]
          },
          "metadata": {},
          "execution_count": 8
        }
      ]
    },
    {
      "cell_type": "markdown",
      "source": [
        "## Inferring basal topography from surface velocity data and surface topography data\n",
        "\n",
        "Since we are training our network to find the diffusion coefficient, we want to enforce the physics, as well look to fit the data. We define the Loss function as follows (superscripts indicate the data) - \n",
        "\n",
        "\n",
        "$$\\text{PDE operator} \\quad \\mathcal{F}(x, t) = H_t (x,t) - 3 (C H^5 h_x^3)_x  - M(x) $$\n",
        "$$\\text{Loss function} \\quad \\mathcal{L} = \\frac{1}{N_i}\\sum_{i=1}^{N_i} \\left(h^i - h(x^i,0)\\right)^2 + \\frac{1}{N_b}\\sum_{i=1}^{N_b} \\left(h^i - h(x^i, t^i)\\right)^2 + \\frac{1}{N_c}\\sum_{i=1}^{N_c} \\left(\\mathcal{F}(x^i, t^i) \\right)^2 + \\frac{1}{N_d}\\sum_{i=1}^{N_d} \\left(h^i - h(x^i, t^i)\\right)^2$$\n",
        "\n",
        "where, $N_i$, $N_b$, $N_c$ are the initial value points, boundary value points and collocation points in the interior where we want the model to obey the physics.\n",
        "\n",
        "Here, we optimize wrt both the neural network parameters as well as the unknown accumulation rate $M$. $M$ is modeled as $M=B+Ax$ and we look to infer the coeffients A and B. $B_{\\text{true}} = 0.004, A_{\\text{true}} = -0.0002$"
      ],
      "metadata": {
        "id": "SuBvZqmjwMNu"
      }
    },
    {
      "cell_type": "code",
      "source": [
        "x = x.reshape(-1,1)\n",
        "t = t.reshape(-1,1)\n",
        "\n",
        "### Initial data\n",
        "Ni = 25\n",
        "random_i = np.random.permutation(x.shape[0])[:Ni]\n",
        "x_i = x[random_i]\n",
        "t_i = np.zeros((Ni, 1))\n",
        "h_i = np.reshape(h_true[random_i, 0], (-1,1))\n",
        "\n",
        "### Boundary data\n",
        "Nb = 500\n",
        "Nb = int(Nb/2) # Split points to two boundaries\n",
        "\n",
        "random_b = np.random.permutation(t.shape[0])[:Nb]\n",
        "x_l = np.zeros((Nb, 1))\n",
        "x_r = L*np.ones((Nb, 1))\n",
        "t_b = t[random_b]\n",
        "h_l = np.reshape(h_true[0, random_b], (-1,1))\n",
        "h_r = np.reshape(h_true[-1, random_b], (-1,1))\n",
        "\n",
        "### Collocation points - sample such that you don't sample the boundary and initial points again\n",
        "# Nc = 75000\n",
        "\n",
        "# x_grid = np.tile(x,(1, t.shape[0]))\n",
        "# t_grid = np.tile(t.T,(x.shape[0], 1))\n",
        "\n",
        "# temp = np.zeros((x.shape[0]-2)*(t.shape[0]-1), dtype = bool)\n",
        "# temp[:Nc] = 1\n",
        "# temp = np.random.permutation(temp)\n",
        "# temp = np.reshape(temp, (x.shape[0]-2, t.shape[0]-1))\n",
        "# random_c = np.zeros((x.shape[0], t.shape[0]), dtype = bool)\n",
        "# random_c[1:-1,1:] = temp\n",
        "# x_c = x_grid[random_c].reshape(-1,1)\n",
        "# t_c = t_grid[random_c].reshape(-1,1)\n",
        "# h_c = h_true[random_c].reshape(-1,1)\n",
        "\n",
        "\n",
        "x_grid = np.tile(x,(1, t.shape[0]))\n",
        "t_grid = np.tile(t.T,(x.shape[0], 1))\n",
        "x_c = x_grid[:,:].reshape(-1,1)\n",
        "t_c = t_grid[:,:].reshape(-1,1)\n",
        "h_c = h_true[:,:].reshape(-1,1)\n",
        "\n",
        "### Data points - sample such that you don't sample the boundary and initial points again\n",
        "# Nd = 75000\n",
        "\n",
        "# temp = np.zeros((x.shape[0]-2)*(t.shape[0]-1), dtype = bool)\n",
        "# temp[:Nd] = 1\n",
        "# temp = np.random.permutation(temp)\n",
        "# temp = np.reshape(temp, (x.shape[0]-2, t.shape[0]-1))\n",
        "# random_d = np.zeros((x.shape[0], t.shape[0]), dtype = bool)\n",
        "# random_d[1:-1,1:] = temp\n",
        "# x_d = x_grid[random_d].reshape(-1,1)\n",
        "# t_d = t_grid[random_d].reshape(-1,1)\n",
        "# h_d = h_true[random_d].reshape(-1,1)\n",
        "\n",
        "x_d = x_grid[:,:].reshape(-1,1)\n",
        "t_d = t_grid[:,:].reshape(-1,1)\n",
        "h_d = h_true[:,:].reshape(-1,1)\n",
        "vx_surface_d = vx_surface_true[:,:].reshape(-1,1)"
      ],
      "metadata": {
        "id": "weH9oPzkpINl"
      },
      "execution_count": 9,
      "outputs": []
    },
    {
      "cell_type": "code",
      "source": [
        "x_torch_i = torch.from_numpy(x_i).float()\n",
        "t_torch_i = torch.from_numpy(t_i).float()\n",
        "h_torch_i = torch.from_numpy(h_i).float()\n",
        "\n",
        "x_torch_l = torch.from_numpy(x_l).float()\n",
        "x_torch_r = torch.from_numpy(x_r).float()\n",
        "t_torch_b = torch.from_numpy(t_b).float()\n",
        "h_torch_l = torch.from_numpy(h_l).float()\n",
        "h_torch_r = torch.from_numpy(h_r).float()\n",
        "\n",
        "x_torch_c = torch.from_numpy(x_c).float()\n",
        "t_torch_c = torch.from_numpy(t_c).float()\n",
        "h_torch_c = torch.from_numpy(h_c).float()\n",
        "\n",
        "x_torch_d = torch.from_numpy(x_d).float()\n",
        "t_torch_d = torch.from_numpy(t_d).float()\n",
        "h_torch_d = torch.from_numpy(h_d).float()\n",
        "vx_surface_torch_d = torch.from_numpy(vx_surface_d).float()\n",
        "\n",
        "### Concatenate the respective x and t tensors \n",
        "X_i = torch.cat((x_torch_i, t_torch_i), 1)\n",
        "\n",
        "X_l = torch.cat((x_torch_l, t_torch_b), 1)\n",
        "X_r = torch.cat((x_torch_r, t_torch_b), 1)\n",
        "\n",
        "X_c = torch.cat((x_torch_c, t_torch_c), 1)\n",
        "\n",
        "X_d = torch.cat((x_torch_d, t_torch_d), 1)"
      ],
      "metadata": {
        "id": "xxZvwQHVMWmg"
      },
      "execution_count": 10,
      "outputs": []
    },
    {
      "cell_type": "code",
      "source": [
        "X_i = X_i.to(device)\n",
        "H_small_i = h_torch_i.to(device)\n",
        "\n",
        "X_l = X_l.to(device)\n",
        "H_small_l = h_torch_l.to(device)\n",
        "X_r = X_r.to(device)\n",
        "H_small_r = h_torch_r.to(device)\n",
        "\n",
        "X_c = X_c.to(device)\n",
        "H_small_c = h_torch_c.to(device)\n",
        "\n",
        "X_d = X_d.to(device)\n",
        "H_small_d = h_torch_d.to(device)\n",
        "### 'small' makes no sense for this variable name, but we just go along with it\n",
        "vx_surface_small_d = vx_surface_torch_d.to(device)"
      ],
      "metadata": {
        "id": "9pMBDYP7Mf8m"
      },
      "execution_count": 11,
      "outputs": []
    },
    {
      "cell_type": "code",
      "source": [
        "X_d.shape[0]"
      ],
      "metadata": {
        "colab": {
          "base_uri": "https://localhost:8080/"
        },
        "id": "PI32WFUBV-cg",
        "outputId": "314e23ce-edcb-4794-b78c-aa4199bceaa4"
      },
      "execution_count": 12,
      "outputs": [
        {
          "output_type": "execute_result",
          "data": {
            "text/plain": [
              "18631"
            ]
          },
          "metadata": {},
          "execution_count": 12
        }
      ]
    },
    {
      "cell_type": "code",
      "source": [
        "X_c.shape"
      ],
      "metadata": {
        "colab": {
          "base_uri": "https://localhost:8080/"
        },
        "id": "7ojzk6yQaC1C",
        "outputId": "67df34ff-86c5-4fea-a636-046f8afca63c"
      },
      "execution_count": 13,
      "outputs": [
        {
          "output_type": "execute_result",
          "data": {
            "text/plain": [
              "torch.Size([18631, 2])"
            ]
          },
          "metadata": {},
          "execution_count": 13
        }
      ]
    },
    {
      "cell_type": "code",
      "source": [
        "PINN = physics_informed_NN()\n",
        "PINN.to(device)\n",
        "\n",
        "optimizer = torch.optim.Adam(PINN.parameters(), lr=0.0001)\n",
        "criterion = nn.MSELoss()\n",
        "my_lr_scheduler = torch.optim.lr_scheduler.StepLR(optimizer=optimizer, step_size=1, gamma=0.995)\n",
        "# my_lr_scheduler = torch.optim.lr_scheduler.ReduceLROnPlateau(optimizer=optimizer)\n",
        "#C = torch.tensor(0., requires_grad = True)\n",
        "\n",
        "# M = torch.zeros((Nc), requires_grad = True, dtype = float, device = device)\n",
        "# A = torch.tensor(0., requires_grad = True, device = device)\n",
        "# B = torch.tensor(0., requires_grad = True, device = device)\n",
        "# optimizer.add_param_group({'params': A})\n",
        "# optimizer.add_param_group({'params': B})\n",
        "\n",
        "b = torch.ones((int(L/dx)+1,1), requires_grad = True, device = device)\n",
        "optimizer.add_param_group({'params': b, 'lr':5.e-2})\n",
        "b.shape"
      ],
      "metadata": {
        "id": "C5DU7lnjMjRB"
      },
      "execution_count": null,
      "outputs": []
    },
    {
      "cell_type": "code",
      "source": [
        "statistics = []\n",
        "for epochs in range(2000):\n",
        "\n",
        "    X_c_clone = X_c.clone()\n",
        "    X_c_index = X_c[:,0]/dx\n",
        "    X_c_index = X_c_index.to(torch.int64)\n",
        "    X_c_clone.requires_grad = True\n",
        "    h_pred = PINN(X_c_clone)\n",
        "\n",
        "    # b = 1.0 - 0.01*X_c_clone[:,0]\n",
        "    # b = torch.reshape(b, (-1,1))\n",
        "    M = 0.004-0.0002*X_c_clone[:,0]\n",
        "\n",
        "    H_pred = torch.sub(h_pred, b[X_c_index])\n",
        "    gradients_h = torch.autograd.grad(torch.sum(h_pred), X_c_clone, create_graph=True)\n",
        "    h_x = gradients_h[0][:,0]\n",
        "    h_t = gradients_h[0][:,1]\n",
        "    hessians_h = torch.autograd.grad(torch.sum(h_x), X_c_clone, create_graph=True)\n",
        "    h_xx = hessians_h[0][:,0]\n",
        "\n",
        "    gradients_H = torch.autograd.grad(torch.sum(H_pred), X_c_clone, create_graph=True)\n",
        "    H_x = gradients_H[0][:,0]\n",
        "\n",
        "    flux = - C_true * torch.pow(torch.squeeze(H_pred), 5) * torch.pow(torch.abs(h_x), 2) * h_x\n",
        "    gradients_flux = torch.autograd.grad(torch.sum(flux), X_c_clone, create_graph=True)\n",
        "    flux_x = - gradients_flux[0][:,0]\n",
        "    # M = B + A*X_c_clone[:, 0]\n",
        "    pde_rhs = M + flux_x\n",
        "\n",
        "\n",
        "    collocation_mse = criterion(h_t, pde_rhs)\n",
        "\n",
        "    initial_mse = criterion(PINN(X_i), H_small_i)\n",
        "    left_mse = criterion(PINN(X_l), H_small_l)\n",
        "    right_mse = criterion(PINN(X_r), H_small_r)\n",
        "    data_h_mse = criterion(PINN(X_d), H_small_d)\n",
        "\n",
        "    X_d_clone = X_d.clone()\n",
        "    X_d_index = X_d[:,0]/dx\n",
        "    X_d_index = X_d_index.to(torch.int64)\n",
        "    X_d_clone.requires_grad = True\n",
        "    h_pred_for_vx = PINN(X_d_clone)\n",
        "\n",
        "    alpha_pred_for_vx = torch.autograd.grad(torch.sum(h_pred_for_vx), X_d_clone, create_graph=True)\n",
        "\n",
        "    tau_d = - rho * g * torch.squeeze(torch.sub(h_pred_for_vx, b[X_d_index])) * alpha_pred_for_vx[0][:,0]\n",
        "    phi = 0.0\n",
        "    vx_surface_pred = 2*A/(n+2) * (tau_d)**n * (1.e3)**n * torch.squeeze(torch.sub(h_pred_for_vx,b[X_d_index])) * (phi + 1)\n",
        "    data_vx_mse = criterion(vx_surface_pred, torch.squeeze(vx_surface_small_d))\n",
        "\n",
        "    loss = right_mse + left_mse + initial_mse + 40*collocation_mse + 40*data_h_mse + 20*data_vx_mse\n",
        "\n",
        "    optimizer.zero_grad()  \n",
        "    loss.backward()       \n",
        "    xm.optimizer_step(optimizer)\n",
        "    xm.mark_step()\n",
        "    # optimizer.step()\n",
        "    my_lr_scheduler.step()\n",
        "\n",
        "    if (epochs % 5 == 0):\n",
        "        statistics.append([epochs, loss.cpu().data.numpy(), left_mse.cpu().data.numpy(), right_mse.cpu().data.numpy(), initial_mse.cpu().data.numpy(), collocation_mse.cpu().data.numpy(), data_h_mse.cpu().data.numpy()])\n",
        "        print (f'epoch = {epochs:.1e}, loss = {loss:.1e}, L2_error_b = {np.linalg.norm(b.cpu().data.numpy()-b_true):.1e}, lr = {my_lr_scheduler.get_last_lr()}, l_loss = {left_mse}, r_loss = {right_mse}, i_mse = {initial_mse}, c_mse = {collocation_mse}, d_mse = {data_h_mse}')"
      ],
      "metadata": {
        "id": "mm3OslYyMlqB"
      },
      "execution_count": null,
      "outputs": []
    },
    {
      "cell_type": "code",
      "source": [
        "b"
      ],
      "metadata": {
        "colab": {
          "base_uri": "https://localhost:8080/"
        },
        "id": "clofJquNYZ4f",
        "outputId": "f5cbb5f4-861c-439f-e111-553ab1511a22"
      },
      "execution_count": null,
      "outputs": [
        {
          "output_type": "execute_result",
          "data": {
            "text/plain": [
              "tensor([[ 0.1766],\n",
              "        [ 0.5475],\n",
              "        [ 0.1022],\n",
              "        [ 0.1067],\n",
              "        [ 0.1232],\n",
              "        [ 0.0669],\n",
              "        [ 0.1264],\n",
              "        [ 0.1731],\n",
              "        [ 0.1510],\n",
              "        [ 0.3396],\n",
              "        [ 0.4133],\n",
              "        [ 0.4217],\n",
              "        [ 0.4179],\n",
              "        [ 0.4598],\n",
              "        [ 0.4252],\n",
              "        [ 0.4714],\n",
              "        [ 0.4617],\n",
              "        [ 0.4565],\n",
              "        [ 0.5028],\n",
              "        [ 0.5218],\n",
              "        [ 0.4799],\n",
              "        [-0.0232],\n",
              "        [ 0.2653],\n",
              "        [ 0.2663],\n",
              "        [ 0.2632],\n",
              "        [ 0.2670],\n",
              "        [ 0.2869],\n",
              "        [ 0.3044],\n",
              "        [ 0.3078],\n",
              "        [ 0.3087],\n",
              "        [ 0.3087]], device='xla:1', requires_grad=True)"
            ]
          },
          "metadata": {},
          "execution_count": 18
        }
      ]
    },
    {
      "cell_type": "code",
      "source": [
        "plt.plot(b.cpu().data.numpy())\n",
        "plt.plot(b_true)"
      ],
      "metadata": {
        "colab": {
          "base_uri": "https://localhost:8080/",
          "height": 282
        },
        "id": "2Q8RZ22byT0W",
        "outputId": "11cfd53b-2565-42db-e284-86be0087f810"
      },
      "execution_count": null,
      "outputs": [
        {
          "output_type": "execute_result",
          "data": {
            "text/plain": [
              "[<matplotlib.lines.Line2D at 0x7fb7800b0850>]"
            ]
          },
          "metadata": {},
          "execution_count": 19
        },
        {
          "output_type": "display_data",
          "data": {
            "image/png": "[encoded data removed]",
            "text/plain": [
              "<Figure size 432x288 with 1 Axes>"
            ]
          },
          "metadata": {
            "needs_background": "light"
          }
        }
      ]
    },
    {
      "cell_type": "code",
      "source": [
        "PINN = physics_informed_NN()\n",
        "PINN.to(device)\n",
        "\n",
        "optimizer = torch.optim.Adam(PINN.parameters(), lr=0.0001)\n",
        "criterion = nn.MSELoss()\n",
        "my_lr_scheduler = torch.optim.lr_scheduler.StepLR(optimizer=optimizer, step_size=1, gamma=0.995)\n",
        "# my_lr_scheduler = torch.optim.lr_scheduler.ReduceLROnPlateau(optimizer=optimizer)\n",
        "#C = torch.tensor(0., requires_grad = True)\n",
        "\n",
        "# M = torch.zeros((Nc), requires_grad = True, dtype = float, device = device)\n",
        "B1 = torch.tensor(1., requires_grad = True, device = device)\n",
        "B2 = torch.tensor(20., requires_grad = True, device = device)\n",
        "optimizer.add_param_group({'params': B1, 'lr':1.e-1})\n",
        "optimizer.add_param_group({'params': B2, 'lr':1.e-1})\n",
        "\n",
        "# b = torch.ones((int(L/dx)+1,1), requires_grad = True, device = device)\n",
        "# optimizer.add_param_group({'params': b, 'lr':5.e-2})\n",
        "# b.shape"
      ],
      "metadata": {
        "id": "PFEcFGjVAxKx"
      },
      "execution_count": 14,
      "outputs": []
    },
    {
      "cell_type": "code",
      "source": [
        "statistics = []\n",
        "for epochs in range(2000):\n",
        "\n",
        "    X_c_clone = X_c.clone()\n",
        "    X_c_index = X_c[:,0]/dx\n",
        "    X_c_index = X_c_index.to(torch.int64)\n",
        "    X_c_clone.requires_grad = True\n",
        "    h_pred = PINN(X_c_clone)\n",
        "\n",
        "    # b = 1.0 - 0.01*X_c_clone[:,0]\n",
        "    # b = torch.reshape(b, (-1,1))\n",
        "    M = 0.004-0.0002*X_c_clone[:,0]\n",
        "    b = B1* torch.sin(B2*X_c_clone[:,0])\n",
        "\n",
        "    H_pred = torch.sub(h_pred, b[X_c_index])\n",
        "    gradients_h = torch.autograd.grad(torch.sum(h_pred), X_c_clone, create_graph=True)\n",
        "    h_x = gradients_h[0][:,0]\n",
        "    h_t = gradients_h[0][:,1]\n",
        "    hessians_h = torch.autograd.grad(torch.sum(h_x), X_c_clone, create_graph=True)\n",
        "    h_xx = hessians_h[0][:,0]\n",
        "\n",
        "    gradients_H = torch.autograd.grad(torch.sum(H_pred), X_c_clone, create_graph=True)\n",
        "    H_x = gradients_H[0][:,0]\n",
        "\n",
        "    flux = - C_true * torch.pow(torch.squeeze(H_pred), 5) * torch.pow(torch.abs(h_x), 2) * h_x\n",
        "    gradients_flux = torch.autograd.grad(torch.sum(flux), X_c_clone, create_graph=True)\n",
        "    flux_x = - gradients_flux[0][:,0]\n",
        "    # M = B + A*X_c_clone[:, 0]\n",
        "    pde_rhs = M + flux_x\n",
        "\n",
        "\n",
        "    collocation_mse = criterion(h_t, pde_rhs)\n",
        "\n",
        "    initial_mse = criterion(PINN(X_i), H_small_i)\n",
        "    left_mse = criterion(PINN(X_l), H_small_l)\n",
        "    right_mse = criterion(PINN(X_r), H_small_r)\n",
        "    data_h_mse = criterion(PINN(X_d), H_small_d)\n",
        "\n",
        "    X_d_clone = X_d.clone()\n",
        "    X_d_index = X_d[:,0]/dx\n",
        "    X_d_index = X_d_index.to(torch.int64)\n",
        "    X_d_clone.requires_grad = True\n",
        "    h_pred_for_vx = PINN(X_d_clone)\n",
        "\n",
        "    alpha_pred_for_vx = torch.autograd.grad(torch.sum(h_pred_for_vx), X_d_clone, create_graph=True)\n",
        "\n",
        "    tau_d = - rho * g * torch.sub(torch.squeeze(h_pred_for_vx), b[X_d_index]) * alpha_pred_for_vx[0][:,0]\n",
        "    phi = 0.0\n",
        "    vx_surface_pred = 2*A/(n+2) * (tau_d)**n * (1.e3)**n * torch.sub(torch.squeeze(h_pred_for_vx),b[X_d_index]) * (phi + 1)\n",
        "    data_vx_mse = criterion(vx_surface_pred, torch.squeeze(vx_surface_small_d))\n",
        "\n",
        "    loss = right_mse + left_mse + initial_mse + 40*collocation_mse + 40*data_h_mse + 20*data_vx_mse\n",
        "\n",
        "    optimizer.zero_grad()  \n",
        "    loss.backward()       \n",
        "    xm.optimizer_step(optimizer)\n",
        "    xm.mark_step()\n",
        "    # optimizer.step()\n",
        "    my_lr_scheduler.step()\n",
        "\n",
        "    if (epochs % 5 == 0):\n",
        "        statistics.append([epochs, loss.cpu().data.numpy(), left_mse.cpu().data.numpy(), right_mse.cpu().data.numpy(), initial_mse.cpu().data.numpy(), collocation_mse.cpu().data.numpy(), data_h_mse.cpu().data.numpy()])\n",
        "        print (f'epoch = {epochs:.1e}, loss = {loss:.1e}, B1 = {B1.cpu().data.numpy():.1e}, B2 = {B2.cpu().data.numpy():.1e}, lr = {my_lr_scheduler.get_last_lr()}, l_loss = {left_mse}, r_loss = {right_mse}, i_mse = {initial_mse}, c_mse = {collocation_mse}, d_mse = {data_h_mse}')"
      ],
      "metadata": {
        "id": "Aw_AF3ncputw",
        "outputId": "83aaadc7-5013-4537-cedf-8b93e9ba34d6",
        "colab": {
          "base_uri": "https://localhost:8080/"
        }
      },
      "execution_count": 15,
      "outputs": [
        {
          "output_type": "stream",
          "name": "stdout",
          "text": [
            "epoch = 0.0e+00, loss = 6.0e+02, B1 = 9.0e-01, B2 = 2.0e+01, lr = [9.95e-05, 0.0995, 0.0995], l_loss = 0.005314144305884838, r_loss = 0.0016807037172839046, i_mse = 0.005305237136781216, c_mse = 14.993748664855957, d_mse = 0.013582362793385983\n",
            "epoch = 5.0e+00, loss = 8.7e-01, B1 = 5.2e-01, B2 = 2.0e+01, lr = [9.703725093562657e-05, 0.09703725093562657, 0.09703725093562657], l_loss = 0.0021145783830434084, r_loss = 0.002738736104220152, i_mse = 0.0005769066046923399, c_mse = 0.020024478435516357, d_mse = 0.0016914341831579804\n",
            "epoch = 1.0e+01, loss = 1.1e+01, B1 = 3.2e-01, B2 = 1.9e+01, lr = [9.463545798134431e-05, 0.09463545798134429, 0.09463545798134429], l_loss = 0.0003176713362336159, r_loss = 0.004925773944705725, i_mse = 0.001748372451402247, c_mse = 0.2650236189365387, d_mse = 0.0029393041040748358\n",
            "epoch = 1.5e+01, loss = 3.3e+00, B1 = 1.7e-01, B2 = 1.9e+01, lr = [9.229311239742364e-05, 0.09229311239742362, 0.09229311239742362], l_loss = 2.8585745894815773e-05, r_loss = 0.004436533432453871, i_mse = 0.002176447305828333, c_mse = 0.0772847831249237, d_mse = 0.004025835543870926\n",
            "epoch = 2.0e+01, loss = 3.3e-01, B1 = 5.9e-02, B2 = 1.9e+01, lr = [9.000874278732444e-05, 0.09000874278732444, 0.09000874278732444], l_loss = 0.00019362654711585492, r_loss = 0.0033972756937146187, i_mse = 0.001692729303613305, c_mse = 0.003025815589353442, d_mse = 0.0050413599237799644\n",
            "epoch = 2.5e+01, loss = 2.4e-01, B1 = -7.4e-03, B2 = 1.9e+01, lr = [8.77809141734057e-05, 0.08778091417340572, 0.08778091417340572], l_loss = 0.00041985829011537135, r_loss = 0.0029569389298558235, i_mse = 0.0014014110201969743, c_mse = 3.560134064173326e-05, d_mse = 0.0058996109291911125\n",
            "epoch = 3.0e+01, loss = 3.4e-01, B1 = -4.8e-02, B2 = 1.9e+01, lr = [8.560822709551223e-05, 0.08560822709551225, 0.08560822709551225], l_loss = 0.0006107831140980124, r_loss = 0.002788571873679757, i_mse = 0.001257586874999106, c_mse = 0.0019161147065460682, d_mse = 0.006506831385195255\n",
            "epoch = 3.5e+01, loss = 5.6e-01, B1 = -6.9e-02, B2 = 1.9e+01, lr = [8.348931673187264e-05, 0.08348931673187264, 0.08348931673187264], l_loss = 0.0007407470257021487, r_loss = 0.0027145007625222206, i_mse = 0.001176868798211217, c_mse = 0.006876766681671143, d_mse = 0.006892968434840441\n",
            "epoch = 4.0e+01, loss = 7.1e-01, B1 = -7.6e-02, B2 = 1.9e+01, lr = [8.142285204175607e-05, 0.0814228520417561, 0.0814228520417561], l_loss = 0.0008037604857236147, r_loss = 0.002661509672179818, i_mse = 0.0011195854749530554, c_mse = 0.01050751842558384, d_mse = 0.007095864042639732\n",
            "epoch = 4.5e+01, loss = 7.0e-01, B1 = -7.3e-02, B2 = 1.9e+01, lr = [7.940753492934953e-05, 0.07940753492934956, 0.07940753492934956], l_loss = 0.0008146909531205893, r_loss = 0.002617105608806014, i_mse = 0.0010785775957629085, c_mse = 0.01015743799507618, d_mse = 0.00715420488268137\n",
            "epoch = 5.0e+01, loss = 5.8e-01, B1 = -6.5e-02, B2 = 1.9e+01, lr = [7.744209942832988e-05, 0.0774420994283299, 0.0774420994283299], l_loss = 0.000795104366261512, r_loss = 0.0025782829616218805, i_mse = 0.0010422016493976116, c_mse = 0.007372304331511259, d_mse = 0.00712079182267189\n",
            "epoch = 5.5e+01, loss = 4.7e-01, B1 = -5.4e-02, B2 = 1.9e+01, lr = [7.552531090661899e-05, 0.075525310906619, 0.075525310906619], l_loss = 0.0007586728897877038, r_loss = 0.0025372980162501335, i_mse = 0.001013882108964026, c_mse = 0.004524207673966885, d_mse = 0.007042719051241875\n",
            "epoch = 6.0e+01, loss = 3.9e-01, B1 = -4.3e-02, B2 = 1.9e+01, lr = [7.365596529082211e-05, 0.07365596529082213, 0.07365596529082213], l_loss = 0.0007209467003121972, r_loss = 0.0025081161875277758, i_mse = 0.000988945597782731, c_mse = 0.002565796719864011, d_mse = 0.006956486497074366\n",
            "epoch = 6.5e+01, loss = 3.4e-01, B1 = -3.3e-02, B2 = 1.9e+01, lr = [7.183288830986237e-05, 0.07183288830986238, 0.07183288830986238], l_loss = 0.0006936434656381607, r_loss = 0.002487277379259467, i_mse = 0.0009725088602863252, c_mse = 0.0014175607357174158, d_mse = 0.006890828255563974\n",
            "epoch = 7.0e+01, loss = 3.1e-01, B1 = -2.5e-02, B2 = 1.9e+01, lr = [7.005493475733617e-05, 0.0700549347573362, 0.0700549347573362], l_loss = 0.000672634516377002, r_loss = 0.002471325220540166, i_mse = 0.0009640956996008754, c_mse = 0.0007802378968335688, d_mse = 0.006835475564002991\n",
            "epoch = 7.5e+01, loss = 2.9e-01, B1 = -1.9e-02, B2 = 1.9e+01, lr = [6.832098777212639e-05, 0.06832098777212643, 0.06832098777212643], l_loss = 0.0006542043411172926, r_loss = 0.0024573500268161297, i_mse = 0.0009540825849398971, c_mse = 0.0004311720549594611, d_mse = 0.006789813749492168\n",
            "epoch = 8.0e+01, loss = 2.8e-01, B1 = -1.4e-02, B2 = 1.9e+01, lr = [6.662995813682113e-05, 0.06662995813682115, 0.06662995813682115], l_loss = 0.0006415482494048774, r_loss = 0.002452618908137083, i_mse = 0.0009533294360153377, c_mse = 0.00024637902970425785, d_mse = 0.006757549941539764\n",
            "epoch = 8.5e+01, loss = 2.8e-01, B1 = -1.0e-02, B2 = 1.9e+01, lr = [6.498078359349755e-05, 0.06498078359349757, 0.06498078359349757], l_loss = 0.0006303261616267264, r_loss = 0.0024491313379257917, i_mse = 0.0009523862972855568, c_mse = 0.00014730959082953632, d_mse = 0.006729592103511095\n",
            "epoch = 9.0e+01, loss = 2.8e-01, B1 = -7.6e-03, B2 = 1.9e+01, lr = [6.337242817644088e-05, 0.0633724281764409, 0.0633724281764409], l_loss = 0.0006217992049641907, r_loss = 0.0024474449455738068, i_mse = 0.0009504967601969838, c_mse = 9.335005597677082e-05, d_mse = 0.006707024294883013\n",
            "epoch = 9.5e+01, loss = 2.7e-01, B1 = -5.6e-03, B2 = 1.9e+01, lr = [6.180388156137954e-05, 0.061803881561379566, 0.061803881561379566], l_loss = 0.0006156623712740839, r_loss = 0.002445218386128545, i_mse = 0.0009491012897342443, c_mse = 6.442677113227546e-05, d_mse = 0.0066909282468259335\n",
            "epoch = 1.0e+02, loss = 2.7e-01, B1 = -4.0e-03, B2 = 1.9e+01, lr = [6.027415843082743e-05, 0.06027415843082746, 0.06027415843082746], l_loss = 0.0006074688863009214, r_loss = 0.002443759934976697, i_mse = 0.000947818742133677, c_mse = 4.8641286412021145e-05, d_mse = 0.006668173708021641\n",
            "epoch = 1.0e+02, loss = 2.7e-01, B1 = -2.9e-03, B2 = 1.9e+01, lr = [5.87822978551348e-05, 0.05878229785513483, 0.05878229785513483], l_loss = 0.000600221217609942, r_loss = 0.0024440072011202574, i_mse = 0.0009479888831265271, c_mse = 4.010734483017586e-05, d_mse = 0.006647780537605286\n",
            "epoch = 1.1e+02, loss = 2.7e-01, B1 = -2.1e-03, B2 = 1.9e+01, lr = [5.7327362688858874e-05, 0.05732736268885891, 0.05732736268885891], l_loss = 0.0005934409564360976, r_loss = 0.002444836078211665, i_mse = 0.0009484909242019057, c_mse = 3.54325893567875e-05, d_mse = 0.006628382485359907\n",
            "epoch = 1.2e+02, loss = 2.7e-01, B1 = -1.5e-03, B2 = 1.9e+01, lr = [5.590843898207512e-05, 0.05590843898207514, 0.05590843898207514], l_loss = 0.0005877278163097799, r_loss = 0.002446109429001808, i_mse = 0.0009504097397439182, c_mse = 3.285507409600541e-05, d_mse = 0.006612061522901058\n",
            "epoch = 1.2e+02, loss = 2.7e-01, B1 = -1.0e-03, B2 = 1.9e+01, lr = [5.452463540625919e-05, 0.05452463540625921, 0.05452463540625921], l_loss = 0.0005800228682346642, r_loss = 0.002447119215503335, i_mse = 0.0009528828086331487, c_mse = 3.1418647267855704e-05, d_mse = 0.00659329304471612\n",
            "epoch = 1.2e+02, loss = 2.7e-01, B1 = -6.6e-04, B2 = 1.9e+01, lr = [5.3175082694379114e-05, 0.05317508269437913, 0.05317508269437913], l_loss = 0.0005726457457058132, r_loss = 0.002447825390845537, i_mse = 0.0009512769756838679, c_mse = 3.056968853343278e-05, d_mse = 0.006573311518877745\n",
            "epoch = 1.3e+02, loss = 2.7e-01, B1 = -4.1e-04, B2 = 1.9e+01, lr = [5.1858933094845826e-05, 0.05185893309484584, 0.05185893309484584], l_loss = 0.000566836737561971, r_loss = 0.002447753679007292, i_mse = 0.0009530254756100476, c_mse = 3.0066714316490106e-05, d_mse = 0.006556462962180376\n",
            "epoch = 1.4e+02, loss = 2.7e-01, B1 = -2.2e-04, B2 = 1.9e+01, lr = [5.0575359838979126e-05, 0.05057535983897914, 0.05057535983897914], l_loss = 0.0005614678375422955, r_loss = 0.002445958787575364, i_mse = 0.0009535903809592128, c_mse = 2.9742204787908122e-05, d_mse = 0.006539949681609869\n",
            "epoch = 1.4e+02, loss = 2.7e-01, B1 = -7.4e-05, B2 = 1.9e+01, lr = [4.932355662165454e-05, 0.04932355662165456, 0.04932355662165456], l_loss = 0.0005556486430577934, r_loss = 0.002446183003485203, i_mse = 0.0009559133904986084, c_mse = 2.9541457479353994e-05, d_mse = 0.006522151175886393\n",
            "epoch = 1.4e+02, loss = 2.7e-01, B1 = 3.7e-05, B2 = 1.9e+01, lr = [4.81027370948048e-05, 0.04810273709480481, 0.04810273709480481], l_loss = 0.0005498945829458535, r_loss = 0.002446473576128483, i_mse = 0.0009566828375682235, c_mse = 2.9410075512714684e-05, d_mse = 0.006507121492177248\n",
            "epoch = 1.5e+02, loss = 2.6e-01, B1 = 1.2e-04, B2 = 1.9e+01, lr = [4.691213437345775e-05, 0.046912134373457745, 0.046912134373457745], l_loss = 0.0005448018782772124, r_loss = 0.0024485886096954346, i_mse = 0.0009600829216651618, c_mse = 2.932702591351699e-05, d_mse = 0.006492643617093563\n",
            "epoch = 1.6e+02, loss = 2.6e-01, B1 = 1.9e-04, B2 = 1.9e+01, lr = [4.5751000554000526e-05, 0.045751000554000526, 0.045751000554000526], l_loss = 0.0005394300096668303, r_loss = 0.002449511317536235, i_mse = 0.0009597620810382068, c_mse = 2.9266248020576313e-05, d_mse = 0.006478541996330023\n",
            "epoch = 1.6e+02, loss = 2.6e-01, B1 = 2.5e-04, B2 = 1.9e+01, lr = [4.461860624436722e-05, 0.04461860624436723, 0.04461860624436723], l_loss = 0.0005345221143215895, r_loss = 0.0024516538251191378, i_mse = 0.0009621368953958154, c_mse = 2.9217479095677845e-05, d_mse = 0.006464701611548662\n",
            "epoch = 1.6e+02, loss = 2.6e-01, B1 = 2.9e-04, B2 = 1.9e+01, lr = [4.351424010585504e-05, 0.04351424010585505, 0.04351424010585505], l_loss = 0.000530129240360111, r_loss = 0.002451640088111162, i_mse = 0.0009597750031389296, c_mse = 2.9168581022531725e-05, d_mse = 0.0064512211829423904\n",
            "epoch = 1.7e+02, loss = 2.6e-01, B1 = 3.3e-04, B2 = 1.9e+01, lr = [4.2437208406281016e-05, 0.04243720840628103, 0.04243720840628103], l_loss = 0.0005244969506748021, r_loss = 0.0024529187940061092, i_mse = 0.000962486257776618, c_mse = 2.9124925276846625e-05, d_mse = 0.006434350740164518\n",
            "epoch = 1.8e+02, loss = 2.6e-01, B1 = 3.6e-04, B2 = 1.9e+01, lr = [4.138683458419871e-05, 0.04138683458419873, 0.04138683458419873], l_loss = 0.0005202569882385433, r_loss = 0.0024551081005483866, i_mse = 0.0009625739185139537, c_mse = 2.9091708711348474e-05, d_mse = 0.0064220549538731575\n",
            "epoch = 1.8e+02, loss = 2.6e-01, B1 = 3.8e-04, B2 = 1.9e+01, lr = [4.036245882390109e-05, 0.0403624588239011, 0.0403624588239011], l_loss = 0.000514803163241595, r_loss = 0.0024552831891924143, i_mse = 0.0009630468557588756, c_mse = 2.9054270271444693e-05, d_mse = 0.00640721432864666\n",
            "epoch = 1.8e+02, loss = 2.6e-01, B1 = 4.0e-04, B2 = 1.9e+01, lr = [3.936343764094256e-05, 0.039363437640942564, 0.039363437640942564], l_loss = 0.0005098326364532113, r_loss = 0.0024541455786675215, i_mse = 0.0009646040853112936, c_mse = 2.9016626285738312e-05, d_mse = 0.006391707807779312\n",
            "epoch = 1.9e+02, loss = 2.6e-01, B1 = 4.2e-04, B2 = 1.9e+01, lr = [3.838914347791991e-05, 0.03838914347791991, 0.03838914347791991], l_loss = 0.0005053678178228438, r_loss = 0.0024546715430915356, i_mse = 0.0009654701570980251, c_mse = 2.8981497962377034e-05, d_mse = 0.0063782487995922565\n",
            "epoch = 2.0e+02, loss = 2.6e-01, B1 = 4.4e-04, B2 = 1.9e+01, lr = [3.7438964310258147e-05, 0.03743896431025816, 0.03743896431025816], l_loss = 0.0004999245284125209, r_loss = 0.0024560780730098486, i_mse = 0.0009666746482253075, c_mse = 2.8956777896382846e-05, d_mse = 0.006362719461321831\n",
            "epoch = 2.0e+02, loss = 2.6e-01, B1 = 4.5e-04, B2 = 1.9e+01, lr = [3.651230326175363e-05, 0.036512303261753636, 0.036512303261753636], l_loss = 0.0004960078513249755, r_loss = 0.0024571677204221487, i_mse = 0.0009685784461908042, c_mse = 2.8928208848810755e-05, d_mse = 0.006349974777549505\n",
            "epoch = 2.0e+02, loss = 2.6e-01, B1 = 4.6e-04, B2 = 1.9e+01, lr = [3.560857822963299e-05, 0.035608578229633, 0.035608578229633], l_loss = 0.000490657810587436, r_loss = 0.0024572715628892183, i_mse = 0.0009684146498329937, c_mse = 2.889577081077732e-05, d_mse = 0.00633482588455081\n",
            "epoch = 2.1e+02, loss = 2.6e-01, B1 = 4.8e-04, B2 = 1.9e+01, lr = [3.472722151889233e-05, 0.03472722151889233, 0.03472722151889233], l_loss = 0.00048624176997691393, r_loss = 0.0024577805306762457, i_mse = 0.0009679330396465957, c_mse = 2.8869271773146465e-05, d_mse = 0.006322090979665518\n",
            "epoch = 2.2e+02, loss = 2.6e-01, B1 = 4.9e-04, B2 = 1.9e+01, lr = [3.386767948568689e-05, 0.033867679485686884, 0.033867679485686884], l_loss = 0.0004823724739253521, r_loss = 0.0024580953177064657, i_mse = 0.0009689431171864271, c_mse = 2.884896457544528e-05, d_mse = 0.0063094827346503735\n",
            "epoch = 2.2e+02, loss = 2.6e-01, B1 = 4.9e-04, B2 = 1.9e+01, lr = [3.3029412189547446e-05, 0.033029412189547434, 0.033029412189547434], l_loss = 0.00047762601752765477, r_loss = 0.0024599076714366674, i_mse = 0.0009705438860692084, c_mse = 2.882691114791669e-05, d_mse = 0.006296528968960047\n",
            "epoch = 2.2e+02, loss = 2.6e-01, B1 = 5.0e-04, B2 = 1.9e+01, lr = [3.2211893054204596e-05, 0.0322118930542046, 0.0322118930542046], l_loss = 0.00047428521793335676, r_loss = 0.0024613577406853437, i_mse = 0.0009729874436743557, c_mse = 2.881047475966625e-05, d_mse = 0.006287768948823214\n",
            "epoch = 2.3e+02, loss = 2.6e-01, B1 = 5.1e-04, B2 = 1.9e+01, lr = [3.141460853680822e-05, 0.03141460853680822, 0.03141460853680822], l_loss = 0.000470608239993453, r_loss = 0.002460938412696123, i_mse = 0.0009725847048684955, c_mse = 2.8782817025785334e-05, d_mse = 0.006276612635701895\n",
            "epoch = 2.4e+02, loss = 2.6e-01, B1 = 5.2e-04, B2 = 1.9e+01, lr = [3.0637057805334024e-05, 0.03063705780533402, 0.03063705780533402], l_loss = 0.00046747425221838057, r_loss = 0.0024620098993182182, i_mse = 0.0009736776701174676, c_mse = 2.8755182938766666e-05, d_mse = 0.006264883559197187\n",
            "epoch = 2.4e+02, loss = 2.6e-01, B1 = 5.2e-04, B2 = 1.9e+01, lr = [2.9878752423974818e-05, 0.029878752423974808, 0.029878752423974808], l_loss = 0.00046246673446148634, r_loss = 0.002462412929162383, i_mse = 0.0009752348414622247, c_mse = 2.8724978619720787e-05, d_mse = 0.00625076238065958\n",
            "epoch = 2.4e+02, loss = 2.5e-01, B1 = 5.3e-04, B2 = 1.9e+01, lr = [2.9139216046318642e-05, 0.02913921604631863, 0.02913921604631863], l_loss = 0.00045811026939190924, r_loss = 0.002462520729750395, i_mse = 0.0009748300653882325, c_mse = 2.8694517823169008e-05, d_mse = 0.006237493362277746\n",
            "epoch = 2.5e+02, loss = 2.5e-01, B1 = 5.3e-04, B2 = 1.9e+01, lr = [2.8417984116121184e-05, 0.028417984116121172, 0.028417984116121172], l_loss = 0.00045544805470854044, r_loss = 0.002463370095938444, i_mse = 0.0009769347961992025, c_mse = 2.8680902687483467e-05, d_mse = 0.006229142192751169\n",
            "epoch = 2.6e+02, loss = 2.5e-01, B1 = 5.4e-04, B2 = 1.9e+01, lr = [2.7714603575484436e-05, 0.02771460357548442, 0.02771460357548442], l_loss = 0.00045218909508548677, r_loss = 0.0024648718535900116, i_mse = 0.0009792837081477046, c_mse = 2.8665559511864558e-05, d_mse = 0.006220510229468346\n",
            "epoch = 2.6e+02, loss = 2.5e-01, B1 = 5.4e-04, B2 = 1.9e+01, lr = [2.7028632580258252e-05, 0.02702863258025824, 0.02702863258025824], l_loss = 0.0004491102881729603, r_loss = 0.0024645971134305, i_mse = 0.0009796805679798126, c_mse = 2.8636472052312456e-05, d_mse = 0.00621032202616334\n",
            "epoch = 2.6e+02, loss = 2.5e-01, B1 = 5.5e-04, B2 = 1.9e+01, lr = [2.6359640222486147e-05, 0.02635964022248614, 0.02635964022248614], l_loss = 0.0004447115061338991, r_loss = 0.0024665079545229673, i_mse = 0.000982456374913454, c_mse = 2.8619189833989367e-05, d_mse = 0.006196612957865\n",
            "epoch = 2.7e+02, loss = 2.5e-01, B1 = 5.5e-04, B2 = 1.9e+01, lr = [2.5707206259720837e-05, 0.025707206259720835, 0.025707206259720835], l_loss = 0.00044199739932082593, r_loss = 0.002467845566570759, i_mse = 0.0009832661598920822, c_mse = 2.86013546428876e-05, d_mse = 0.006187062244862318\n",
            "epoch = 2.8e+02, loss = 2.5e-01, B1 = 5.5e-04, B2 = 1.9e+01, lr = [2.50709208510396e-05, 0.025070920851039603, 0.025070920851039603], l_loss = 0.0004394211864564568, r_loss = 0.0024677340406924486, i_mse = 0.0009840917773544788, c_mse = 2.857974686776288e-05, d_mse = 0.0061785210855305195\n",
            "epoch = 2.8e+02, loss = 2.5e-01, B1 = 5.6e-04, B2 = 1.9e+01, lr = [2.4450384299593587e-05, 0.024450384299593588, 0.024450384299593588], l_loss = 0.00043636481859721243, r_loss = 0.002467112382873893, i_mse = 0.0009833155199885368, c_mse = 2.8556645702337846e-05, d_mse = 0.0061685373075306416\n",
            "epoch = 2.8e+02, loss = 2.5e-01, B1 = 5.6e-04, B2 = 1.9e+01, lr = [2.384520680152931e-05, 0.023845206801529312, 0.023845206801529312], l_loss = 0.00043339343392290175, r_loss = 0.0024689151905477047, i_mse = 0.0009829542832449079, c_mse = 2.854017475328874e-05, d_mse = 0.006159451324492693\n",
            "epoch = 2.9e+02, loss = 2.5e-01, B1 = 5.6e-04, B2 = 1.9e+01, lr = [2.3255008201124716e-05, 0.023255008201124715, 0.023255008201124715], l_loss = 0.0004307928611524403, r_loss = 0.0024701454676687717, i_mse = 0.0009846263565123081, c_mse = 2.852212855941616e-05, d_mse = 0.006150776986032724\n",
            "epoch = 3.0e+02, loss = 2.5e-01, B1 = 5.7e-04, B2 = 1.9e+01, lr = [2.2679417751985857e-05, 0.022679417751985852, 0.022679417751985852], l_loss = 0.0004276778199709952, r_loss = 0.0024701764341443777, i_mse = 0.0009836781537160277, c_mse = 2.8495136575656943e-05, d_mse = 0.006140873301774263\n",
            "epoch = 3.0e+02, loss = 2.5e-01, B1 = 5.7e-04, B2 = 1.9e+01, lr = [2.2118073884154326e-05, 0.02211807388415432, 0.02211807388415432], l_loss = 0.00042457800009287894, r_loss = 0.002469695173203945, i_mse = 0.0009835560340434313, c_mse = 2.8469827157096006e-05, d_mse = 0.006131573114544153\n",
            "epoch = 3.0e+02, loss = 2.5e-01, B1 = 5.7e-04, B2 = 1.9e+01, lr = [2.157062397697901e-05, 0.02157062397697901, 0.02157062397697901], l_loss = 0.0004221532726660371, r_loss = 0.002469780156388879, i_mse = 0.000983944395557046, c_mse = 2.8459306122385897e-05, d_mse = 0.006124542560428381\n",
            "epoch = 3.1e+02, loss = 2.5e-01, B1 = 5.8e-04, B2 = 1.9e+01, lr = [2.10367241376096e-05, 0.0210367241376096, 0.0210367241376096], l_loss = 0.00041903776582330465, r_loss = 0.0024700872600078583, i_mse = 0.000983364530839026, c_mse = 2.8438087610993534e-05, d_mse = 0.006115691736340523\n",
            "epoch = 3.2e+02, loss = 2.5e-01, B1 = 5.8e-04, B2 = 1.9e+01, lr = [2.0516038984972614e-05, 0.020516038984972614, 0.020516038984972614], l_loss = 0.00041552126640453935, r_loss = 0.002470714272931218, i_mse = 0.0009860749123618007, c_mse = 2.8421163733582944e-05, d_mse = 0.006104379892349243\n",
            "epoch = 3.2e+02, loss = 2.5e-01, B1 = 5.8e-04, B2 = 1.9e+01, lr = [2.000824143909432e-05, 0.020008241439094323, 0.020008241439094323], l_loss = 0.0004133080365136266, r_loss = 0.002472642809152603, i_mse = 0.0009852841030806303, c_mse = 2.8413443942554295e-05, d_mse = 0.006097238045185804\n",
            "epoch = 3.2e+02, loss = 2.5e-01, B1 = 5.8e-04, B2 = 1.9e+01, lr = [1.9513012515638165e-05, 0.01951301251563817, 0.01951301251563817], l_loss = 0.00041104599949903786, r_loss = 0.002473621629178524, i_mse = 0.0009864921448752284, c_mse = 2.8399608709150925e-05, d_mse = 0.006090316455811262\n",
            "epoch = 3.3e+02, loss = 2.5e-01, B1 = 5.8e-04, B2 = 1.9e+01, lr = [1.903004112552766e-05, 0.01903004112552767, 0.01903004112552767], l_loss = 0.000408301770221442, r_loss = 0.002472703577950597, i_mse = 0.000987242441624403, c_mse = 2.8376774935168214e-05, d_mse = 0.006081894971430302\n",
            "epoch = 3.4e+02, loss = 2.5e-01, B1 = 5.9e-04, B2 = 1.9e+01, lr = [1.8559023879528854e-05, 0.018559023879528864, 0.018559023879528864], l_loss = 0.0004063011729158461, r_loss = 0.0024736078921705484, i_mse = 0.000988220446743071, c_mse = 2.8362026569084264e-05, d_mse = 0.006075100041925907\n",
            "epoch = 3.4e+02, loss = 2.5e-01, B1 = 5.9e-04, B2 = 1.9e+01, lr = [1.809966489766962e-05, 0.018099664897669628, 0.018099664897669628], l_loss = 0.0004041942011099309, r_loss = 0.002475914778187871, i_mse = 0.0009881880832836032, c_mse = 2.8353666493785568e-05, d_mse = 0.0060675134882330894\n",
            "epoch = 3.4e+02, loss = 2.5e-01, B1 = 5.9e-04, B2 = 1.9e+01, lr = [1.7651675623376067e-05, 0.017651675623376075, 0.017651675623376075], l_loss = 0.00040146498940885067, r_loss = 0.002476109191775322, i_mse = 0.0009877760894596577, c_mse = 2.8335627575870603e-05, d_mse = 0.006059229839593172\n",
            "epoch = 3.5e+02, loss = 2.5e-01, B1 = 5.9e-04, B2 = 1.9e+01, lr = [1.7214774642209307e-05, 0.017214774642209312, 0.017214774642209312], l_loss = 0.00039874634239822626, r_loss = 0.002477114787325263, i_mse = 0.0009892192902043462, c_mse = 2.8316128009464592e-05, d_mse = 0.006050103344023228\n",
            "epoch = 3.6e+02, loss = 2.5e-01, B1 = 5.9e-04, B2 = 1.9e+01, lr = [1.6788687505088696e-05, 0.016788687505088704, 0.016788687505088704], l_loss = 0.00039567239582538605, r_loss = 0.002477260772138834, i_mse = 0.0009880344150587916, c_mse = 2.8295229640207253e-05, d_mse = 0.006040357053279877\n",
            "epoch = 3.6e+02, loss = 2.5e-01, B1 = 6.0e-04, B2 = 1.9e+01, lr = [1.637314655589055e-05, 0.016373146555890564, 0.016373146555890564], l_loss = 0.0003937688306905329, r_loss = 0.0024769259616732597, i_mse = 0.000986895291134715, c_mse = 2.8275320801185444e-05, d_mse = 0.006033785175532103\n",
            "epoch = 3.6e+02, loss = 2.5e-01, B1 = 6.0e-04, B2 = 1.9e+01, lr = [1.596789076331398e-05, 0.015967890763314, 0.015967890763314], l_loss = 0.0003909969818778336, r_loss = 0.0024764561094343662, i_mse = 0.000988623360171914, c_mse = 2.8256334189791232e-05, d_mse = 0.006026335526257753\n",
            "epoch = 3.7e+02, loss = 2.5e-01, B1 = 6.0e-04, B2 = 1.9e+01, lr = [1.557266555690826e-05, 0.015572665556908283, 0.015572665556908283], l_loss = 0.00038895971374586225, r_loss = 0.002477360889315605, i_mse = 0.000990631408058107, c_mse = 2.8242146072443575e-05, d_mse = 0.006018407642841339\n",
            "epoch = 3.8e+02, loss = 2.5e-01, B1 = 6.0e-04, B2 = 1.9e+01, lr = [1.5187222667158748e-05, 0.015187222667158773, 0.015187222667158773], l_loss = 0.00038665279862470925, r_loss = 0.002478834008798003, i_mse = 0.0009918174473568797, c_mse = 2.822862552420702e-05, d_mse = 0.006011826451867819\n",
            "epoch = 3.8e+02, loss = 2.5e-01, B1 = 6.0e-04, B2 = 1.9e+01, lr = [1.4811319969530846e-05, 0.01481131996953087, 0.01481131996953087], l_loss = 0.00038476669578813016, r_loss = 0.0024789513554424047, i_mse = 0.0009913784451782703, c_mse = 2.8213489713380113e-05, d_mse = 0.006005205679684877\n",
            "epoch = 3.8e+02, loss = 2.4e-01, B1 = 6.0e-04, B2 = 1.9e+01, lr = [1.4444721332374085e-05, 0.014444721332374112, 0.014444721332374112], l_loss = 0.0003825877793133259, r_loss = 0.0024791425094008446, i_mse = 0.0009908090578392148, c_mse = 2.8198492145747878e-05, d_mse = 0.005997407715767622\n",
            "epoch = 3.9e+02, loss = 2.4e-01, B1 = 6.0e-04, B2 = 1.9e+01, lr = [1.4087196468590775e-05, 0.0140871964685908, 0.0140871964685908], l_loss = 0.0003797866520471871, r_loss = 0.0024799874518066645, i_mse = 0.000989290769211948, c_mse = 2.818274515448138e-05, d_mse = 0.005989197175949812\n",
            "epoch = 4.0e+02, loss = 2.4e-01, B1 = 6.1e-04, B2 = 1.9e+01, lr = [1.3738520790976033e-05, 0.013738520790976056, 0.013738520790976056], l_loss = 0.0003772675700020045, r_loss = 0.0024805166758596897, i_mse = 0.0009906688937917352, c_mse = 2.816197411448229e-05, d_mse = 0.005980647634714842\n",
            "epoch = 4.0e+02, loss = 2.4e-01, B1 = 6.1e-04, B2 = 1.9e+01, lr = [1.339847527113833e-05, 0.013398475271138355, 0.013398475271138355], l_loss = 0.0003743055567611009, r_loss = 0.00248016812838614, i_mse = 0.0009909954387694597, c_mse = 2.8142128940089606e-05, d_mse = 0.005972511135041714\n",
            "epoch = 4.0e+02, loss = 2.4e-01, B1 = 6.1e-04, B2 = 1.9e+01, lr = [1.3066846301911934e-05, 0.013066846301911957, 0.013066846301911957], l_loss = 0.00037200297811068594, r_loss = 0.00248077604919672, i_mse = 0.0009907690109685063, c_mse = 2.8123455194872804e-05, d_mse = 0.005964568816125393\n",
            "epoch = 4.1e+02, loss = 2.4e-01, B1 = 6.1e-04, B2 = 1.9e+01, lr = [1.2743425563174797e-05, 0.01274342556317482, 0.01274342556317482], l_loss = 0.00037055101711302996, r_loss = 0.0024809560272842646, i_mse = 0.000990178668871522, c_mse = 2.811461490637157e-05, d_mse = 0.005960036534816027\n",
            "epoch = 4.2e+02, loss = 2.4e-01, B1 = 6.1e-04, B2 = 1.9e+01, lr = [1.2428009890987647e-05, 0.012428009890987671, 0.012428009890987671], l_loss = 0.00036869419272989035, r_loss = 0.002478785812854767, i_mse = 0.00099049077834934, c_mse = 2.8093672881368548e-05, d_mse = 0.005953102372586727\n",
            "epoch = 4.2e+02, loss = 2.4e-01, B1 = 6.1e-04, B2 = 1.9e+01, lr = [1.2120401149972031e-05, 0.012120401149972055, 0.012120401149972055], l_loss = 0.00036717913462780416, r_loss = 0.002479192800819874, i_mse = 0.000990714062936604, c_mse = 2.808320459735114e-05, d_mse = 0.005948408506810665\n",
            "epoch = 4.2e+02, loss = 2.4e-01, B1 = 6.1e-04, B2 = 1.9e+01, lr = [1.1820406108847163e-05, 0.011820406108847185, 0.011820406108847185], l_loss = 0.00036562580498866737, r_loss = 0.0024796894285827875, i_mse = 0.000990570057183504, c_mse = 2.8069413019693457e-05, d_mse = 0.00594263756647706\n",
            "epoch = 4.3e+02, loss = 2.4e-01, B1 = 6.1e-04, B2 = 1.9e+01, lr = [1.152783631904739e-05, 0.011527836319047413, 0.011527836319047413], l_loss = 0.0003642732626758516, r_loss = 0.0024815485812723637, i_mse = 0.0009900197619572282, c_mse = 2.805936492222827e-05, d_mse = 0.005936666391789913\n",
            "epoch = 4.4e+02, loss = 2.4e-01, B1 = 6.2e-04, B2 = 1.9e+01, lr = [1.1242507996344034e-05, 0.011242507996344055, 0.011242507996344055], l_loss = 0.00036284729139879346, r_loss = 0.0024816065561026335, i_mse = 0.000990749103948474, c_mse = 2.8053826099494472e-05, d_mse = 0.00593184120953083\n",
            "epoch = 4.4e+02, loss = 2.4e-01, B1 = 6.2e-04, B2 = 1.9e+01, lr = [1.0964241905397227e-05, 0.010964241905397248, 0.010964241905397248], l_loss = 0.0003609659324865788, r_loss = 0.002482203533872962, i_mse = 0.0009910262888297439, c_mse = 2.804023642966058e-05, d_mse = 0.005925877019762993\n",
            "epoch = 4.4e+02, loss = 2.4e-01, B1 = 6.2e-04, B2 = 1.9e+01, lr = [1.0692863247165257e-05, 0.010692863247165278, 0.010692863247165278], l_loss = 0.0003595284069888294, r_loss = 0.002482365584000945, i_mse = 0.0009897766867652535, c_mse = 2.8027794542140327e-05, d_mse = 0.005920288152992725\n",
            "epoch = 4.5e+02, loss = 2.4e-01, B1 = 6.2e-04, B2 = 1.9e+01, lr = [1.042820154910064e-05, 0.01042820154910066, 0.01042820154910066], l_loss = 0.0003585138183552772, r_loss = 0.002483106218278408, i_mse = 0.000990943401120603, c_mse = 2.80196745734429e-05, d_mse = 0.005917045753449202\n",
            "epoch = 4.6e+02, loss = 2.4e-01, B1 = 6.2e-04, B2 = 1.9e+01, lr = [1.0170090558064005e-05, 0.010170090558064025, 0.010170090558064025], l_loss = 0.00035658784327097237, r_loss = 0.002482404001057148, i_mse = 0.0009906096383929253, c_mse = 2.8000717065879144e-05, d_mse = 0.00591046828776598\n",
            "epoch = 4.6e+02, loss = 2.4e-01, B1 = 6.2e-04, B2 = 1.9e+01, lr = [9.918368135888476e-06, 0.009918368135888493, 0.009918368135888493], l_loss = 0.00035438485792838037, r_loss = 0.0024835849180817604, i_mse = 0.0009921913733705878, c_mse = 2.7990821763523854e-05, d_mse = 0.005902762059122324\n",
            "epoch = 4.6e+02, loss = 2.4e-01, B1 = 6.2e-04, B2 = 1.9e+01, lr = [9.672876157528973e-06, 0.009672876157528989, 0.009672876157528989], l_loss = 0.00035302573814988136, r_loss = 0.0024837737437337637, i_mse = 0.0009925737977027893, c_mse = 2.79757114185486e-05, d_mse = 0.005897575989365578\n",
            "epoch = 4.7e+02, loss = 2.4e-01, B1 = 6.2e-04, B2 = 1.9e+01, lr = [9.433460411732444e-06, 0.00943346041173246, 0.00943346041173246], l_loss = 0.000351188238710165, r_loss = 0.0024837073870003223, i_mse = 0.0009927167557179928, c_mse = 2.796096305246465e-05, d_mse = 0.005892073269933462\n",
            "epoch = 4.8e+02, loss = 2.4e-01, B1 = 6.2e-04, B2 = 1.9e+01, lr = [9.199970504166636e-06, 0.009199970504166653, 0.009199970504166653], l_loss = 0.00035003534867428243, r_loss = 0.00248475419357419, i_mse = 0.000991932931356132, c_mse = 2.7958074497291818e-05, d_mse = 0.00588810071349144\n",
            "epoch = 4.8e+02, loss = 2.4e-01, B1 = 6.3e-04, B2 = 1.9e+01, lr = [8.97225976294654e-06, 0.008972259762946555, 0.008972259762946555], l_loss = 0.00034866126952692866, r_loss = 0.0024857670068740845, i_mse = 0.000994138652458787, c_mse = 2.794959073071368e-05, d_mse = 0.005883345380425453\n",
            "epoch = 4.8e+02, loss = 2.4e-01, B1 = 6.3e-04, B2 = 1.9e+01, lr = [8.750185146499182e-06, 0.008750185146499197, 0.008750185146499197], l_loss = 0.0003474560799077153, r_loss = 0.002487356076017022, i_mse = 0.000995025271549821, c_mse = 2.79401610896457e-05, d_mse = 0.0058787609450519085\n",
            "epoch = 4.9e+02, loss = 2.4e-01, B1 = 6.3e-04, B2 = 1.9e+01, lr = [8.533607153708878e-06, 0.008533607153708891, 0.008533607153708891], l_loss = 0.0003461480082478374, r_loss = 0.0024870513007044792, i_mse = 0.0009957781294360757, c_mse = 2.7929590942221694e-05, d_mse = 0.005874244030565023\n",
            "epoch = 5.0e+02, loss = 2.4e-01, B1 = 6.3e-04, B2 = 1.9e+01, lr = [8.322389736286496e-06, 0.008322389736286509, 0.008322389736286509], l_loss = 0.0003447876370046288, r_loss = 0.002487492049112916, i_mse = 0.0009952688124030828, c_mse = 2.7918686100747436e-05, d_mse = 0.005869442131370306\n",
            "epoch = 5.0e+02, loss = 2.4e-01, B1 = 6.3e-04, B2 = 1.9e+01, lr = [8.116400213307695e-06, 0.008116400213307706, 0.008116400213307706], l_loss = 0.0003437491541262716, r_loss = 0.0024886399041861296, i_mse = 0.0009969249367713928, c_mse = 2.7913867597817443e-05, d_mse = 0.0058653829619288445\n",
            "epoch = 5.0e+02, loss = 2.4e-01, B1 = 6.3e-04, B2 = 1.9e+01, lr = [7.91550918786645e-06, 0.00791550918786646, 0.00791550918786646], l_loss = 0.0003424265014473349, r_loss = 0.002488921396434307, i_mse = 0.000996838673017919, c_mse = 2.790647340589203e-05, d_mse = 0.00586070166900754\n",
            "epoch = 5.1e+02, loss = 2.4e-01, B1 = 6.3e-04, B2 = 1.9e+01, lr = [7.7195904657915e-06, 0.00771959046579151, 0.00771959046579151], l_loss = 0.00034159349161200225, r_loss = 0.0024893395602703094, i_mse = 0.000997156254015863, c_mse = 2.7897282052435912e-05, d_mse = 0.005856702569872141\n",
            "epoch = 5.2e+02, loss = 2.4e-01, B1 = 6.3e-04, B2 = 1.9e+01, lr = [7.528520976374674e-06, 0.007528520976374684, 0.007528520976374684], l_loss = 0.0003399525012355298, r_loss = 0.0024899286217987537, i_mse = 0.000997738097794354, c_mse = 2.7887988835573196e-05, d_mse = 0.005852432921528816\n",
            "epoch = 5.2e+02, loss = 2.4e-01, B1 = 6.3e-04, B2 = 1.9e+01, lr = [7.342180695061282e-06, 0.00734218069506129, 0.00734218069506129], l_loss = 0.0003380853158887476, r_loss = 0.002489405917003751, i_mse = 0.0009948323713615537, c_mse = 2.787045741570182e-05, d_mse = 0.005847546271979809\n",
            "epoch = 5.2e+02, loss = 2.4e-01, B1 = 6.3e-04, B2 = 1.9e+01, lr = [7.160452568054017e-06, 0.007160452568054024, 0.007160452568054024], l_loss = 0.00033725908724591136, r_loss = 0.002489036414772272, i_mse = 0.0009941774187609553, c_mse = 2.7863525247084908e-05, d_mse = 0.00584424426779151\n",
            "epoch = 5.3e+02, loss = 2.4e-01, B1 = 6.3e-04, B2 = 1.9e+01, lr = [6.983222438783007e-06, 0.006983222438783015, 0.006983222438783015], l_loss = 0.0003358069807291031, r_loss = 0.0024897775147110224, i_mse = 0.0009943355107679963, c_mse = 2.785783726722002e-05, d_mse = 0.0058398316614329815\n",
            "epoch = 5.4e+02, loss = 2.4e-01, B1 = 6.3e-04, B2 = 1.9e+01, lr = [6.810378976195827e-06, 0.006810378976195834, 0.006810378976195834], l_loss = 0.0003349364560563117, r_loss = 0.002490338170900941, i_mse = 0.0009955044370144606, c_mse = 2.7854566724272445e-05, d_mse = 0.005836593918502331\n",
            "epoch = 5.4e+02, loss = 2.4e-01, B1 = 6.3e-04, B2 = 1.9e+01, lr = [6.6418136048224125e-06, 0.006641813604822419, 0.006641813604822419], l_loss = 0.0003337250673212111, r_loss = 0.0024909870699048042, i_mse = 0.000995708629488945, c_mse = 2.7844174837809987e-05, d_mse = 0.0058330511674284935\n",
            "epoch = 5.4e+02, loss = 2.4e-01, B1 = 6.4e-04, B2 = 1.9e+01, lr = [6.477420436570964e-06, 0.006477420436570969, 0.006477420436570969], l_loss = 0.00033296688343398273, r_loss = 0.0024919926654547453, i_mse = 0.0009963659103959799, c_mse = 2.7837344532599673e-05, d_mse = 0.005829201079905033\n",
            "epoch = 5.5e+02, loss = 2.4e-01, B1 = 6.4e-04, B2 = 1.9e+01, lr = [6.317096204211984e-06, 0.006317096204211989, 0.006317096204211989], l_loss = 0.0003325025027152151, r_loss = 0.002493159146979451, i_mse = 0.0009953114204108715, c_mse = 2.783214586088434e-05, d_mse = 0.005827028304338455\n",
            "epoch = 5.6e+02, loss = 2.4e-01, B1 = 6.4e-04, B2 = 1.9e+01, lr = [6.160740196508667e-06, 0.006160740196508671, 0.006160740196508671], l_loss = 0.0003313628549221903, r_loss = 0.0024926557671278715, i_mse = 0.0009955655550584197, c_mse = 2.7822890842799097e-05, d_mse = 0.005823506973683834\n",
            "epoch = 5.6e+02, loss = 2.4e-01, B1 = 6.4e-04, B2 = 1.9e+01, lr = [6.008254194952894e-06, 0.006008254194952896, 0.006008254194952896], l_loss = 0.00033061738940887153, r_loss = 0.0024930548388510942, i_mse = 0.0009951730025932193, c_mse = 2.7818252419820055e-05, d_mse = 0.0058212885633111\n",
            "epoch = 5.6e+02, loss = 2.4e-01, B1 = 6.4e-04, B2 = 1.9e+01, lr = [5.859542412067084e-06, 0.005859542412067087, 0.005859542412067087], l_loss = 0.0003298517840448767, r_loss = 0.0024931489024311304, i_mse = 0.0009951950050890446, c_mse = 2.7812378903036006e-05, d_mse = 0.005818324163556099\n",
            "epoch = 5.7e+02, loss = 2.4e-01, B1 = 6.4e-04, B2 = 1.9e+01, lr = [5.714511431233168e-06, 0.005714511431233171, 0.005714511431233171], l_loss = 0.00032898844801820815, r_loss = 0.002492638071998954, i_mse = 0.0009956846479326487, c_mse = 2.780661452561617e-05, d_mse = 0.005815710406750441\n",
            "epoch = 5.8e+02, loss = 2.4e-01, B1 = 6.4e-04, B2 = 1.9e+01, lr = [5.5730701480108486e-06, 0.005573070148010851, 0.005573070148010851], l_loss = 0.00032798986649140716, r_loss = 0.002493344945833087, i_mse = 0.0009965394856408238, c_mse = 2.7801876058219932e-05, d_mse = 0.005812890361994505\n",
            "epoch = 5.8e+02, loss = 2.4e-01, B1 = 6.4e-04, B2 = 1.9e+01, lr = [5.4351297129083235e-06, 0.005435129712908326, 0.005435129712908326], l_loss = 0.0003273049369454384, r_loss = 0.002493414096534252, i_mse = 0.0009968176018446684, c_mse = 2.7795429559773766e-05, d_mse = 0.005810537375509739\n",
            "epoch = 5.8e+02, loss = 2.4e-01, B1 = 6.4e-04, B2 = 1.9e+01, lr = [5.300603475569496e-06, 0.0053006034755695, 0.0053006034755695], l_loss = 0.0003263712569605559, r_loss = 0.0024930182844400406, i_mse = 0.000997475115582347, c_mse = 2.778748603304848e-05, d_mse = 0.005807068664580584\n",
            "epoch = 5.9e+02, loss = 2.4e-01, B1 = 6.4e-04, B2 = 1.9e+01, lr = [5.169406930342628e-06, 0.0051694069303426324, 0.0051694069303426324], l_loss = 0.0003248874854762107, r_loss = 0.00249345600605011, i_mse = 0.000997778493911028, c_mse = 2.7773985493695363e-05, d_mse = 0.005802026484161615\n",
            "epoch = 6.0e+02, loss = 2.4e-01, B1 = 6.4e-04, B2 = 1.9e+01, lr = [5.041457663196227e-06, 0.0050414576631962315, 0.0050414576631962315], l_loss = 0.00032342327176593244, r_loss = 0.0024941323790699244, i_mse = 0.000997312250547111, c_mse = 2.7770191081799567e-05, d_mse = 0.005798655562102795\n",
            "epoch = 6.0e+02, loss = 2.4e-01, B1 = 6.4e-04, B2 = 1.9e+01, lr = [4.916675299948842e-06, 0.004916675299948846, 0.004916675299948846], l_loss = 0.0003228607529308647, r_loss = 0.002494151471182704, i_mse = 0.000997153460048139, c_mse = 2.7766742277890444e-05, d_mse = 0.005796415731310844\n",
            "epoch = 6.0e+02, loss = 2.4e-01, B1 = 6.4e-04, B2 = 1.9e+01, lr = [4.794981455780229e-06, 0.004794981455780232, 0.004794981455780232], l_loss = 0.00032215614919550717, r_loss = 0.002494023647159338, i_mse = 0.0009970382088795304, c_mse = 2.7754040274885483e-05, d_mse = 0.0057928054593503475\n",
            "epoch = 6.1e+02, loss = 2.4e-01, B1 = 6.4e-04, B2 = 1.9e+01, lr = [4.6762996859921806e-06, 0.004676299685992185, 0.004676299685992185], l_loss = 0.00032136007212102413, r_loss = 0.0024939123541116714, i_mse = 0.0009971095714718103, c_mse = 2.7749789296649396e-05, d_mse = 0.005790527444332838\n",
            "epoch = 6.2e+02, loss = 2.4e-01, B1 = 6.4e-04, B2 = 1.9e+01, lr = [4.56055543798809e-06, 0.004560555437988094, 0.004560555437988094], l_loss = 0.00032090157037600875, r_loss = 0.002493656240403652, i_mse = 0.0009966091020032763, c_mse = 2.7746849809773266e-05, d_mse = 0.005788297858089209\n",
            "epoch = 6.2e+02, loss = 2.4e-01, B1 = 6.4e-04, B2 = 1.9e+01, lr = [4.447676004441071e-06, 0.0044476760044410745, 0.0044476760044410745], l_loss = 0.00032054926850833, r_loss = 0.0024934448301792145, i_mse = 0.0009962974581867456, c_mse = 2.774372296698857e-05, d_mse = 0.005786779336631298\n",
            "epoch = 6.2e+02, loss = 2.4e-01, B1 = 6.4e-04, B2 = 1.9e+01, lr = [4.337590477621237e-06, 0.00433759047762124, 0.00433759047762124], l_loss = 0.0003200623905286193, r_loss = 0.0024940581060945988, i_mse = 0.0009966071229428053, c_mse = 2.7738431526813656e-05, d_mse = 0.005784747656434774\n",
            "epoch = 6.3e+02, loss = 2.4e-01, B1 = 6.4e-04, B2 = 1.9e+01, lr = [4.23022970485343e-06, 0.004230229704853433, 0.004230229704853433], l_loss = 0.00031948520336300135, r_loss = 0.002493510954082012, i_mse = 0.000996911316178739, c_mse = 2.7730298825190403e-05, d_mse = 0.005782101769000292\n",
            "epoch = 6.4e+02, loss = 2.4e-01, B1 = 6.4e-04, B2 = 1.9e+01, lr = [4.125526245077425e-06, 0.004125526245077428, 0.004125526245077428], l_loss = 0.00031887521618045866, r_loss = 0.002492973580956459, i_mse = 0.0009952656691893935, c_mse = 2.772471634671092e-05, d_mse = 0.00578022887930274\n",
            "epoch = 6.4e+02, loss = 2.4e-01, B1 = 6.5e-04, B2 = 1.9e+01, lr = [4.02341432648333e-06, 0.004023414326483332, 0.004023414326483332], l_loss = 0.00031827689963392913, r_loss = 0.0024926268961280584, i_mse = 0.0009953046683222055, c_mse = 2.771454273897689e-05, d_mse = 0.005777696613222361\n",
            "epoch = 6.4e+02, loss = 2.4e-01, B1 = 6.5e-04, B2 = 1.9e+01, lr = [3.923829805195556e-06, 0.003923829805195557, 0.003923829805195557], l_loss = 0.00031737179961055517, r_loss = 0.0024923228193074465, i_mse = 0.0009955228306353092, c_mse = 2.770784340100363e-05, d_mse = 0.005775191821157932\n",
            "epoch = 6.5e+02, loss = 2.4e-01, B1 = 6.5e-04, B2 = 1.9e+01, lr = [3.826710124979416e-06, 0.0038267101249794162, 0.0038267101249794162], l_loss = 0.00031615604530088603, r_loss = 0.00249292841181159, i_mse = 0.0009958072332665324, c_mse = 2.7695856260834262e-05, d_mse = 0.005771295633167028\n",
            "epoch = 6.6e+02, loss = 2.4e-01, B1 = 6.5e-04, B2 = 1.9e+01, lr = [3.7319942779450295e-06, 0.0037319942779450305, 0.0037319942779450305], l_loss = 0.0003155693702865392, r_loss = 0.0024929814971983433, i_mse = 0.0009961545001715422, c_mse = 2.768860758806113e-05, d_mse = 0.005769066978245974\n",
            "epoch = 6.6e+02, loss = 2.4e-01, B1 = 6.5e-04, B2 = 1.9e+01, lr = [3.639622766223862e-06, 0.003639622766223863, 0.003639622766223863], l_loss = 0.0003152182325720787, r_loss = 0.0024930175859481096, i_mse = 0.0009965102653950453, c_mse = 2.7687086912919767e-05, d_mse = 0.005767574533820152\n",
            "epoch = 6.6e+02, loss = 2.4e-01, B1 = 6.5e-04, B2 = 1.9e+01, lr = [3.5495375645938107e-06, 0.003549537564593811, 0.003549537564593811], l_loss = 0.0003149243420921266, r_loss = 0.0024933498352766037, i_mse = 0.0009970072424039245, c_mse = 2.7684391170623712e-05, d_mse = 0.005766000133007765\n",
            "epoch = 6.7e+02, loss = 2.4e-01, B1 = 6.5e-04, B2 = 1.9e+01, lr = [3.461682084029371e-06, 0.003461682084029371, 0.003461682084029371], l_loss = 0.0003147310926578939, r_loss = 0.0024934185203164816, i_mse = 0.0009977485751733184, c_mse = 2.768491867755074e-05, d_mse = 0.005764909088611603\n",
            "epoch = 6.8e+02, loss = 2.4e-01, B1 = 6.5e-04, B2 = 1.9e+01, lr = [3.3760011361539777e-06, 0.0033760011361539774, 0.0033760011361539774], l_loss = 0.00031438679434359074, r_loss = 0.0024936783593147993, i_mse = 0.0009976013097912073, c_mse = 2.7684864107868634e-05, d_mse = 0.005763939116150141\n",
            "epoch = 6.8e+02, loss = 2.4e-01, B1 = 6.5e-04, B2 = 1.9e+01, lr = [3.2924408985722e-06, 0.0032924408985722, 0.0032924408985722], l_loss = 0.0003136331797577441, r_loss = 0.00249399128369987, i_mse = 0.0009978428715839982, c_mse = 2.768009653664194e-05, d_mse = 0.005760979373008013\n",
            "epoch = 6.8e+02, loss = 2.4e-01, B1 = 6.5e-04, B2 = 1.9e+01, lr = [3.2109488810600045e-06, 0.0032109488810600035, 0.0032109488810600035], l_loss = 0.0003129876567982137, r_loss = 0.002494153566658497, i_mse = 0.0009979219175875187, c_mse = 2.7678303013090044e-05, d_mse = 0.005759515333920717\n",
            "epoch = 6.9e+02, loss = 2.4e-01, B1 = 6.5e-04, B2 = 1.9e+01, lr = [3.1314738925918488e-06, 0.003131473892591848, 0.003131473892591848], l_loss = 0.0003123630303889513, r_loss = 0.0024951680097728968, i_mse = 0.0009986944496631622, c_mse = 2.767230398603715e-05, d_mse = 0.005756911356002092\n",
            "epoch = 7.0e+02, loss = 2.4e-01, B1 = 6.5e-04, B2 = 1.9e+01, lr = [3.053966009183905e-06, 0.0030539660091839045, 0.0030539660091839045], l_loss = 0.0003116682928521186, r_loss = 0.002495052060112357, i_mse = 0.001000282121822238, c_mse = 2.7669069822877645e-05, d_mse = 0.005754467565566301\n",
            "epoch = 7.0e+02, loss = 2.4e-01, B1 = 6.5e-04, B2 = 1.9e+01, lr = [2.9783765425331924e-06, 0.002978376542533191, 0.002978376542533191], l_loss = 0.0003112459380645305, r_loss = 0.002495561260730028, i_mse = 0.000999166746623814, c_mse = 2.76653008768335e-05, d_mse = 0.005752755794674158\n",
            "epoch = 7.0e+02, loss = 2.4e-01, B1 = 6.5e-04, B2 = 1.9e+01, lr = [2.9046580094329367e-06, 0.002904658009432936, 0.002904658009432936], l_loss = 0.0003108353994321078, r_loss = 0.0024956874549388885, i_mse = 0.001000134740024805, c_mse = 2.7663503715302795e-05, d_mse = 0.00575136998668313\n",
            "epoch = 7.1e+02, loss = 2.3e-01, B1 = 6.5e-04, B2 = 1.9e+01, lr = [2.832764101944939e-06, 0.0028327641019449375, 0.0028327641019449375], l_loss = 0.00031041409238241613, r_loss = 0.002496073255315423, i_mse = 0.0010006441734731197, c_mse = 2.7660767955239862e-05, d_mse = 0.005748888943344355\n",
            "epoch = 7.2e+02, loss = 2.3e-01, B1 = 6.5e-04, B2 = 1.9e+01, lr = [2.7626496583102093e-06, 0.0027626496583102083, 0.0027626496583102083], l_loss = 0.0003101218317169696, r_loss = 0.002496815752238035, i_mse = 0.001000773161649704, c_mse = 2.7659398256218992e-05, d_mse = 0.00574758043512702\n",
            "epoch = 7.2e+02, loss = 2.3e-01, B1 = 6.5e-04, B2 = 1.9e+01, lr = [2.694270634579605e-06, 0.0026942706345796045, 0.0026942706345796045], l_loss = 0.0003096963046118617, r_loss = 0.002496912144124508, i_mse = 0.001002780394628644, c_mse = 2.76550417765975e-05, d_mse = 0.005745895206928253\n",
            "epoch = 7.2e+02, loss = 2.3e-01, B1 = 6.5e-04, B2 = 1.9e+01, lr = [2.6275840769466426e-06, 0.0026275840769466423, 0.0026275840769466423], l_loss = 0.0003089436504524201, r_loss = 0.002496751258149743, i_mse = 0.0010023710783571005, c_mse = 2.7650678021018393e-05, d_mse = 0.0057439920492470264\n",
            "epoch = 7.3e+02, loss = 2.3e-01, B1 = 6.5e-04, B2 = 1.9e+01, lr = [2.562548094765106e-06, 0.002562548094765106, 0.002562548094765106], l_loss = 0.00030843450804241, r_loss = 0.0024973656982183456, i_mse = 0.0010022862115874887, c_mse = 2.7647094611893408e-05, d_mse = 0.005741861183196306\n",
            "epoch = 7.4e+02, loss = 2.3e-01, B1 = 6.5e-04, B2 = 1.9e+01, lr = [2.499121834234506e-06, 0.0024991218342345057, 0.0024991218342345057], l_loss = 0.00030788691947236657, r_loss = 0.0024970918893814087, i_mse = 0.0010012415004894137, c_mse = 2.7644471629173495e-05, d_mse = 0.005739910062402487\n",
            "epoch = 7.4e+02, loss = 2.3e-01, B1 = 6.5e-04, B2 = 1.9e+01, lr = [2.437265452736855e-06, 0.0024372654527368546, 0.0024372654527368546], l_loss = 0.00030773787875659764, r_loss = 0.002497319830581546, i_mse = 0.0010013856226578355, c_mse = 2.76400623988593e-05, d_mse = 0.0057387277483940125\n",
            "epoch = 7.4e+02, loss = 2.3e-01, B1 = 6.5e-04, B2 = 1.9e+01, lr = [2.37694009380864e-06, 0.00237694009380864, 0.00237694009380864], l_loss = 0.00030718735069967806, r_loss = 0.0024969391524791718, i_mse = 0.0010011083213612437, c_mse = 2.7635909646051005e-05, d_mse = 0.005736972205340862\n",
            "epoch = 7.5e+02, loss = 2.3e-01, B1 = 6.5e-04, B2 = 1.9e+01, lr = [2.3181078627322687e-06, 0.0023181078627322687, 0.0023181078627322687], l_loss = 0.00030683906516060233, r_loss = 0.002497550332918763, i_mse = 0.0010013848077505827, c_mse = 2.7634223442873918e-05, d_mse = 0.005735565442591906\n",
            "epoch = 7.6e+02, loss = 2.3e-01, B1 = 6.5e-04, B2 = 1.9e+01, lr = [2.2607318027316596e-06, 0.0022607318027316596, 0.0022607318027316596], l_loss = 0.0003063629555981606, r_loss = 0.0024982180912047625, i_mse = 0.0010020636254921556, c_mse = 2.7634156140265986e-05, d_mse = 0.005734215024858713\n",
            "epoch = 7.6e+02, loss = 2.3e-01, B1 = 6.5e-04, B2 = 1.9e+01, lr = [2.20477587175702e-06, 0.0022047758717570203, 0.0022047758717570203], l_loss = 0.00030594575218856335, r_loss = 0.002498544752597809, i_mse = 0.0010020562913268805, c_mse = 2.7630698241409846e-05, d_mse = 0.005732626188546419\n",
            "epoch = 7.6e+02, loss = 2.3e-01, B1 = 6.5e-04, B2 = 1.9e+01, lr = [2.1502049198442283e-06, 0.002150204919844229, 0.002150204919844229], l_loss = 0.0003056519490201026, r_loss = 0.0024989896919578314, i_mse = 0.0010021094931289554, c_mse = 2.7631140255834907e-05, d_mse = 0.0057317158207297325\n",
            "epoch = 7.7e+02, loss = 2.3e-01, B1 = 6.5e-04, B2 = 1.9e+01, lr = [2.0969846670346046e-06, 0.0020969846670346056, 0.0020969846670346056], l_loss = 0.0003051863459404558, r_loss = 0.0024987896904349327, i_mse = 0.0010031767887994647, c_mse = 2.7627051167655736e-05, d_mse = 0.005730099976062775\n",
            "epoch = 7.8e+02, loss = 2.3e-01, B1 = 6.5e-04, B2 = 1.9e+01, lr = [2.0450816818411885e-06, 0.0020450816818411892, 0.0020450816818411892], l_loss = 0.0003048138169106096, r_loss = 0.0024985414929687977, i_mse = 0.0010030482662841678, c_mse = 2.7623471396509558e-05, d_mse = 0.005728659685701132\n",
            "epoch = 7.8e+02, loss = 2.3e-01, B1 = 6.5e-04, B2 = 1.9e+01, lr = [1.994463360248006e-06, 0.0019944633602480065, 0.0019944633602480065], l_loss = 0.00030471873469650745, r_loss = 0.0024989601224660873, i_mse = 0.0010027349926531315, c_mse = 2.762185613391921e-05, d_mse = 0.00572787644341588\n",
            "epoch = 7.8e+02, loss = 2.3e-01, B1 = 6.5e-04, B2 = 1.9e+01, lr = [1.9450979052291327e-06, 0.0019450979052291328, 0.0019450979052291328], l_loss = 0.00030440709087997675, r_loss = 0.002498918678611517, i_mse = 0.0010032106656581163, c_mse = 2.7620562832453288e-05, d_mse = 0.005726857576519251\n",
            "epoch = 7.9e+02, loss = 2.3e-01, B1 = 6.5e-04, B2 = 1.9e+01, lr = [1.8969543067746826e-06, 0.0018969543067746824, 0.0018969543067746824], l_loss = 0.0003037026908714324, r_loss = 0.002498177345842123, i_mse = 0.0010031762067228556, c_mse = 2.7614976715995e-05, d_mse = 0.00572490319609642\n",
            "epoch = 8.0e+02, loss = 2.3e-01, B1 = 6.5e-04, B2 = 1.9e+01, lr = [1.8500023224111799e-06, 0.00185000232241118, 0.00185000232241118], l_loss = 0.0003031868254765868, r_loss = 0.0024979333393275738, i_mse = 0.0010031211422756314, c_mse = 2.7612251869868487e-05, d_mse = 0.005723939277231693\n",
            "epoch = 8.0e+02, loss = 2.3e-01, B1 = 6.6e-04, B2 = 1.9e+01, lr = [1.804212458204076e-06, 0.0018042124582040762, 0.0018042124582040762], l_loss = 0.000302708096569404, r_loss = 0.0024981643073260784, i_mse = 0.0010034545557573438, c_mse = 2.7606547519098967e-05, d_mse = 0.005722217261791229\n",
            "epoch = 8.0e+02, loss = 2.3e-01, B1 = 6.6e-04, B2 = 1.9e+01, lr = [1.759555950230478e-06, 0.0017595559502304782, 0.0017595559502304782], l_loss = 0.00030258193146437407, r_loss = 0.002499462803825736, i_mse = 0.0010043509537354112, c_mse = 2.760577990557067e-05, d_mse = 0.005720709450542927\n",
            "epoch = 8.1e+02, loss = 2.3e-01, B1 = 6.6e-04, B2 = 1.9e+01, lr = [1.7160047465104494e-06, 0.0017160047465104497, 0.0017160047465104497], l_loss = 0.0003023935714736581, r_loss = 0.0024996704887598753, i_mse = 0.0010047628311440349, c_mse = 2.7603069611359388e-05, d_mse = 0.005720154847949743\n",
            "epoch = 8.2e+02, loss = 2.3e-01, B1 = 6.6e-04, B2 = 1.9e+01, lr = [1.6735314893855348e-06, 0.0016735314893855354, 0.0016735314893855354], l_loss = 0.0003021114971488714, r_loss = 0.0024996858555823565, i_mse = 0.0010042368667200208, c_mse = 2.7598713131737895e-05, d_mse = 0.0057189809158444405\n",
            "epoch = 8.2e+02, loss = 2.3e-01, B1 = 6.6e-04, B2 = 1.9e+01, lr = [1.6321094983334374e-06, 0.001632109498333438, 0.001632109498333438], l_loss = 0.0003019835858140141, r_loss = 0.0025000220630317926, i_mse = 0.0010033742291852832, c_mse = 2.7596681320574135e-05, d_mse = 0.005718254018574953\n",
            "epoch = 8.2e+02, loss = 2.3e-01, B1 = 6.6e-04, B2 = 1.9e+01, lr = [1.5917127532080537e-06, 0.0015917127532080544, 0.0015917127532080544], l_loss = 0.00030180986505001783, r_loss = 0.0025000267196446657, i_mse = 0.0010033862199634314, c_mse = 2.7595358915277757e-05, d_mse = 0.00571777718141675\n",
            "epoch = 8.3e+02, loss = 2.3e-01, B1 = 6.6e-04, B2 = 1.9e+01, lr = [1.552315877894341e-06, 0.0015523158778943417, 0.0015523158778943417], l_loss = 0.0003012893721461296, r_loss = 0.0025001156609505415, i_mse = 0.0010034121805801988, c_mse = 2.7590122044784948e-05, d_mse = 0.0057160803116858006\n",
            "epoch = 8.4e+02, loss = 2.3e-01, B1 = 6.6e-04, B2 = 1.9e+01, lr = [1.513894124367745e-06, 0.0015138941243677457, 0.0015138941243677457], l_loss = 0.00030084303580224514, r_loss = 0.0024996644351631403, i_mse = 0.001003166544251144, c_mse = 2.7582536858972162e-05, d_mse = 0.005713724531233311\n",
            "epoch = 8.4e+02, loss = 2.3e-01, B1 = 6.6e-04, B2 = 1.9e+01, lr = [1.476423357148176e-06, 0.0014764233571481766, 0.0014764233571481766], l_loss = 0.0003003370075020939, r_loss = 0.002500060712918639, i_mse = 0.0010028788819909096, c_mse = 2.7580292226048186e-05, d_mse = 0.005712134763598442\n",
            "epoch = 8.4e+02, loss = 2.3e-01, B1 = 6.6e-04, B2 = 1.9e+01, lr = [1.4398800381387715e-06, 0.001439880038138772, 0.001439880038138772], l_loss = 0.00029977798112668097, r_loss = 0.002500467002391815, i_mse = 0.0010024040238931775, c_mse = 2.757699985522777e-05, d_mse = 0.0057103983126580715\n",
            "epoch = 8.5e+02, loss = 2.3e-01, B1 = 6.6e-04, B2 = 1.9e+01, lr = [1.4042412118399146e-06, 0.0014042412118399153, 0.0014042412118399153], l_loss = 0.0002994583919644356, r_loss = 0.0025006206706166267, i_mse = 0.0010028609540313482, c_mse = 2.757495894911699e-05, d_mse = 0.0057086399756371975\n",
            "epoch = 8.6e+02, loss = 2.3e-01, B1 = 6.6e-04, B2 = 1.9e+01, lr = [1.3694844909292274e-06, 0.001369484490929228, 0.001369484490929228], l_loss = 0.0002991461369674653, r_loss = 0.002500642789527774, i_mse = 0.0010028842370957136, c_mse = 2.757309630396776e-05, d_mse = 0.005708011332899332\n",
            "epoch = 8.6e+02, loss = 2.3e-01, B1 = 6.6e-04, B2 = 1.9e+01, lr = [1.3355880421984746e-06, 0.0013355880421984754, 0.0013355880421984754], l_loss = 0.00029889916186220944, r_loss = 0.0025009349919855595, i_mse = 0.0010025925002992153, c_mse = 2.7571522878133692e-05, d_mse = 0.005707344505935907\n",
            "epoch = 8.6e+02, loss = 2.3e-01, B1 = 6.6e-04, B2 = 1.9e+01, lr = [1.3025305728385484e-06, 0.001302530572838549, 0.001302530572838549], l_loss = 0.00029848553822375834, r_loss = 0.002500999951735139, i_mse = 0.0010024872608482838, c_mse = 2.7567581128096208e-05, d_mse = 0.00570616964250803\n",
            "epoch = 8.7e+02, loss = 2.3e-01, B1 = 6.6e-04, B2 = 1.9e+01, lr = [1.2702913170639157e-06, 0.0012702913170639166, 0.0012702913170639166], l_loss = 0.00029817267204634845, r_loss = 0.002501085866242647, i_mse = 0.001002492499537766, c_mse = 2.7568032237468287e-05, d_mse = 0.005705084186047316\n",
            "epoch = 8.8e+02, loss = 2.3e-01, B1 = 6.6e-04, B2 = 1.9e+01, lr = [1.2388500230681283e-06, 0.001238850023068129, 0.001238850023068129], l_loss = 0.0002973840164486319, r_loss = 0.002501164795830846, i_mse = 0.0010024510556831956, c_mse = 2.7563002731767483e-05, d_mse = 0.0057025812566280365\n",
            "epoch = 8.8e+02, loss = 2.3e-01, B1 = 6.6e-04, B2 = 1.9e+01, lr = [1.2081869403021983e-06, 0.0012081869403021987, 0.0012081869403021987], l_loss = 0.0002969772322103381, r_loss = 0.002500679111108184, i_mse = 0.0010022878414019942, c_mse = 2.755727655312512e-05, d_mse = 0.005701224785298109\n",
            "epoch = 8.8e+02, loss = 2.3e-01, B1 = 6.6e-04, B2 = 1.9e+01, lr = [1.178282807067852e-06, 0.0011782828070678525, 0.0011782828070678525], l_loss = 0.0002968320914078504, r_loss = 0.002500804141163826, i_mse = 0.0010021302150562406, c_mse = 2.755564491963014e-05, d_mse = 0.005700686946511269\n",
            "epoch = 8.9e+02, loss = 2.3e-01, B1 = 6.6e-04, B2 = 1.9e+01, lr = [1.1491188384178656e-06, 0.0011491188384178661, 0.0011491188384178661], l_loss = 0.0002963262959383428, r_loss = 0.0025011729449033737, i_mse = 0.0010025945957750082, c_mse = 2.7554848202271387e-05, d_mse = 0.005699482746422291\n",
            "epoch = 9.0e+02, loss = 2.3e-01, B1 = 6.6e-04, B2 = 1.9e+01, lr = [1.1206767143558808e-06, 0.0011206767143558812, 0.0011206767143558812], l_loss = 0.0002962656144518405, r_loss = 0.0025012658443301916, i_mse = 0.0010025466326624155, c_mse = 2.755273635557387e-05, d_mse = 0.005698711611330509\n",
            "epoch = 9.0e+02, loss = 2.3e-01, B1 = 6.6e-04, B2 = 1.9e+01, lr = [1.0929385683282927e-06, 0.0010929385683282925, 0.0010929385683282925], l_loss = 0.0002960423589684069, r_loss = 0.0025014011189341545, i_mse = 0.0010019575711339712, c_mse = 2.7549367587198503e-05, d_mse = 0.005697774235159159\n",
            "epoch = 9.0e+02, loss = 2.3e-01, B1 = 6.6e-04, B2 = 1.9e+01, lr = [1.0658869760009747e-06, 0.0010658869760009745, 0.0010658869760009745], l_loss = 0.00029594337684102356, r_loss = 0.002501905895769596, i_mse = 0.0010023385984823108, c_mse = 2.7549780497793108e-05, d_mse = 0.005697238724678755\n",
            "epoch = 9.1e+02, loss = 2.3e-01, B1 = 6.6e-04, B2 = 1.9e+01, lr = [1.0395049443137964e-06, 0.0010395049443137963, 0.0010395049443137963], l_loss = 0.00029579558758996427, r_loss = 0.002502089599147439, i_mse = 0.0010024530347436666, c_mse = 2.7547346689971164e-05, d_mse = 0.00569676049053669\n",
            "epoch = 9.2e+02, loss = 2.3e-01, B1 = 6.6e-04, B2 = 1.9e+01, lr = [1.0137759008060539e-06, 0.0010137759008060538, 0.0010137759008060538], l_loss = 0.0002956910175271332, r_loss = 0.002502291928976774, i_mse = 0.001002457458525896, c_mse = 2.7546404453460127e-05, d_mse = 0.005696024280041456\n",
            "epoch = 9.2e+02, loss = 2.3e-01, B1 = 6.6e-04, B2 = 1.9e+01, lr = [9.886836832061097e-07, 0.0009886836832061097, 0.0009886836832061097], l_loss = 0.00029544124845415354, r_loss = 0.0025031811092048883, i_mse = 0.0010045032249763608, c_mse = 2.754580054897815e-05, d_mse = 0.005694827064871788\n",
            "epoch = 9.2e+02, loss = 2.3e-01, B1 = 6.6e-04, B2 = 1.9e+01, lr = [9.642125292787014e-07, 0.0009642125292787014, 0.0009642125292787014], l_loss = 0.0002952620852738619, r_loss = 0.0025034656282514334, i_mse = 0.0010047409450635314, c_mse = 2.754514389380347e-05, d_mse = 0.005694216582924128\n",
            "epoch = 9.3e+02, loss = 2.3e-01, B1 = 6.6e-04, B2 = 1.9e+01, lr = [9.403470669235428e-07, 0.0009403470669235429, 0.0009403470669235429], l_loss = 0.0002951428759843111, r_loss = 0.0025036793667823076, i_mse = 0.0010055963648483157, c_mse = 2.7546866476768628e-05, d_mse = 0.005693764425814152\n",
            "epoch = 9.4e+02, loss = 2.3e-01, B1 = 6.6e-04, B2 = 1.9e+01, lr = [9.170723045189973e-07, 0.0009170723045189976, 0.0009170723045189976], l_loss = 0.0002949727058876306, r_loss = 0.002503833267837763, i_mse = 0.0010057262843474746, c_mse = 2.754556408035569e-05, d_mse = 0.0056928545236587524\n",
            "epoch = 9.4e+02, loss = 2.3e-01, B1 = 6.6e-04, B2 = 1.9e+01, lr = [8.943736215047566e-07, 0.0008943736215047569, 0.0008943736215047569], l_loss = 0.00029485789127647877, r_loss = 0.0025038961321115494, i_mse = 0.0010057621402665973, c_mse = 2.7543672331376e-05, d_mse = 0.005692410282790661\n",
            "epoch = 9.4e+02, loss = 2.3e-01, B1 = 6.6e-04, B2 = 1.9e+01, lr = [8.722367591976095e-07, 0.0008722367591976099, 0.0008722367591976099], l_loss = 0.00029483551043085754, r_loss = 0.002504001371562481, i_mse = 0.0010060297790914774, c_mse = 2.754430715867784e-05, d_mse = 0.005692051257938147\n",
            "epoch = 9.5e+02, loss = 2.3e-01, B1 = 6.6e-04, B2 = 1.9e+01, lr = [8.506478118345339e-07, 0.0008506478118345342, 0.0008506478118345342], l_loss = 0.0002943600411526859, r_loss = 0.002504074014723301, i_mse = 0.0010056832106783986, c_mse = 2.754045453912113e-05, d_mse = 0.005690146237611771\n",
            "epoch = 9.6e+02, loss = 2.3e-01, B1 = 6.6e-04, B2 = 1.9e+01, lr = [8.295932178374806e-07, 0.0008295932178374807, 0.0008295932178374807], l_loss = 0.0002942828868981451, r_loss = 0.0025038348976522684, i_mse = 0.0010057257022708654, c_mse = 2.7539110305951908e-05, d_mse = 0.005689836572855711\n",
            "epoch = 9.6e+02, loss = 2.3e-01, B1 = 6.6e-04, B2 = 1.9e+01, lr = [8.09059751294367e-07, 0.000809059751294367, 0.000809059751294367], l_loss = 0.000294290017336607, r_loss = 0.0025038139428943396, i_mse = 0.0010057165054604411, c_mse = 2.7539083021110855e-05, d_mse = 0.005689726676791906\n",
            "epoch = 9.6e+02, loss = 2.3e-01, B1 = 6.6e-04, B2 = 1.9e+01, lr = [7.890345136509257e-07, 0.0007890345136509256, 0.0007890345136509256], l_loss = 0.00029407039983198047, r_loss = 0.0025037205778062344, i_mse = 0.0010056723840534687, c_mse = 2.7536934794625267e-05, d_mse = 0.005689104087650776\n",
            "epoch = 9.7e+02, loss = 2.3e-01, B1 = 6.6e-04, B2 = 1.9e+01, lr = [7.695049256081904e-07, 0.0007695049256081903, 0.0007695049256081903], l_loss = 0.0002940419071819633, r_loss = 0.002503825817257166, i_mse = 0.0010056707542389631, c_mse = 2.7537722417037003e-05, d_mse = 0.005689024459570646\n",
            "epoch = 9.8e+02, loss = 2.3e-01, B1 = 6.6e-04, B2 = 1.9e+01, lr = [7.50458719220529e-07, 0.0007504587192205288, 0.0007504587192205288], l_loss = 0.00029393794829957187, r_loss = 0.0025039254687726498, i_mse = 0.0010058286134153605, c_mse = 2.7537153073353693e-05, d_mse = 0.005688730627298355\n",
            "epoch = 9.8e+02, loss = 2.3e-01, B1 = 6.6e-04, B2 = 1.9e+01, lr = [7.318839301892602e-07, 0.00073188393018926, 0.00073188393018926], l_loss = 0.0002938787220045924, r_loss = 0.0025042775087058544, i_mse = 0.0010061328066512942, c_mse = 2.753757144091651e-05, d_mse = 0.005688415374606848\n",
            "epoch = 9.8e+02, loss = 2.3e-01, B1 = 6.6e-04, B2 = 1.9e+01, lr = [7.137688903470134e-07, 0.0007137688903470132, 0.0007137688903470132], l_loss = 0.00029386027017608285, r_loss = 0.00250447285361588, i_mse = 0.0010061315260827541, c_mse = 2.753957232926041e-05, d_mse = 0.005688135977834463\n",
            "epoch = 9.9e+02, loss = 2.3e-01, B1 = 6.6e-04, B2 = 1.9e+01, lr = [6.961022203281091e-07, 0.0006961022203281089, 0.0006961022203281089], l_loss = 0.0002938000834546983, r_loss = 0.0025044099893420935, i_mse = 0.0010057821637019515, c_mse = 2.7538220820133574e-05, d_mse = 0.005688017699867487\n",
            "epoch = 1.0e+03, loss = 2.3e-01, B1 = 6.6e-04, B2 = 1.9e+01, lr = [6.78872822420357e-07, 0.0006788728224203569, 0.0006788728224203569], l_loss = 0.0002937881799880415, r_loss = 0.002504452131688595, i_mse = 0.0010059797205030918, c_mse = 2.7537502319319174e-05, d_mse = 0.005687863565981388\n",
            "epoch = 1.0e+03, loss = 2.3e-01, B1 = 6.6e-04, B2 = 1.9e+01, lr = [6.620698735937812e-07, 0.0006620698735937811, 0.0006620698735937811], l_loss = 0.00029366323724389076, r_loss = 0.002504631644114852, i_mse = 0.0010057586478069425, c_mse = 2.7536954803508706e-05, d_mse = 0.005687454715371132\n",
            "epoch = 1.0e+03, loss = 2.3e-01, B1 = 6.6e-04, B2 = 1.9e+01, lr = [6.456828187018925e-07, 0.0006456828187018924, 0.0006456828187018924], l_loss = 0.00029356504091992974, r_loss = 0.0025044444482773542, i_mse = 0.0010060083586722612, c_mse = 2.7535343178897165e-05, d_mse = 0.0056869653053581715\n",
            "epoch = 1.0e+03, loss = 2.3e-01, B1 = 6.6e-04, B2 = 1.9e+01, lr = [6.297013638512384e-07, 0.0006297013638512382, 0.0006297013638512382], l_loss = 0.0002934449294116348, r_loss = 0.002504470758140087, i_mse = 0.0010059891501441598, c_mse = 2.7534440960153006e-05, d_mse = 0.005686651915311813\n",
            "epoch = 1.0e+03, loss = 2.3e-01, B1 = 6.6e-04, B2 = 1.9e+01, lr = [6.141154699350643e-07, 0.0006141154699350642, 0.0006141154699350642], l_loss = 0.00029331291443668306, r_loss = 0.0025049385149031878, i_mse = 0.0010045863455161452, c_mse = 2.7535370463738218e-05, d_mse = 0.005686256568878889\n",
            "epoch = 1.0e+03, loss = 2.3e-01, B1 = 6.6e-04, B2 = 1.9e+01, lr = [5.989153463270257e-07, 0.0005989153463270256, 0.0005989153463270256], l_loss = 0.0002931755152530968, r_loss = 0.0025050088297575712, i_mse = 0.0010044904192909598, c_mse = 2.7534255423233844e-05, d_mse = 0.005685869604349136\n",
            "epoch = 1.0e+03, loss = 2.3e-01, B1 = 6.6e-04, B2 = 1.9e+01, lr = [5.840914447309879e-07, 0.0005840914447309877, 0.0005840914447309877], l_loss = 0.00029298540903255343, r_loss = 0.002504854928702116, i_mse = 0.001004775520414114, c_mse = 2.753195440163836e-05, d_mse = 0.0056853038258850574\n",
            "epoch = 1.0e+03, loss = 2.3e-01, B1 = 6.6e-04, B2 = 1.9e+01, lr = [5.696344531830504e-07, 0.0005696344531830503, 0.0005696344531830503], l_loss = 0.000292991433525458, r_loss = 0.002504873089492321, i_mse = 0.0010046593379229307, c_mse = 2.753154512902256e-05, d_mse = 0.00568520138040185\n",
            "epoch = 1.0e+03, loss = 2.3e-01, B1 = 6.6e-04, B2 = 1.9e+01, lr = [5.55535290202031e-07, 0.0005555352902020308, 0.0005555352902020308], l_loss = 0.00029294652631506324, r_loss = 0.0025049394462257624, i_mse = 0.0010047047398984432, c_mse = 2.7532280000741594e-05, d_mse = 0.0056850663386285305\n",
            "epoch = 1.0e+03, loss = 2.3e-01, B1 = 6.6e-04, B2 = 1.9e+01, lr = [5.417850990847299e-07, 0.0005417850990847295, 0.0005417850990847295], l_loss = 0.0002928167814388871, r_loss = 0.002505204174667597, i_mse = 0.0010057532927021384, c_mse = 2.753140688582789e-05, d_mse = 0.005684752948582172\n",
            "epoch = 1.0e+03, loss = 2.3e-01, B1 = 6.6e-04, B2 = 1.9e+01, lr = [5.283752423423943e-07, 0.000528375242342394, 0.000528375242342394], l_loss = 0.00029276235727593303, r_loss = 0.0025051278062164783, i_mse = 0.0010057155741378665, c_mse = 2.7530917577678338e-05, d_mse = 0.005684555508196354\n",
            "epoch = 1.0e+03, loss = 2.3e-01, B1 = 6.6e-04, B2 = 1.9e+01, lr = [5.152972962748884e-07, 0.0005152972962748884, 0.0005152972962748884], l_loss = 0.0002927084860857576, r_loss = 0.002505171112716198, i_mse = 0.001005830941721797, c_mse = 2.753090848273132e-05, d_mse = 0.005684394855052233\n",
            "epoch = 1.1e+03, loss = 2.3e-01, B1 = 6.6e-04, B2 = 1.9e+01, lr = [5.025430456791582e-07, 0.0005025430456791583, 0.0005025430456791583], l_loss = 0.00029270522645674646, r_loss = 0.0025052318815141916, i_mse = 0.0010058233747258782, c_mse = 2.7530744773685e-05, d_mse = 0.00568432779982686\n",
            "epoch = 1.1e+03, loss = 2.3e-01, B1 = 6.6e-04, B2 = 1.9e+01, lr = [4.901044786886685e-07, 0.0004901044786886686, 0.0004901044786886686], l_loss = 0.0002924873260781169, r_loss = 0.0025048102252185345, i_mse = 0.0010060231434181333, c_mse = 2.752806176431477e-05, d_mse = 0.005683688446879387\n",
            "epoch = 1.1e+03, loss = 2.3e-01, B1 = 6.6e-04, B2 = 1.9e+01, lr = [4.779737817405705e-07, 0.0004779737817405706, 0.0004779737817405706], l_loss = 0.0002924290020018816, r_loss = 0.0025051964912563562, i_mse = 0.0010062450310215354, c_mse = 2.7525002224138007e-05, d_mse = 0.005683101247996092\n",
            "epoch = 1.1e+03, loss = 2.3e-01, B1 = 6.6e-04, B2 = 1.9e+01, lr = [4.661433346674387e-07, 0.0004661433346674387, 0.0004661433346674387], l_loss = 0.0002923413412645459, r_loss = 0.0025052065029740334, i_mse = 0.0010062711080536246, c_mse = 2.7525626137503423e-05, d_mse = 0.005682916380465031\n",
            "epoch = 1.1e+03, loss = 2.3e-01, B1 = 6.6e-04, B2 = 1.9e+01, lr = [4.5460570591049245e-07, 0.00045460570591049246, 0.00045460570591049246], l_loss = 0.00029229981009848416, r_loss = 0.0025053045246750116, i_mse = 0.0010063349036499858, c_mse = 2.7527059501153417e-05, d_mse = 0.005682641174644232\n",
            "epoch = 1.1e+03, loss = 2.3e-01, B1 = 6.6e-04, B2 = 1.9e+01, lr = [4.4335364785129755e-07, 0.0004433536478512975, 0.0004433536478512975], l_loss = 0.00029222952434793115, r_loss = 0.0025052197743207216, i_mse = 0.0010063815861940384, c_mse = 2.7524985853233375e-05, d_mse = 0.005682271905243397\n",
            "epoch = 1.1e+03, loss = 2.3e-01, B1 = 6.6e-04, B2 = 1.9e+01, lr = [4.323800922590128e-07, 0.0004323800922590127, 0.0004323800922590127], l_loss = 0.0002922082494478673, r_loss = 0.0025052244309335947, i_mse = 0.0010063147637993097, c_mse = 2.7524596589501016e-05, d_mse = 0.005682188086211681\n",
            "epoch = 1.1e+03, loss = 2.3e-01, B1 = 6.6e-04, B2 = 1.9e+01, lr = [4.2167814585032345e-07, 0.0004216781458503234, 0.0004216781458503234], l_loss = 0.0002922015555668622, r_loss = 0.0025052304845303297, i_mse = 0.0010063194204121828, c_mse = 2.7524756660568528e-05, d_mse = 0.005682157352566719\n",
            "epoch = 1.1e+03, loss = 2.3e-01, B1 = 6.6e-04, B2 = 1.9e+01, lr = [4.1124108595927205e-07, 0.0004112410859592721, 0.0004112410859592721], l_loss = 0.000292150245513767, r_loss = 0.0025052863638848066, i_mse = 0.0010062678484246135, c_mse = 2.7522606615093537e-05, d_mse = 0.005682048853486776\n",
            "epoch = 1.1e+03, loss = 2.3e-01, B1 = 6.6e-04, B2 = 1.9e+01, lr = [4.010623563142659e-07, 0.00040106235631426595, 0.00040106235631426595], l_loss = 0.0002921022824011743, r_loss = 0.0025053047575056553, i_mse = 0.0010062848450616002, c_mse = 2.7522939490154386e-05, d_mse = 0.0056817918084561825\n",
            "epoch = 1.1e+03, loss = 2.3e-01, B1 = 6.6e-04, B2 = 1.9e+01, lr = [3.91135562919609e-07, 0.00039113556291960896, 0.00039113556291960896], l_loss = 0.00029204951715655625, r_loss = 0.002505342476069927, i_mse = 0.001006120815873146, c_mse = 2.7522266464075074e-05, d_mse = 0.005681561306118965\n",
            "epoch = 1.1e+03, loss = 2.3e-01, B1 = 6.6e-04, B2 = 1.9e+01, lr = [3.8145447003897133e-07, 0.0003814544700389713, 0.0003814544700389713], l_loss = 0.0002920478582382202, r_loss = 0.0025054034776985645, i_mse = 0.0010061514331027865, c_mse = 2.7522026357473806e-05, d_mse = 0.005681523121893406\n",
            "epoch = 1.1e+03, loss = 2.3e-01, B1 = 6.6e-04, B2 = 1.9e+01, lr = [3.7201299627827237e-07, 0.0003720129962782724, 0.0003720129962782724], l_loss = 0.0002920166007243097, r_loss = 0.0025053713470697403, i_mse = 0.0010061734355986118, c_mse = 2.7522801246959716e-05, d_mse = 0.005681437440216541\n",
            "epoch = 1.1e+03, loss = 2.3e-01, B1 = 6.6e-04, B2 = 1.9e+01, lr = [3.6280521076551777e-07, 0.0003628052107655179, 0.0003628052107655179], l_loss = 0.00029201648430898786, r_loss = 0.002505423966795206, i_mse = 0.001006190199404955, c_mse = 2.75227921520127e-05, d_mse = 0.0056813969276845455\n",
            "epoch = 1.1e+03, loss = 2.3e-01, B1 = 6.6e-04, B2 = 1.9e+01, lr = [3.5382532942519025e-07, 0.00035382532942519035, 0.00035382532942519035], l_loss = 0.0002920164552051574, r_loss = 0.002505430020391941, i_mse = 0.0010061905486509204, c_mse = 2.7523365133674815e-05, d_mse = 0.005681389011442661\n",
            "epoch = 1.1e+03, loss = 2.3e-01, B1 = 6.6e-04, B2 = 1.9e+01, lr = [3.4506771134485344e-07, 0.0003450677113448535, 0.0003450677113448535], l_loss = 0.00029202972655184567, r_loss = 0.0025054903235286474, i_mse = 0.0010061425855383277, c_mse = 2.7521835363586433e-05, d_mse = 0.005681319627910852\n",
            "epoch = 1.1e+03, loss = 2.3e-01, B1 = 6.6e-04, B2 = 1.9e+01, lr = [3.3652685523168737e-07, 0.00033652685523168747, 0.00033652685523168747], l_loss = 0.0002920289116445929, r_loss = 0.0025054961442947388, i_mse = 0.001006143051199615, c_mse = 2.7521578886080533e-05, d_mse = 0.005681274458765984\n",
            "epoch = 1.1e+03, loss = 2.3e-01, B1 = 6.6e-04, B2 = 1.9e+01, lr = [3.2819739595672886e-07, 0.00032819739595672895, 0.00032819739595672895], l_loss = 0.00029202757286839187, r_loss = 0.0025054968427866697, i_mse = 0.0010061425855383277, c_mse = 2.7521678930497728e-05, d_mse = 0.005681274458765984\n",
            "epoch = 1.1e+03, loss = 2.3e-01, B1 = 6.6e-04, B2 = 1.9e+01, lr = [3.200741011846462e-07, 0.00032007410118464616, 0.00032007410118464616], l_loss = 0.00029200647259131074, r_loss = 0.00250542932190001, i_mse = 0.0010060726199299097, c_mse = 2.7521124138729647e-05, d_mse = 0.005681064445525408\n",
            "epoch = 1.2e+03, loss = 2.3e-01, B1 = 6.6e-04, B2 = 1.9e+01, lr = [3.12151868086931e-07, 0.00031215186808693094, 0.00031215186808693094], l_loss = 0.00029201936558820307, r_loss = 0.0025053462013602257, i_mse = 0.001005989033728838, c_mse = 2.75207403319655e-05, d_mse = 0.005680989474058151\n",
            "epoch = 1.2e+03, loss = 2.3e-01, B1 = 6.6e-04, B2 = 1.9e+01, lr = [3.044257201364435e-07, 0.00030442572013644336, 0.00030442572013644336], l_loss = 0.000291988137178123, r_loss = 0.0025053261779248714, i_mse = 0.0010056935716420412, c_mse = 2.7520991352503188e-05, d_mse = 0.005680833011865616\n",
            "epoch = 1.2e+03, loss = 2.3e-01, B1 = 6.6e-04, B2 = 1.9e+01, lr = [2.968908039812954e-07, 0.0002968908039812952, 0.0002968908039812952], l_loss = 0.00029197256662882864, r_loss = 0.002505421871319413, i_mse = 0.001005763653665781, c_mse = 2.7521416996023618e-05, d_mse = 0.005680786911398172\n",
            "epoch = 1.2e+03, loss = 2.3e-01, B1 = 6.6e-04, B2 = 1.9e+01, lr = [2.8954238639610936e-07, 0.0002895423863961091, 0.0002895423863961091], l_loss = 0.000291977368760854, r_loss = 0.002505533630028367, i_mse = 0.0010057499166578054, c_mse = 2.7521080482983962e-05, d_mse = 0.005680762231349945\n",
            "epoch = 1.2e+03, loss = 2.3e-01, B1 = 6.6e-04, B2 = 1.9e+01, lr = [2.8237585130873774e-07, 0.0002823758513087376, 0.0002823758513087376], l_loss = 0.0002919769030995667, r_loss = 0.0025055331643670797, i_mse = 0.001005750149488449, c_mse = 2.7521124138729647e-05, d_mse = 0.005680759437382221\n",
            "epoch = 1.2e+03, loss = 2.3e-01, B1 = 6.6e-04, B2 = 1.9e+01, lr = [2.7538669690057444e-07, 0.0002753866969005743, 0.0002753866969005743], l_loss = 0.0002919630496762693, r_loss = 0.0025055876467376947, i_mse = 0.0010057253530249, c_mse = 2.7520785806700587e-05, d_mse = 0.00568073196336627\n",
            "epoch = 1.2e+03, loss = 2.3e-01, B1 = 6.6e-04, B2 = 1.9e+01, lr = [2.68570532778637e-07, 0.0002685705327786368, 0.0002685705327786368], l_loss = 0.0002919539692811668, r_loss = 0.002505567856132984, i_mse = 0.001005729311145842, c_mse = 2.7520190997165628e-05, d_mse = 0.005680686794221401\n",
            "epoch = 1.2e+03, loss = 2.3e-01, B1 = 6.6e-04, B2 = 1.9e+01, lr = [2.619230772176433e-07, 0.00026192307721764315, 0.00026192307721764315], l_loss = 0.00029195332899689674, r_loss = 0.0025055690202862024, i_mse = 0.0010057301260530949, c_mse = 2.7520296498551033e-05, d_mse = 0.0056806826032698154\n",
            "epoch = 1.2e+03, loss = 2.3e-01, B1 = 6.6e-04, B2 = 1.9e+01, lr = [2.5544015447035125e-07, 0.000255440154470351, 0.000255440154470351], l_loss = 0.0002919623802881688, r_loss = 0.0025053471326828003, i_mse = 0.001005725935101509, c_mse = 2.7520190997165628e-05, d_mse = 0.00568063510581851\n",
            "epoch = 1.2e+03, loss = 2.3e-01, B1 = 6.6e-04, B2 = 1.9e+01, lr = [2.4911769214446913e-07, 0.000249117692144469, 0.000249117692144469], l_loss = 0.0002919708495028317, r_loss = 0.002505362732335925, i_mse = 0.0010057521285489202, c_mse = 2.752013642748352e-05, d_mse = 0.005680625792592764\n",
            "epoch = 1.2e+03, loss = 2.3e-01, B1 = 6.6e-04, B2 = 1.9e+01, lr = [2.429517186444926e-07, 0.00024295171864449248, 0.00024295171864449248], l_loss = 0.0002919469552580267, r_loss = 0.002505482407286763, i_mse = 0.001005750149488449, c_mse = 2.751989995886106e-05, d_mse = 0.005680479109287262\n",
            "epoch = 1.2e+03, loss = 2.3e-01, B1 = 6.6e-04, B2 = 1.9e+01, lr = [2.36938360676858e-07, 0.0002369383606768579, 0.0002369383606768579], l_loss = 0.0002919402322731912, r_loss = 0.002505494048818946, i_mse = 0.0010057787876576185, c_mse = 2.7519132345332764e-05, d_mse = 0.00568039994686842\n",
            "epoch = 1.2e+03, loss = 2.3e-01, B1 = 6.6e-04, B2 = 1.9e+01, lr = [2.3107384081684686e-07, 0.00023107384081684677, 0.00023107384081684677], l_loss = 0.0002919357211794704, r_loss = 0.0025054241996258497, i_mse = 0.001005639205686748, c_mse = 2.751878673734609e-05, d_mse = 0.005680345930159092\n",
            "epoch = 1.2e+03, loss = 2.3e-01, B1 = 6.6e-04, B2 = 1.9e+01, lr = [2.2535447513571252e-07, 0.00022535447513571242, 0.00022535447513571242], l_loss = 0.00029191034263931215, r_loss = 0.00250546308234334, i_mse = 0.001005732687190175, c_mse = 2.7518644856172614e-05, d_mse = 0.005680222064256668\n",
            "epoch = 1.2e+03, loss = 2.3e-01, B1 = 6.6e-04, B2 = 1.9e+01, lr = [2.1977667088653818e-07, 0.00021977667088653811, 0.00021977667088653811], l_loss = 0.0002919028338510543, r_loss = 0.00250545353628695, i_mse = 0.0010057296603918076, c_mse = 2.7518959541339427e-05, d_mse = 0.005680212285369635\n",
            "epoch = 1.2e+03, loss = 2.3e-01, B1 = 6.6e-04, B2 = 1.9e+01, lr = [2.1433692424737307e-07, 0.00021433692424737297, 0.00021433692424737297], l_loss = 0.0002919019607361406, r_loss = 0.0025054586585611105, i_mse = 0.001005728729069233, c_mse = 2.7518790375324897e-05, d_mse = 0.0056802062317729\n",
            "epoch = 1.2e+03, loss = 2.3e-01, B1 = 6.6e-04, B2 = 1.9e+01, lr = [2.0903181812022835e-07, 0.00020903181812022826, 0.00020903181812022826], l_loss = 0.00029189162887632847, r_loss = 0.002505447017028928, i_mse = 0.0010057288454845548, c_mse = 2.7518741262611002e-05, d_mse = 0.005680198781192303\n",
            "epoch = 1.2e+03, loss = 2.3e-01, B1 = 6.6e-04, B2 = 1.9e+01, lr = [2.0385801998455125e-07, 0.00020385801998455116, 0.00020385801998455116], l_loss = 0.0002918908139690757, r_loss = 0.0025054446887224913, i_mse = 0.0010057276813313365, c_mse = 2.7518728529685177e-05, d_mse = 0.005680189933627844\n",
            "epoch = 1.2e+03, loss = 2.3e-01, B1 = 6.6e-04, B2 = 1.9e+01, lr = [1.9881227980382786e-07, 0.0001988122798038278, 0.0001988122798038278], l_loss = 0.00029180513229221106, r_loss = 0.002505452139303088, i_mse = 0.0010057511972263455, c_mse = 2.751831016212236e-05, d_mse = 0.005679996684193611\n",
            "epoch = 1.2e+03, loss = 2.3e-01, B1 = 6.6e-04, B2 = 1.9e+01, lr = [1.9389142798400046e-07, 0.0001938914279840004, 0.0001938914279840004], l_loss = 0.00029180393903516233, r_loss = 0.0025054719299077988, i_mse = 0.001005756901577115, c_mse = 2.751822285063099e-05, d_mse = 0.00567993987351656\n",
            "epoch = 1.2e+03, loss = 2.3e-01, B1 = 6.6e-04, B2 = 1.9e+01, lr = [1.8909237338241628e-07, 0.0001890923733824162, 0.0001890923733824162], l_loss = 0.00029179040575399995, r_loss = 0.0025054255966097116, i_mse = 0.0010057707550004125, c_mse = 2.7518264687387273e-05, d_mse = 0.005679915193468332\n",
            "epoch = 1.3e+03, loss = 2.3e-01, B1 = 6.6e-04, B2 = 1.9e+01, lr = [1.8441210136605748e-07, 0.0001844121013660574, 0.0001844121013660574], l_loss = 0.00029178865952417254, r_loss = 0.002505445620045066, i_mse = 0.001005808706395328, c_mse = 2.751820102275815e-05, d_mse = 0.00567989144474268\n",
            "epoch = 1.3e+03, loss = 2.3e-01, B1 = 6.6e-04, B2 = 1.9e+01, lr = [1.798476719178324e-07, 0.0001798476719178323, 0.0001798476719178323], l_loss = 0.00029178542899899185, r_loss = 0.002505443524569273, i_mse = 0.0010058056795969605, c_mse = 2.7518070055521093e-05, d_mse = 0.005679880268871784\n",
            "epoch = 1.3e+03, loss = 2.3e-01, B1 = 6.6e-04, B2 = 1.9e+01, lr = [1.7539621778973811e-07, 0.000175396217789738, 0.000175396217789738], l_loss = 0.00029176243697293103, r_loss = 0.0025054251309484243, i_mse = 0.0010058057960122824, c_mse = 2.75178681476973e-05, d_mse = 0.005679814610630274\n",
            "epoch = 1.3e+03, loss = 2.3e-01, B1 = 6.6e-04, B2 = 1.9e+01, lr = [1.7105494270173492e-07, 0.00017105494270173484, 0.00017105494270173484], l_loss = 0.00029175649979151785, r_loss = 0.002505436073988676, i_mse = 0.0010058159241452813, c_mse = 2.7518024580786005e-05, d_mse = 0.0056797899305820465\n",
            "epoch = 1.3e+03, loss = 2.3e-01, B1 = 6.6e-04, B2 = 1.9e+01, lr = [1.6682111958520076e-07, 0.00016682111958520065, 0.00016682111958520065], l_loss = 0.00029175294912420213, r_loss = 0.002505535027012229, i_mse = 0.0010058119660243392, c_mse = 2.751765714492649e-05, d_mse = 0.005679736379534006\n",
            "epoch = 1.3e+03, loss = 2.3e-01, B1 = 6.6e-04, B2 = 1.9e+01, lr = [1.6269208886986222e-07, 0.00016269208886986213, 0.00016269208886986213], l_loss = 0.0002917434030678123, r_loss = 0.0025055566802620888, i_mse = 0.0010058319894596934, c_mse = 2.7517569833435118e-05, d_mse = 0.005679704714566469\n",
            "epoch = 1.3e+03, loss = 2.3e-01, B1 = 6.6e-04, B2 = 1.9e+01, lr = [1.586652568131264e-07, 0.00015866525681312632, 0.00015866525681312632], l_loss = 0.00029172853101044893, r_loss = 0.0025055354926735163, i_mse = 0.0010058184852823615, c_mse = 2.751754436758347e-05, d_mse = 0.005679651629179716\n",
            "epoch = 1.3e+03, loss = 2.3e-01, B1 = 6.6e-04, B2 = 1.9e+01, lr = [1.5473809387076362e-07, 0.00015473809387076353, 0.00015473809387076353], l_loss = 0.0002917382516898215, r_loss = 0.0025055583100765944, i_mse = 0.0010058232583105564, c_mse = 2.751752981566824e-05, d_mse = 0.005679639987647533\n",
            "epoch = 1.3e+03, loss = 2.3e-01, B1 = 6.6e-04, B2 = 1.9e+01, lr = [1.5090813310791784e-07, 0.00015090813310791778, 0.00015090813310791778], l_loss = 0.000291737902443856, r_loss = 0.0025055536534637213, i_mse = 0.0010058234911412, c_mse = 2.7517426133272238e-05, d_mse = 0.005679643247276545\n",
            "epoch = 1.3e+03, loss = 2.3e-01, B1 = 6.6e-04, B2 = 1.9e+01, lr = [1.471729686494468e-07, 0.00014717296864944675, 0.00014717296864944675], l_loss = 0.0002917365054599941, r_loss = 0.0025055387523025274, i_mse = 0.0010058234911412, c_mse = 2.751739157247357e-05, d_mse = 0.005679637659341097\n",
            "epoch = 1.3e+03, loss = 2.3e-01, B1 = 6.6e-04, B2 = 1.9e+01, lr = [1.4353025416861777e-07, 0.00014353025416861774, 0.00014353025416861774], l_loss = 0.00029173531220294535, r_loss = 0.0025055401492863894, i_mse = 0.001005822909064591, c_mse = 2.7517337002791464e-05, d_mse = 0.005679634865373373\n",
            "epoch = 1.3e+03, loss = 2.3e-01, B1 = 6.6e-04, B2 = 1.9e+01, lr = [1.3997770141321026e-07, 0.00013997770141321023, 0.00013997770141321023], l_loss = 0.0002917351375799626, r_loss = 0.002505540382117033, i_mse = 0.0010058231418952346, c_mse = 2.7517353373696096e-05, d_mse = 0.005679633468389511\n",
            "epoch = 1.3e+03, loss = 2.3e-01, B1 = 6.6e-04, B2 = 1.9e+01, lr = [1.3651307876809942e-07, 0.00013651307876809944, 0.00013651307876809944], l_loss = 0.00029173135408200324, r_loss = 0.002505533630028367, i_mse = 0.0010058177867904305, c_mse = 2.7517369744600728e-05, d_mse = 0.005679627414792776\n",
            "epoch = 1.3e+03, loss = 2.3e-01, B1 = 6.6e-04, B2 = 1.9e+01, lr = [1.3313420985341727e-07, 0.00013313420985341728, 0.00013313420985341728], l_loss = 0.0002917241072282195, r_loss = 0.0025055278092622757, i_mse = 0.0010058182524517179, c_mse = 2.7517260605236515e-05, d_mse = 0.00567961297929287\n",
            "epoch = 1.3e+03, loss = 2.3e-01, B1 = 6.6e-04, B2 = 1.9e+01, lr = [1.2983897215741123e-07, 0.00012983897215741125, 0.00012983897215741125], l_loss = 0.0002917070232797414, r_loss = 0.0025055264122784138, i_mse = 0.0010058191837742925, c_mse = 2.7517105991137214e-05, d_mse = 0.0056795720010995865\n",
            "epoch = 1.3e+03, loss = 2.3e-01, B1 = 6.6e-04, B2 = 1.9e+01, lr = [1.2662529570314116e-07, 0.00012662529570314115, 0.00012662529570314115], l_loss = 0.0002917068195529282, r_loss = 0.002505526877939701, i_mse = 0.0010058193001896143, c_mse = 2.7517020498635247e-05, d_mse = 0.005679571069777012\n",
            "epoch = 1.3e+03, loss = 2.3e-01, B1 = 6.6e-04, B2 = 1.9e+01, lr = [1.2349116174817717e-07, 0.00012349116174817712, 0.00012349116174817712], l_loss = 0.0002916728553827852, r_loss = 0.0025054821744561195, i_mse = 0.0010061536449939013, c_mse = 2.751731881289743e-05, d_mse = 0.005679515656083822\n",
            "epoch = 1.3e+03, loss = 2.3e-01, B1 = 6.6e-04, B2 = 1.9e+01, lr = [1.2043460151648156e-07, 0.00012043460151648154, 0.00012043460151648154], l_loss = 0.0002916708472184837, r_loss = 0.0025054938159883022, i_mse = 0.00100616249255836, c_mse = 2.751712963799946e-05, d_mse = 0.0056795091368258\n",
            "epoch = 1.3e+03, loss = 2.3e-01, B1 = 6.6e-04, B2 = 1.9e+01, lr = [1.174536949616785e-07, 0.0001174536949616785, 0.0001174536949616785], l_loss = 0.0002916644443757832, r_loss = 0.0025054991710931063, i_mse = 0.0010061641223728657, c_mse = 2.751741703832522e-05, d_mse = 0.0056794751435518265\n",
            "epoch = 1.4e+03, loss = 2.3e-01, B1 = 6.6e-04, B2 = 1.9e+01, lr = [1.14546569560934e-07, 0.000114546569560934, 0.000114546569560934], l_loss = 0.0002916643861681223, r_loss = 0.0025054989382624626, i_mse = 0.0010061636567115784, c_mse = 2.7517327907844447e-05, d_mse = 0.0056794751435518265\n",
            "epoch = 1.4e+03, loss = 2.3e-01, B1 = 6.6e-04, B2 = 1.9e+01, lr = [1.11711399138689e-07, 0.00011171139913868901, 0.00011171139913868901], l_loss = 0.00029166415333747864, r_loss = 0.0025055294390767813, i_mse = 0.001006163889542222, c_mse = 2.7517677153809927e-05, d_mse = 0.005679467227309942\n",
            "epoch = 1.4e+03, loss = 2.3e-01, B1 = 6.6e-04, B2 = 1.9e+01, lr = [1.0894640271950654e-07, 0.00010894640271950656, 0.00010894640271950656], l_loss = 0.0002916721277870238, r_loss = 0.0025055340956896544, i_mse = 0.001006156438961625, c_mse = 2.7517695343703963e-05, d_mse = 0.005679437890648842\n",
            "epoch = 1.4e+03, loss = 2.3e-01, B1 = 6.6e-04, B2 = 1.9e+01, lr = [1.062498434093124e-07, 0.00010624984340931242, 0.00010624984340931242], l_loss = 0.00029166878084652126, r_loss = 0.002505544340237975, i_mse = 0.0010062498040497303, c_mse = 2.7517266062204726e-05, d_mse = 0.005679418798536062\n",
            "epoch = 1.4e+03, loss = 2.3e-01, B1 = 6.6e-04, B2 = 1.9e+01, lr = [1.036200273043264e-07, 0.0001036200273043264, 0.0001036200273043264], l_loss = 0.00029166851891204715, r_loss = 0.0025055445730686188, i_mse = 0.0010062499204650521, c_mse = 2.751732426986564e-05, d_mse = 0.005679418798536062\n",
            "epoch = 1.4e+03, loss = 2.3e-01, B1 = 6.6e-04, B2 = 1.9e+01, lr = [1.0105530242699895e-07, 0.00010105530242699896, 0.00010105530242699896], l_loss = 0.0002916684024967253, r_loss = 0.0025055445730686188, i_mse = 0.0010062501532956958, c_mse = 2.7517387934494764e-05, d_mse = 0.005679417867213488\n",
            "epoch = 1.4e+03, loss = 2.3e-01, B1 = 6.6e-04, B2 = 1.9e+01, lr = [9.855405768828474e-08, 9.855405768828472e-05, 9.855405768828472e-05], l_loss = 0.00029160594567656517, r_loss = 0.00250555039383471, i_mse = 0.001006239908747375, c_mse = 2.7516933187143877e-05, d_mse = 0.005679386667907238\n",
            "epoch = 1.4e+03, loss = 2.3e-01, B1 = 6.6e-04, B2 = 1.9e+01, lr = [9.611472187560103e-08, 9.611472187560102e-05, 9.611472187560102e-05], l_loss = 0.0002916043740697205, r_loss = 0.002505528973415494, i_mse = 0.0010062118526548147, c_mse = 2.7516645786818117e-05, d_mse = 0.005679377820342779\n",
            "epoch = 1.4e+03, loss = 2.3e-01, B1 = 6.6e-04, B2 = 1.9e+01, lr = [9.373576266583571e-08, 9.37357626658357e-05, 9.37357626658357e-05], l_loss = 0.00029158854158595204, r_loss = 0.0025055515579879284, i_mse = 0.001006233156658709, c_mse = 2.7516825866769068e-05, d_mse = 0.005679318681359291\n",
            "epoch = 1.4e+03, loss = 2.3e-01, B1 = 6.6e-04, B2 = 1.9e+01, lr = [9.141568566278427e-08, 9.141568566278427e-05, 9.141568566278427e-05], l_loss = 0.00029158793040551245, r_loss = 0.0025055527221411467, i_mse = 0.0010062336223199964, c_mse = 2.751686770352535e-05, d_mse = 0.00567931542173028\n",
            "epoch = 1.4e+03, loss = 2.3e-01, B1 = 6.6e-04, B2 = 1.9e+01, lr = [8.915303345841164e-08, 8.915303345841164e-05, 8.915303345841164e-05], l_loss = 0.0002915876975748688, r_loss = 0.0025055527221411467, i_mse = 0.0010062336223199964, c_mse = 2.7516876798472367e-05, d_mse = 0.005679314956068993\n",
            "epoch = 1.4e+03, loss = 2.3e-01, B1 = 6.6e-04, B2 = 1.9e+01, lr = [8.694638471734874e-08, 8.694638471734876e-05, 8.694638471734876e-05], l_loss = 0.0002915980585385114, r_loss = 0.0025055527221411467, i_mse = 0.0010062336223199964, c_mse = 2.751684769464191e-05, d_mse = 0.005679301917552948\n",
            "epoch = 1.4e+03, loss = 2.3e-01, B1 = 6.6e-04, B2 = 1.9e+01, lr = [8.479435328404921e-08, 8.479435328404922e-05, 8.479435328404922e-05], l_loss = 0.0002915953809861094, r_loss = 0.0025055522564798594, i_mse = 0.00100623385515064, c_mse = 2.7516978661878966e-05, d_mse = 0.0056792874820530415\n",
            "epoch = 1.4e+03, loss = 2.3e-01, B1 = 6.6e-04, B2 = 1.9e+01, lr = [8.269558731204477e-08, 8.269558731204478e-05, 8.269558731204478e-05], l_loss = 0.00029158053803257644, r_loss = 0.002505590906366706, i_mse = 0.0010062548099085689, c_mse = 2.7516854970599525e-05, d_mse = 0.005679264664649963\n",
            "epoch = 1.4e+03, loss = 2.3e-01, B1 = 6.6e-04, B2 = 1.9e+01, lr = [8.064876841475281e-08, 8.064876841475281e-05, 8.064876841475281e-05], l_loss = 0.00029158047982491553, r_loss = 0.002505590906366706, i_mse = 0.001006254693493247, c_mse = 2.7516893169377e-05, d_mse = 0.005679264198988676\n",
            "epoch = 1.4e+03, loss = 2.3e-01, B1 = 6.6e-04, B2 = 1.9e+01, lr = [7.865261083730253e-08, 7.865261083730254e-05, 7.865261083730254e-05], l_loss = 0.00029158039251342416, r_loss = 0.002505590906366706, i_mse = 0.0010062549263238907, c_mse = 2.751694955804851e-05, d_mse = 0.005679264198988676\n",
            "epoch = 1.4e+03, loss = 2.3e-01, B1 = 6.6e-04, B2 = 1.9e+01, lr = [7.670586064885938e-08, 7.670586064885938e-05, 7.670586064885938e-05], l_loss = 0.00029159733094275, r_loss = 0.0025055932346731424, i_mse = 0.0010062556248158216, c_mse = 2.7516851332620718e-05, d_mse = 0.005679239518940449\n",
            "epoch = 1.4e+03, loss = 2.3e-01, B1 = 6.6e-04, B2 = 1.9e+01, lr = [7.480729495494042e-08, 7.480729495494041e-05, 7.480729495494041e-05], l_loss = 0.0002915940713137388, r_loss = 0.0025055978912860155, i_mse = 0.0010062556248158216, c_mse = 2.751704232650809e-05, d_mse = 0.00567923067137599\n",
            "epoch = 1.4e+03, loss = 2.3e-01, B1 = 6.6e-04, B2 = 1.9e+01, lr = [7.295572112922596e-08, 7.295572112922598e-05, 7.295572112922598e-05], l_loss = 0.00029159392579458654, r_loss = 0.0025055978912860155, i_mse = 0.0010062556248158216, c_mse = 2.751706233539153e-05, d_mse = 0.005679230205714703\n",
            "epoch = 1.4e+03, loss = 2.3e-01, B1 = 6.6e-04, B2 = 1.9e+01, lr = [7.114997606438484e-08, 7.114997606438485e-05, 7.114997606438485e-05], l_loss = 0.00029158007237128913, r_loss = 0.0025055925361812115, i_mse = 0.0010062556248158216, c_mse = 2.751708416326437e-05, d_mse = 0.005679227411746979\n",
            "epoch = 1.4e+03, loss = 2.3e-01, B1 = 6.6e-04, B2 = 1.9e+01, lr = [6.938892544144257e-08, 6.938892544144259e-05, 6.938892544144259e-05], l_loss = 0.00029158007237128913, r_loss = 0.002505591372027993, i_mse = 0.0010062543442472816, c_mse = 2.751700048975181e-05, d_mse = 0.005679225083440542\n",
            "epoch = 1.5e+03, loss = 2.3e-01, B1 = 6.6e-04, B2 = 1.9e+01, lr = [6.76714630172336e-08, 6.767146301723364e-05, 6.767146301723364e-05], l_loss = 0.0002915800141636282, r_loss = 0.002505591372027993, i_mse = 0.0010062544606626034, c_mse = 2.7517049602465704e-05, d_mse = 0.005679220426827669\n",
            "epoch = 1.5e+03, loss = 2.3e-01, B1 = 6.6e-04, B2 = 1.9e+01, lr = [6.599650992949015e-08, 6.599650992949019e-05, 6.599650992949019e-05], l_loss = 0.00029157992685213685, r_loss = 0.002505591372027993, i_mse = 0.0010062543442472816, c_mse = 2.751705324044451e-05, d_mse = 0.005679220426827669\n",
            "epoch = 1.5e+03, loss = 2.3e-01, B1 = 6.6e-04, B2 = 1.9e+01, lr = [6.43630140191307e-08, 6.436301401913074e-05, 6.436301401913074e-05], l_loss = 0.0002915798977483064, r_loss = 0.0025055918376892805, i_mse = 0.0010062544606626034, c_mse = 2.7516802219906822e-05, d_mse = 0.00567922368645668\n",
            "epoch = 1.5e+03, loss = 2.3e-01, B1 = 6.6e-04, B2 = 1.9e+01, lr = [6.276994916932297e-08, 6.276994916932301e-05, 6.276994916932301e-05], l_loss = 0.000291579810436815, r_loss = 0.002505592070519924, i_mse = 0.0010062543442472816, c_mse = 2.7516800400917418e-05, d_mse = 0.005679222755134106\n",
            "epoch = 1.5e+03, loss = 2.3e-01, B1 = 6.6e-04, B2 = 1.9e+01, lr = [6.121631466090569e-08, 6.121631466090573e-05, 6.121631466090573e-05], l_loss = 0.00029157978133298457, r_loss = 0.0025055918376892805, i_mse = 0.0010062543442472816, c_mse = 2.7516787667991593e-05, d_mse = 0.005679222289472818\n",
            "epoch = 1.5e+03, loss = 2.3e-01, B1 = 6.6e-04, B2 = 1.9e+01, lr = [5.970113454376463e-08, 5.9701134543764676e-05, 5.9701134543764676e-05], l_loss = 0.00029157972312532365, r_loss = 0.002505633747205138, i_mse = 0.0010063546942546964, c_mse = 2.7516742193256505e-05, d_mse = 0.005679174792021513\n",
            "epoch = 1.5e+03, loss = 2.3e-01, B1 = 6.6e-04, B2 = 1.9e+01, lr = [5.822345702376776e-08, 5.8223457023767804e-05, 5.8223457023767804e-05], l_loss = 0.0002915796940214932, r_loss = 0.002505615586414933, i_mse = 0.00100635492708534, c_mse = 2.7516696718521416e-05, d_mse = 0.005679172929376364\n",
            "epoch = 1.5e+03, loss = 2.3e-01, B1 = 6.6e-04, B2 = 1.9e+01, lr = [5.6782353864874586e-08, 5.6782353864874624e-05, 5.6782353864874624e-05], l_loss = 0.0002915796067100018, r_loss = 0.0025055899750441313, i_mse = 0.00100635492708534, c_mse = 2.7516578484210186e-05, d_mse = 0.00567915802821517\n",
            "epoch = 1.5e+03, loss = 2.3e-01, B1 = 6.6e-04, B2 = 1.9e+01, lr = [5.537691980604403e-08, 5.537691980604405e-05, 5.537691980604405e-05], l_loss = 0.000291568401735276, r_loss = 0.002505569951608777, i_mse = 0.0010063562076538801, c_mse = 2.7516443878994323e-05, d_mse = 0.005679094232618809\n",
            "epoch = 1.5e+03, loss = 2.3e-01, B1 = 6.6e-04, B2 = 1.9e+01, lr = [5.40062719925745e-08, 5.400627199257452e-05, 5.400627199257452e-05], l_loss = 0.0002915683726314455, r_loss = 0.002505569951608777, i_mse = 0.0010063562076538801, c_mse = 2.7516463887877762e-05, d_mse = 0.005679094232618809\n",
            "epoch = 1.5e+03, loss = 2.3e-01, B1 = 6.6e-04, B2 = 1.9e+01, lr = [5.2669549421519117e-08, 5.266954942151914e-05, 5.266954942151914e-05], l_loss = 0.00029157011886127293, r_loss = 0.0025055576115846634, i_mse = 0.001006344216875732, c_mse = 2.7516556656337343e-05, d_mse = 0.0056790863163769245\n",
            "epoch = 1.5e+03, loss = 2.3e-01, B1 = 6.6e-04, B2 = 1.9e+01, lr = [5.136591240082749e-08, 5.136591240082751e-05, 5.136591240082751e-05], l_loss = 0.000291570060653612, r_loss = 0.0025055648293346167, i_mse = 0.001006344216875732, c_mse = 2.751654938037973e-05, d_mse = 0.005679089110344648\n",
            "epoch = 1.5e+03, loss = 2.3e-01, B1 = 6.6e-04, B2 = 1.9e+01, lr = [5.009454202187446e-08, 5.0094542021874485e-05, 5.0094542021874485e-05], l_loss = 0.00029157003154978156, r_loss = 0.0025055648293346167, i_mse = 0.001006344216875732, c_mse = 2.7516562113305554e-05, d_mse = 0.005679089110344648\n",
            "epoch = 1.5e+03, loss = 2.3e-01, B1 = 6.6e-04, B2 = 1.9e+01, lr = [4.885463964504443e-08, 4.8854639645044454e-05, 4.8854639645044454e-05], l_loss = 0.00029156674281693995, r_loss = 0.0025055704172700644, i_mse = 0.0010063445661216974, c_mse = 2.751644751697313e-05, d_mse = 0.00567907327786088\n",
            "epoch = 1.5e+03, loss = 2.3e-01, B1 = 6.6e-04, B2 = 1.9e+01, lr = [4.764542639804811e-08, 4.764542639804812e-05, 4.764542639804812e-05], l_loss = 0.00029156406526453793, r_loss = 0.002505555050447583, i_mse = 0.0010063482914119959, c_mse = 2.7516362024471164e-05, d_mse = 0.005679064430296421\n",
            "epoch = 1.5e+03, loss = 2.3e-01, B1 = 6.6e-04, B2 = 1.9e+01, lr = [4.646614268665648e-08, 4.64661426866565e-05, 4.64661426866565e-05], l_loss = 0.0002915577788371593, r_loss = 0.002505555050447583, i_mse = 0.0010063482914119959, c_mse = 2.7516376576386392e-05, d_mse = 0.005679055117070675\n",
            "epoch = 1.5e+03, loss = 2.3e-01, B1 = 6.6e-04, B2 = 1.9e+01, lr = [4.531604771754487e-08, 4.531604771754488e-05, 4.531604771754488e-05], l_loss = 0.0002915576915256679, r_loss = 0.002505555050447583, i_mse = 0.0010063482914119959, c_mse = 2.7516363843460567e-05, d_mse = 0.005679056514054537\n",
            "epoch = 1.5e+03, loss = 2.3e-01, B1 = 6.6e-04, B2 = 1.9e+01, lr = [4.4194419032947024e-08, 4.419441903294704e-05, 4.419441903294704e-05], l_loss = 0.000291557633318007, r_loss = 0.002505555050447583, i_mse = 0.0010063482914119959, c_mse = 2.7516383852344006e-05, d_mse = 0.005679056514054537\n",
            "epoch = 1.5e+03, loss = 2.3e-01, B1 = 6.6e-04, B2 = 1.9e+01, lr = [4.310055205682724e-08, 4.310055205682726e-05, 4.310055205682726e-05], l_loss = 0.00029155725496821105, r_loss = 0.002505555748939514, i_mse = 0.0010063487570732832, c_mse = 2.751642205112148e-05, d_mse = 0.005679055582731962\n",
            "epoch = 1.6e+03, loss = 2.3e-01, B1 = 6.6e-04, B2 = 1.9e+01, lr = [4.2033759652285233e-08, 4.2033759652285245e-05, 4.2033759652285245e-05], l_loss = 0.00029154930962249637, r_loss = 0.002505548996850848, i_mse = 0.0010063452646136284, c_mse = 2.7516147383721545e-05, d_mse = 0.0056790197268128395\n",
            "epoch = 1.6e+03, loss = 2.3e-01, B1 = 6.6e-04, B2 = 1.9e+01, lr = [4.099337168991576e-08, 4.099337168991576e-05, 4.099337168991576e-05], l_loss = 0.0002915492805186659, r_loss = 0.0025055466685444117, i_mse = 0.0010063451481983066, c_mse = 2.7516147383721545e-05, d_mse = 0.005679020192474127\n",
            "epoch = 1.6e+03, loss = 2.3e-01, B1 = 6.6e-04, B2 = 1.9e+01, lr = [3.997873462685191e-08, 3.997873462685192e-05, 3.997873462685192e-05], l_loss = 0.000291549222311005, r_loss = 0.0025055466685444117, i_mse = 0.0010063451481983066, c_mse = 2.7516151021700352e-05, d_mse = 0.005679017398506403\n",
            "epoch = 1.6e+03, loss = 2.3e-01, B1 = 6.6e-04, B2 = 1.9e+01, lr = [3.898921109622766e-08, 3.898921109622766e-05, 3.898921109622766e-05], l_loss = 0.0002915512304753065, r_loss = 0.0025055466685444117, i_mse = 0.0010063452646136284, c_mse = 2.751623105723411e-05, d_mse = 0.005679015535861254\n",
            "epoch = 1.6e+03, loss = 2.3e-01, B1 = 6.6e-04, B2 = 1.9e+01, lr = [3.802417950680159e-08, 3.8024179506801595e-05, 3.8024179506801595e-05], l_loss = 0.0002915512304753065, r_loss = 0.0025055469013750553, i_mse = 0.0010063452646136284, c_mse = 2.7516232876223512e-05, d_mse = 0.005679015535861254\n",
            "epoch = 1.6e+03, loss = 2.3e-01, B1 = 6.6e-04, B2 = 1.9e+01, lr = [3.7083033652490605e-08, 3.708303365249061e-05, 3.708303365249061e-05], l_loss = 0.0002915511722676456, r_loss = 0.0025055469013750553, i_mse = 0.0010063453810289502, c_mse = 2.751623105723411e-05, d_mse = 0.005679015535861254\n",
            "epoch = 1.6e+03, loss = 2.3e-01, B1 = 6.6e-04, B2 = 1.9e+01, lr = [3.616518233156799e-08, 3.6165182331568e-05, 3.6165182331568e-05], l_loss = 0.0002915498916991055, r_loss = 0.0025055480655282736, i_mse = 0.0010063460795208812, c_mse = 2.7516223781276494e-05, d_mse = 0.005679010413587093\n",
            "epoch = 1.6e+03, loss = 2.3e-01, B1 = 6.6e-04, B2 = 1.9e+01, lr = [3.527004897528694e-08, 3.527004897528695e-05, 3.527004897528695e-05], l_loss = 0.00029154986259527504, r_loss = 0.0025055480655282736, i_mse = 0.0010063460795208812, c_mse = 2.751621104835067e-05, d_mse = 0.005679010413587093\n",
            "epoch = 1.6e+03, loss = 2.3e-01, B1 = 6.6e-04, B2 = 1.9e+01, lr = [3.439707128569604e-08, 3.4397071285696065e-05, 3.4397071285696065e-05], l_loss = 0.0002915498334914446, r_loss = 0.0025055480655282736, i_mse = 0.0010063460795208812, c_mse = 2.751625834207516e-05, d_mse = 0.005679010413587093\n",
            "epoch = 1.6e+03, loss = 2.3e-01, B1 = 6.6e-04, B2 = 1.9e+01, lr = [3.354570088241931e-08, 3.3545700882419334e-05, 3.3545700882419334e-05], l_loss = 0.0002915498334914446, r_loss = 0.0025055480655282736, i_mse = 0.0010063460795208812, c_mse = 2.751626198005397e-05, d_mse = 0.005679010413587093\n",
            "epoch = 1.6e+03, loss = 2.3e-01, B1 = 6.6e-04, B2 = 1.9e+01, lr = [3.271540295817881e-08, 3.2715402958178836e-05, 3.2715402958178836e-05], l_loss = 0.00029154980438761413, r_loss = 0.002505545737221837, i_mse = 0.0010063460795208812, c_mse = 2.7516320187714882e-05, d_mse = 0.005679022986441851\n",
            "epoch = 1.6e+03, loss = 2.3e-01, B1 = 6.6e-04, B2 = 1.9e+01, lr = [3.1905655942843584e-08, 3.190565594284361e-05, 3.190565594284361e-05], l_loss = 0.00029154980438761413, r_loss = 0.002505545737221837, i_mse = 0.0010063460795208812, c_mse = 2.7516316549736075e-05, d_mse = 0.005679021123796701\n",
            "epoch = 1.6e+03, loss = 2.3e-01, B1 = 6.6e-04, B2 = 1.9e+01, lr = [3.111595117579375e-08, 3.111595117579377e-05, 3.111595117579377e-05], l_loss = 0.00029155908850952983, r_loss = 0.002505545737221837, i_mse = 0.001006346195936203, c_mse = 2.7516311092767864e-05, d_mse = 0.005679021589457989\n",
            "epoch = 1.6e+03, loss = 2.3e-01, B1 = 6.6e-04, B2 = 1.9e+01, lr = [3.034579258639399e-08, 3.0345792586394023e-05, 3.0345792586394023e-05], l_loss = 0.00029155908850952983, r_loss = 0.002505545737221837, i_mse = 0.001006346195936203, c_mse = 2.75163292826619e-05, d_mse = 0.005679020658135414\n",
            "epoch = 1.6e+03, loss = 2.3e-01, B1 = 6.6e-04, B2 = 1.9e+01, lr = [2.9594696382375783e-08, 2.9594696382375808e-05, 2.9594696382375808e-05], l_loss = 0.00029155905940569937, r_loss = 0.002505545737221837, i_mse = 0.001006346195936203, c_mse = 2.7516311092767864e-05, d_mse = 0.005679020658135414\n",
            "epoch = 1.6e+03, loss = 2.3e-01, B1 = 6.6e-04, B2 = 1.9e+01, lr = [2.886219074593245e-08, 2.8862190745932472e-05, 2.8862190745932472e-05], l_loss = 0.00029155905940569937, r_loss = 0.002505545737221837, i_mse = 0.001006346195936203, c_mse = 2.7516316549736075e-05, d_mse = 0.005679020658135414\n",
            "epoch = 1.6e+03, loss = 2.3e-01, B1 = 6.6e-04, B2 = 1.9e+01, lr = [2.814781553733634e-08, 2.8147815537336363e-05, 2.8147815537336363e-05], l_loss = 0.0002915590303018689, r_loss = 0.002505545737221837, i_mse = 0.001006346195936203, c_mse = 2.751630381681025e-05, d_mse = 0.005679020658135414\n",
            "epoch = 1.6e+03, loss = 2.3e-01, B1 = 6.6e-04, B2 = 1.9e+01, lr = [2.7451122005891804e-08, 2.7451122005891828e-05, 2.7451122005891828e-05], l_loss = 0.0002915590303018689, r_loss = 0.002505545737221837, i_mse = 0.001006346195936203, c_mse = 2.7516307454789057e-05, d_mse = 0.005679020658135414\n",
            "epoch = 1.6e+03, loss = 2.3e-01, B1 = 6.6e-04, B2 = 1.9e+01, lr = [2.677167250804245e-08, 2.677167250804247e-05, 2.677167250804247e-05], l_loss = 0.0002915590303018689, r_loss = 0.002505545737221837, i_mse = 0.001006346195936203, c_mse = 2.7516296540852636e-05, d_mse = 0.005679020658135414\n",
            "epoch = 1.6e+03, loss = 2.3e-01, B1 = 6.6e-04, B2 = 1.9e+01, lr = [2.6109040232455575e-08, 2.61090402324556e-05, 2.61090402324556e-05], l_loss = 0.0002915590303018689, r_loss = 0.00250554783269763, i_mse = 0.0010063460795208812, c_mse = 2.7516316549736075e-05, d_mse = 0.005679016467183828\n",
            "epoch = 1.6e+03, loss = 2.3e-01, B1 = 6.6e-04, B2 = 1.9e+01, lr = [2.5462808931911167e-08, 2.5462808931911193e-05, 2.5462808931911193e-05], l_loss = 0.00029155900119803846, r_loss = 0.00250554783269763, i_mse = 0.0010063460795208812, c_mse = 2.7516336558619514e-05, d_mse = 0.005679013207554817\n",
            "epoch = 1.7e+03, loss = 2.3e-01, B1 = 6.6e-04, B2 = 1.9e+01, lr = [2.4832572661826908e-08, 2.483257266182693e-05, 2.483257266182693e-05], l_loss = 0.00029155900119803846, r_loss = 0.00250554783269763, i_mse = 0.0010063460795208812, c_mse = 2.7516338377608918e-05, d_mse = 0.005679013207554817\n",
            "epoch = 1.7e+03, loss = 2.3e-01, B1 = 6.6e-04, B2 = 1.9e+01, lr = [2.421793552525505e-08, 2.4217935525255074e-05, 2.4217935525255074e-05], l_loss = 0.00029155900119803846, r_loss = 0.00250554783269763, i_mse = 0.0010063460795208812, c_mse = 2.7516336558619514e-05, d_mse = 0.0056790136732161045\n",
            "epoch = 1.7e+03, loss = 2.3e-01, B1 = 6.6e-04, B2 = 1.9e+01, lr = [2.3618511424190948e-08, 2.3618511424190974e-05, 2.3618511424190974e-05], l_loss = 0.00029155894299037755, r_loss = 0.00250554783269763, i_mse = 0.0010063460795208812, c_mse = 2.7516345653566532e-05, d_mse = 0.0056790136732161045\n",
            "epoch = 1.7e+03, loss = 2.3e-01, B1 = 6.6e-04, B2 = 1.9e+01, lr = [2.303392381703698e-08, 2.3033923817037006e-05, 2.3033923817037006e-05], l_loss = 0.00029155894299037755, r_loss = 0.00250554783269763, i_mse = 0.0010063460795208812, c_mse = 2.751634929154534e-05, d_mse = 0.0056790136732161045\n",
            "epoch = 1.7e+03, loss = 2.3e-01, B1 = 6.6e-04, B2 = 1.9e+01, lr = [2.2463805482069577e-08, 2.24638054820696e-05, 2.24638054820696e-05], l_loss = 0.00029155894299037755, r_loss = 0.002505537820979953, i_mse = 0.0010063460795208812, c_mse = 2.7516214686329477e-05, d_mse = 0.005679006222635508\n",
            "epoch = 1.7e+03, loss = 2.3e-01, B1 = 6.6e-04, B2 = 1.9e+01, lr = [2.1907798286760697e-08, 2.1907798286760712e-05, 2.1907798286760712e-05], l_loss = 0.0002915589138865471, r_loss = 0.002505537820979953, i_mse = 0.0010063460795208812, c_mse = 2.75162274192553e-05, d_mse = 0.005679006222635508\n",
            "epoch = 1.7e+03, loss = 2.3e-01, B1 = 6.6e-04, B2 = 1.9e+01, lr = [2.1365552962808918e-08, 2.1365552962808937e-05, 2.1365552962808937e-05], l_loss = 0.00029155888478271663, r_loss = 0.0025055392179638147, i_mse = 0.0010063452646136284, c_mse = 2.7516294721863233e-05, d_mse = 0.00567900063470006\n",
            "epoch = 1.7e+03, loss = 2.3e-01, B1 = 6.6e-04, B2 = 1.9e+01, lr = [2.0836728886738777e-08, 2.08367288867388e-05, 2.08367288867388e-05], l_loss = 0.0002915588556788862, r_loss = 0.0025055392179638147, i_mse = 0.0010063453810289502, c_mse = 2.7516291083884425e-05, d_mse = 0.00567900063470006\n",
            "epoch = 1.7e+03, loss = 2.3e-01, B1 = 6.6e-04, B2 = 1.9e+01, lr = [2.0320993865930545e-08, 2.0320993865930566e-05, 2.0320993865930566e-05], l_loss = 0.0002915588556788862, r_loss = 0.0025055392179638147, i_mse = 0.0010063453810289502, c_mse = 2.7516291083884425e-05, d_mse = 0.00567900063470006\n",
            "epoch = 1.7e+03, loss = 2.3e-01, B1 = 6.6e-04, B2 = 1.9e+01, lr = [1.9818023929946034e-08, 1.9818023929946057e-05, 1.9818023929946057e-05], l_loss = 0.0002915588556788862, r_loss = 0.002505529671907425, i_mse = 0.0010063453810289502, c_mse = 2.751635474851355e-05, d_mse = 0.005679003428667784\n",
            "epoch = 1.7e+03, loss = 2.3e-01, B1 = 6.6e-04, B2 = 1.9e+01, lr = [1.9327503127019353e-08, 1.9327503127019376e-05, 1.9327503127019376e-05], l_loss = 0.0002915588556788862, r_loss = 0.002505529671907425, i_mse = 0.0010063453810289502, c_mse = 2.751635474851355e-05, d_mse = 0.005679003428667784\n",
            "epoch = 1.7e+03, loss = 2.3e-01, B1 = 6.6e-04, B2 = 1.9e+01, lr = [1.8849123325584766e-08, 1.8849123325584783e-05, 1.8849123325584783e-05], l_loss = 0.0002915588265750557, r_loss = 0.002505529671907425, i_mse = 0.0010063453810289502, c_mse = 2.7516351110534742e-05, d_mse = 0.005679003428667784\n",
            "epoch = 1.7e+03, loss = 2.3e-01, B1 = 6.6e-04, B2 = 1.9e+01, lr = [1.8382584020716993e-08, 1.838258402071701e-05, 1.838258402071701e-05], l_loss = 0.0002915588265750557, r_loss = 0.002505529671907425, i_mse = 0.0010063453810289502, c_mse = 2.7516358386492357e-05, d_mse = 0.005679003428667784\n",
            "epoch = 1.7e+03, loss = 2.3e-01, B1 = 6.6e-04, B2 = 1.9e+01, lr = [1.7927592145362354e-08, 1.7927592145362366e-05, 1.7927592145362366e-05], l_loss = 0.00029155879747122526, r_loss = 0.002505590207874775, i_mse = 0.0010063453810289502, c_mse = 2.751637111941818e-05, d_mse = 0.005678992718458176\n",
            "epoch = 1.7e+03, loss = 2.3e-01, B1 = 6.6e-04, B2 = 1.9e+01, lr = [1.7483861886242157e-08, 1.7483861886242167e-05, 1.7483861886242167e-05], l_loss = 0.00029155879747122526, r_loss = 0.002505590207874775, i_mse = 0.0010063453810289502, c_mse = 2.751656029431615e-05, d_mse = 0.005678992718458176\n",
            "epoch = 1.7e+03, loss = 2.3e-01, B1 = 6.6e-04, B2 = 1.9e+01, lr = [1.7051114504312738e-08, 1.705111450431275e-05, 1.705111450431275e-05], l_loss = 0.00029155879747122526, r_loss = 0.002505590207874775, i_mse = 0.0010063453810289502, c_mse = 2.751656029431615e-05, d_mse = 0.005678992718458176\n",
            "epoch = 1.7e+03, loss = 2.3e-01, B1 = 6.6e-04, B2 = 1.9e+01, lr = [1.6629078159669318e-08, 1.6629078159669325e-05, 1.6629078159669325e-05], l_loss = 0.00029155879747122526, r_loss = 0.002505590207874775, i_mse = 0.0010063453810289502, c_mse = 2.751656029431615e-05, d_mse = 0.005678992718458176\n",
            "epoch = 1.7e+03, loss = 2.3e-01, B1 = 6.6e-04, B2 = 1.9e+01, lr = [1.6217487740783707e-08, 1.6217487740783716e-05, 1.6217487740783716e-05], l_loss = 0.0002915584191214293, r_loss = 0.0025055892765522003, i_mse = 0.001006344798952341, c_mse = 2.751656029431615e-05, d_mse = 0.005678992718458176\n",
            "epoch = 1.7e+03, loss = 2.3e-01, B1 = 6.6e-04, B2 = 1.9e+01, lr = [1.5816084697968606e-08, 1.5816084697968612e-05, 1.5816084697968612e-05], l_loss = 0.0002915584191214293, r_loss = 0.0025055892765522003, i_mse = 0.001006344798952341, c_mse = 2.7516607588040642e-05, d_mse = 0.005678992718458176\n",
            "epoch = 1.8e+03, loss = 2.3e-01, B1 = 6.6e-04, B2 = 1.9e+01, lr = [1.542461688096385e-08, 1.5424616880963856e-05, 1.5424616880963856e-05], l_loss = 0.0002915584191214293, r_loss = 0.0025055892765522003, i_mse = 0.001006344798952341, c_mse = 2.7516598493093625e-05, d_mse = 0.005678992718458176\n",
            "epoch = 1.8e+03, loss = 2.3e-01, B1 = 6.7e-04, B2 = 1.9e+01, lr = [1.504283838054262e-08, 1.5042838380542623e-05, 1.5042838380542623e-05], l_loss = 0.0002915584191214293, r_loss = 0.0025055892765522003, i_mse = 0.001006344798952341, c_mse = 2.7516598493093625e-05, d_mse = 0.005678992718458176\n",
            "epoch = 1.8e+03, loss = 2.3e-01, B1 = 6.7e-04, B2 = 1.9e+01, lr = [1.4670509374038075e-08, 1.467050937403808e-05, 1.467050937403808e-05], l_loss = 0.0002915584191214293, r_loss = 0.0025055892765522003, i_mse = 0.001006344798952341, c_mse = 2.7516598493093625e-05, d_mse = 0.005678992718458176\n",
            "epoch = 1.8e+03, loss = 2.3e-01, B1 = 6.7e-04, B2 = 1.9e+01, lr = [1.4307395974693413e-08, 1.4307395974693417e-05, 1.4307395974693417e-05], l_loss = 0.0002915584191214293, r_loss = 0.0025055892765522003, i_mse = 0.001006344798952341, c_mse = 2.7516598493093625e-05, d_mse = 0.005678992718458176\n",
            "epoch = 1.8e+03, loss = 2.3e-01, B1 = 6.7e-04, B2 = 1.9e+01, lr = [1.3953270084740683e-08, 1.3953270084740686e-05, 1.3953270084740686e-05], l_loss = 0.0002915584191214293, r_loss = 0.0025055892765522003, i_mse = 0.001006344798952341, c_mse = 2.7516598493093625e-05, d_mse = 0.005678992718458176\n",
            "epoch = 1.8e+03, loss = 2.3e-01, B1 = 6.7e-04, B2 = 1.9e+01, lr = [1.3607909252116107e-08, 1.3607909252116115e-05, 1.3607909252116115e-05], l_loss = 0.0002915584191214293, r_loss = 0.0025055892765522003, i_mse = 0.001006344798952341, c_mse = 2.7516623958945274e-05, d_mse = 0.005678992718458176\n",
            "epoch = 1.8e+03, loss = 2.3e-01, B1 = 6.7e-04, B2 = 1.9e+01, lr = [1.327109653072186e-08, 1.3271096530721868e-05, 1.3271096530721868e-05], l_loss = 0.0002915584191214293, r_loss = 0.0025055892765522003, i_mse = 0.001006344798952341, c_mse = 2.7516623958945274e-05, d_mse = 0.005678992718458176\n",
            "epoch = 1.8e+03, loss = 2.3e-01, B1 = 6.7e-04, B2 = 1.9e+01, lr = [1.2942620344146535e-08, 1.2942620344146542e-05, 1.2942620344146542e-05], l_loss = 0.0002915584191214293, r_loss = 0.0025055892765522003, i_mse = 0.001006344798952341, c_mse = 2.7516623958945274e-05, d_mse = 0.005678992718458176\n",
            "epoch = 1.8e+03, loss = 2.3e-01, B1 = 6.7e-04, B2 = 1.9e+01, lr = [1.2622274352758721e-08, 1.2622274352758728e-05, 1.2622274352758728e-05], l_loss = 0.0002915584191214293, r_loss = 0.0025055892765522003, i_mse = 0.001006344798952341, c_mse = 2.7516623958945274e-05, d_mse = 0.005678992718458176\n",
            "epoch = 1.8e+03, loss = 2.3e-01, B1 = 6.7e-04, B2 = 1.9e+01, lr = [1.2309857324090163e-08, 1.230985732409017e-05, 1.230985732409017e-05], l_loss = 0.0002915584191214293, r_loss = 0.0025055892765522003, i_mse = 0.001006344798952341, c_mse = 2.7516623958945274e-05, d_mse = 0.005678992718458176\n",
            "epoch = 1.8e+03, loss = 2.3e-01, B1 = 6.7e-04, B2 = 1.9e+01, lr = [1.2005173006427112e-08, 1.200517300642712e-05, 1.200517300642712e-05], l_loss = 0.00029155839001759887, r_loss = 0.0025055892765522003, i_mse = 0.001006344798952341, c_mse = 2.7516818590811454e-05, d_mse = 0.005678990855813026\n",
            "epoch = 1.8e+03, loss = 2.3e-01, B1 = 6.7e-04, B2 = 1.9e+01, lr = [1.1708030005530431e-08, 1.1708030005530438e-05, 1.1708030005530438e-05], l_loss = 0.00029155839001759887, r_loss = 0.0025055892765522003, i_mse = 0.001006344798952341, c_mse = 2.7516818590811454e-05, d_mse = 0.005678990855813026\n",
            "epoch = 1.8e+03, loss = 2.3e-01, B1 = 6.7e-04, B2 = 1.9e+01, lr = [1.1418241664407053e-08, 1.1418241664407058e-05, 1.1418241664407058e-05], l_loss = 0.00029155839001759887, r_loss = 0.0025055892765522003, i_mse = 0.001006344798952341, c_mse = 2.7516818590811454e-05, d_mse = 0.005678990855813026\n",
            "epoch = 1.8e+03, loss = 2.3e-01, B1 = 6.7e-04, B2 = 1.9e+01, lr = [1.1135625946057222e-08, 1.1135625946057225e-05, 1.1135625946057225e-05], l_loss = 0.0002915583609137684, r_loss = 0.0025055892765522003, i_mse = 0.001006344798952341, c_mse = 2.751682222879026e-05, d_mse = 0.005678990855813026\n",
            "epoch = 1.8e+03, loss = 2.3e-01, B1 = 6.7e-04, B2 = 1.9e+01, lr = [1.0860005319123904e-08, 1.086000531912391e-05, 1.086000531912391e-05], l_loss = 0.0002915583609137684, r_loss = 0.0025055892765522003, i_mse = 0.001006344798952341, c_mse = 2.751680585788563e-05, d_mse = 0.005678990855813026\n",
            "epoch = 1.8e+03, loss = 2.3e-01, B1 = 6.7e-04, B2 = 1.9e+01, lr = [1.0591206646372516e-08, 1.0591206646372522e-05, 1.0591206646372522e-05], l_loss = 0.0002915583609137684, r_loss = 0.0025055892765522003, i_mse = 0.001006344798952341, c_mse = 2.7516809495864436e-05, d_mse = 0.005678990855813026\n",
            "epoch = 1.8e+03, loss = 2.3e-01, B1 = 6.7e-04, B2 = 1.9e+01, lr = [1.0329061075930911e-08, 1.0329061075930916e-05, 1.0329061075930916e-05], l_loss = 0.0002915583609137684, r_loss = 0.0025055892765522003, i_mse = 0.001006344798952341, c_mse = 2.7516809495864436e-05, d_mse = 0.005678990855813026\n",
            "epoch = 1.8e+03, loss = 2.3e-01, B1 = 6.7e-04, B2 = 1.9e+01, lr = [1.0073403935221314e-08, 1.0073403935221316e-05, 1.0073403935221316e-05], l_loss = 0.0002915432269219309, r_loss = 0.0025055892765522003, i_mse = 0.001006344798952341, c_mse = 2.7516869522514753e-05, d_mse = 0.005678989924490452\n",
            "epoch = 1.8e+03, loss = 2.3e-01, B1 = 6.7e-04, B2 = 1.9e+01, lr = [9.824074627517574e-09, 9.824074627517578e-06, 9.824074627517578e-06], l_loss = 0.0002915432269219309, r_loss = 0.0025055892765522003, i_mse = 0.001006344798952341, c_mse = 2.7516869522514753e-05, d_mse = 0.005678989924490452\n",
            "epoch = 1.8e+03, loss = 2.3e-01, B1 = 6.7e-04, B2 = 1.9e+01, lr = [9.580916531062763e-09, 9.580916531062767e-06, 9.580916531062767e-06], l_loss = 0.0002915432269219309, r_loss = 0.0025055892765522003, i_mse = 0.001006344798952341, c_mse = 2.7516869522514753e-05, d_mse = 0.005678989924490452\n",
            "epoch = 1.8e+03, loss = 2.3e-01, B1 = 6.7e-04, B2 = 1.9e+01, lr = [9.34377690068372e-09, 9.343776900683724e-06, 9.343776900683724e-06], l_loss = 0.0002915432269219309, r_loss = 0.0025055892765522003, i_mse = 0.001006344798952341, c_mse = 2.7516869522514753e-05, d_mse = 0.005678989924490452\n",
            "epoch = 1.9e+03, loss = 2.3e-01, B1 = 6.7e-04, B2 = 1.9e+01, lr = [9.112506771840777e-09, 9.11250677184078e-06, 9.11250677184078e-06], l_loss = 0.0002915432269219309, r_loss = 0.0025055892765522003, i_mse = 0.001006344798952341, c_mse = 2.7516869522514753e-05, d_mse = 0.005678989924490452\n",
            "epoch = 1.9e+03, loss = 2.3e-01, B1 = 6.7e-04, B2 = 1.9e+01, lr = [8.88696086705236e-09, 8.886960867052361e-06, 8.886960867052361e-06], l_loss = 0.0002915432269219309, r_loss = 0.0025055892765522003, i_mse = 0.001006344798952341, c_mse = 2.7516869522514753e-05, d_mse = 0.0056789894588291645\n",
            "epoch = 1.9e+03, loss = 2.3e-01, B1 = 6.7e-04, B2 = 1.9e+01, lr = [8.666997504635712e-09, 8.666997504635711e-06, 8.666997504635711e-06], l_loss = 0.0002915432269219309, r_loss = 0.0025055892765522003, i_mse = 0.001006344798952341, c_mse = 2.7516869522514753e-05, d_mse = 0.0056789894588291645\n",
            "epoch = 1.9e+03, loss = 2.3e-01, B1 = 6.7e-04, B2 = 1.9e+01, lr = [8.452478509706381e-09, 8.45247850970638e-06, 8.45247850970638e-06], l_loss = 0.0002915432269219309, r_loss = 0.0025055892765522003, i_mse = 0.001006344798952341, c_mse = 2.7516869522514753e-05, d_mse = 0.0056789894588291645\n",
            "epoch = 1.9e+03, loss = 2.3e-01, B1 = 6.7e-04, B2 = 1.9e+01, lr = [8.243269127380591e-09, 8.24326912738059e-06, 8.24326912738059e-06], l_loss = 0.0002915432269219309, r_loss = 0.0025055892765522003, i_mse = 0.001006344798952341, c_mse = 2.7516869522514753e-05, d_mse = 0.0056789894588291645\n",
            "epoch = 1.9e+03, loss = 2.3e-01, B1 = 6.7e-04, B2 = 1.9e+01, lr = [8.039237938125967e-09, 8.03923793812597e-06, 8.03923793812597e-06], l_loss = 0.0002915432269219309, r_loss = 0.002505589509382844, i_mse = 0.001006344798952341, c_mse = 2.7516869522514753e-05, d_mse = 0.0056789894588291645\n",
            "epoch = 1.9e+03, loss = 2.3e-01, B1 = 6.7e-04, B2 = 1.9e+01, lr = [7.840256775207422e-09, 7.840256775207425e-06, 7.840256775207425e-06], l_loss = 0.0002915432269219309, r_loss = 0.002505589509382844, i_mse = 0.001006344798952341, c_mse = 2.7516869522514753e-05, d_mse = 0.0056789894588291645\n",
            "epoch = 1.9e+03, loss = 2.3e-01, B1 = 6.7e-04, B2 = 1.9e+01, lr = [7.64620064417637e-09, 7.646200644176373e-06, 7.646200644176373e-06], l_loss = 0.0002915432269219309, r_loss = 0.002505589509382844, i_mse = 0.001006344798952341, c_mse = 2.7516869522514753e-05, d_mse = 0.0056789894588291645\n",
            "epoch = 1.9e+03, loss = 2.3e-01, B1 = 6.7e-04, B2 = 1.9e+01, lr = [7.456947644352683e-09, 7.456947644352684e-06, 7.456947644352684e-06], l_loss = 0.0002915432269219309, r_loss = 0.002505589509382844, i_mse = 0.001006344798952341, c_mse = 2.7516869522514753e-05, d_mse = 0.0056789894588291645\n",
            "epoch = 1.9e+03, loss = 2.3e-01, B1 = 6.7e-04, B2 = 1.9e+01, lr = [7.272378892250058e-09, 7.272378892250059e-06, 7.272378892250059e-06], l_loss = 0.0002915432269219309, r_loss = 0.002505589509382844, i_mse = 0.001006344798952341, c_mse = 2.7516869522514753e-05, d_mse = 0.0056789894588291645\n",
            "epoch = 1.9e+03, loss = 2.3e-01, B1 = 6.7e-04, B2 = 1.9e+01, lr = [7.092378446896711e-09, 7.092378446896712e-06, 7.092378446896712e-06], l_loss = 0.0002915432269219309, r_loss = 0.002505589509382844, i_mse = 0.001006344798952341, c_mse = 2.7516869522514753e-05, d_mse = 0.0056789894588291645\n",
            "epoch = 1.9e+03, loss = 2.3e-01, B1 = 6.7e-04, B2 = 1.9e+01, lr = [6.916833237004478e-09, 6.916833237004479e-06, 6.916833237004479e-06], l_loss = 0.0002915432269219309, r_loss = 0.002505589509382844, i_mse = 0.001006344798952341, c_mse = 2.7516869522514753e-05, d_mse = 0.0056789894588291645\n",
            "epoch = 1.9e+03, loss = 2.3e-01, B1 = 6.7e-04, B2 = 1.9e+01, lr = [6.74563298994056e-09, 6.74563298994056e-06, 6.74563298994056e-06], l_loss = 0.0002915432269219309, r_loss = 0.002505589509382844, i_mse = 0.001006344798952341, c_mse = 2.7516869522514753e-05, d_mse = 0.0056789894588291645\n",
            "epoch = 1.9e+03, loss = 2.3e-01, B1 = 6.7e-04, B2 = 1.9e+01, lr = [6.5786701624573165e-09, 6.578670162457317e-06, 6.578670162457317e-06], l_loss = 0.0002915432269219309, r_loss = 0.002505589509382844, i_mse = 0.001006344798952341, c_mse = 2.7516869522514753e-05, d_mse = 0.0056789894588291645\n",
            "epoch = 1.9e+03, loss = 2.3e-01, B1 = 6.7e-04, B2 = 1.9e+01, lr = [6.415839873136581e-09, 6.415839873136581e-06, 6.415839873136581e-06], l_loss = 0.0002915432269219309, r_loss = 0.002505589509382844, i_mse = 0.001006344798952341, c_mse = 2.7516869522514753e-05, d_mse = 0.0056789894588291645\n",
            "epoch = 1.9e+03, loss = 2.3e-01, B1 = 6.7e-04, B2 = 1.9e+01, lr = [6.2570398365060584e-09, 6.25703983650606e-06, 6.25703983650606e-06], l_loss = 0.0002915432269219309, r_loss = 0.002505589509382844, i_mse = 0.001006344798952341, c_mse = 2.7516869522514753e-05, d_mse = 0.0056789894588291645\n",
            "epoch = 1.9e+03, loss = 2.3e-01, B1 = 6.7e-04, B2 = 1.9e+01, lr = [6.102170298786434e-09, 6.102170298786435e-06, 6.102170298786435e-06], l_loss = 0.0002915432269219309, r_loss = 0.002505589509382844, i_mse = 0.001006344798952341, c_mse = 2.7516869522514753e-05, d_mse = 0.0056789894588291645\n",
            "epoch = 1.9e+03, loss = 2.3e-01, B1 = 6.7e-04, B2 = 1.9e+01, lr = [5.951133975228809e-09, 5.9511339752288105e-06, 5.9511339752288105e-06], l_loss = 0.0002915432269219309, r_loss = 0.002505589509382844, i_mse = 0.001006344798952341, c_mse = 2.7516869522514753e-05, d_mse = 0.0056789894588291645\n",
            "epoch = 1.9e+03, loss = 2.3e-01, B1 = 6.7e-04, B2 = 1.9e+01, lr = [5.803835989003122e-09, 5.803835989003125e-06, 5.803835989003125e-06], l_loss = 0.0002915432269219309, r_loss = 0.002505589509382844, i_mse = 0.001006344798952341, c_mse = 2.7516869522514753e-05, d_mse = 0.0056789894588291645\n",
            "epoch = 2.0e+03, loss = 2.3e-01, B1 = 6.7e-04, B2 = 1.9e+01, lr = [5.660183811599159e-09, 5.660183811599162e-06, 5.660183811599162e-06], l_loss = 0.0002915413642767817, r_loss = 0.002505589509382844, i_mse = 0.0010063445661216974, c_mse = 2.7516511181602255e-05, d_mse = 0.005678972695022821\n",
            "epoch = 2.0e+03, loss = 2.3e-01, B1 = 6.7e-04, B2 = 1.9e+01, lr = [5.520087204702701e-09, 5.520087204702705e-06, 5.520087204702705e-06], l_loss = 0.0002915413642767817, r_loss = 0.002505589509382844, i_mse = 0.0010063445661216974, c_mse = 2.751650936261285e-05, d_mse = 0.005678972695022821\n",
            "epoch = 2.0e+03, loss = 2.3e-01, B1 = 6.7e-04, B2 = 1.9e+01, lr = [5.383458163510326e-09, 5.38345816351033e-06, 5.38345816351033e-06], l_loss = 0.0002915413642767817, r_loss = 0.002505589509382844, i_mse = 0.0010063445661216974, c_mse = 2.751650936261285e-05, d_mse = 0.005678972695022821\n",
            "epoch = 2.0e+03, loss = 2.3e-01, B1 = 6.7e-04, B2 = 1.9e+01, lr = [5.250210861447224e-09, 5.250210861447229e-06, 5.250210861447229e-06], l_loss = 0.0002915413642767817, r_loss = 0.002505589509382844, i_mse = 0.0010063445661216974, c_mse = 2.751650936261285e-05, d_mse = 0.005678972695022821\n",
            "epoch = 2.0e+03, loss = 2.3e-01, B1 = 6.7e-04, B2 = 1.9e+01, lr = [5.1202615962533304e-09, 5.120261596253336e-06, 5.120261596253336e-06], l_loss = 0.0002915413642767817, r_loss = 0.002505589509382844, i_mse = 0.0010063445661216974, c_mse = 2.751650936261285e-05, d_mse = 0.005678972695022821\n",
            "epoch = 2.0e+03, loss = 2.3e-01, B1 = 6.7e-04, B2 = 1.9e+01, lr = [4.993528737403882e-09, 4.993528737403887e-06, 4.993528737403887e-06], l_loss = 0.0002915413642767817, r_loss = 0.002505589509382844, i_mse = 0.0010063445661216974, c_mse = 2.751650936261285e-05, d_mse = 0.005678972695022821\n",
            "epoch = 2.0e+03, loss = 2.3e-01, B1 = 6.7e-04, B2 = 1.9e+01, lr = [4.869932674831386e-09, 4.869932674831393e-06, 4.869932674831393e-06], l_loss = 0.0002915413642767817, r_loss = 0.002505589509382844, i_mse = 0.0010063445661216974, c_mse = 2.751650936261285e-05, d_mse = 0.005678972695022821\n",
            "epoch = 2.0e+03, loss = 2.3e-01, B1 = 6.7e-04, B2 = 1.9e+01, lr = [4.749395768916787e-09, 4.749395768916793e-06, 4.749395768916793e-06], l_loss = 0.0002915410732384771, r_loss = 0.002505590207874775, i_mse = 0.001006344915367663, c_mse = 2.751649844867643e-05, d_mse = 0.0056789712980389595\n",
            "epoch = 2.0e+03, loss = 2.3e-01, B1 = 6.7e-04, B2 = 1.9e+01, lr = [4.631842301718405e-09, 4.631842301718412e-06, 4.631842301718412e-06], l_loss = 0.0002915410732384771, r_loss = 0.002505590207874775, i_mse = 0.001006344915367663, c_mse = 2.751649844867643e-05, d_mse = 0.0056789712980389595\n",
            "epoch = 2.0e+03, loss = 2.3e-01, B1 = 6.7e-04, B2 = 1.9e+01, lr = [4.517198429408029e-09, 4.517198429408037e-06, 4.517198429408037e-06], l_loss = 0.0002915410732384771, r_loss = 0.002505590207874775, i_mse = 0.001006344915367663, c_mse = 2.751649844867643e-05, d_mse = 0.0056789712980389595\n"
          ]
        }
      ]
    },
    {
      "cell_type": "code",
      "source": [
        ""
      ],
      "metadata": {
        "id": "hy6lL4cx1H85"
      },
      "execution_count": 15,
      "outputs": []
    }
  ]
}