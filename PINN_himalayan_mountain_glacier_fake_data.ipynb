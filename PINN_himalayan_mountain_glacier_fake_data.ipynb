{
  "nbformat": 4,
  "nbformat_minor": 0,
  "metadata": {
    "colab": {
      "name": "PINN_himalayan_mountain_glacier_fake_data",
      "provenance": [],
      "authorship_tag": "ABX9TyMV9TOMDy6usjKqk25NaJvd",
      "include_colab_link": true
    },
    "kernelspec": {
      "name": "python3",
      "display_name": "Python 3"
    },
    "language_info": {
      "name": "python"
    },
    "accelerator": "TPU"
  },
  "cells": [
    {
      "cell_type": "markdown",
      "metadata": {
        "id": "view-in-github",
        "colab_type": "text"
      },
      "source": [
        "<a href=\"https://colab.research.google.com/github/Shreyas911/PINN/blob/main/PINN_himalayan_mountain_glacier_fake_data.ipynb\" target=\"_parent\"><img src=\"https://colab.research.google.com/assets/colab-badge.svg\" alt=\"Open In Colab\"/></a>"
      ]
    },
    {
      "cell_type": "code",
      "execution_count": 1,
      "metadata": {
        "colab": {
          "base_uri": "https://localhost:8080/"
        },
        "id": "Aanahw4ZYI8l",
        "outputId": "3ba98036-7699-4c21-82d4-983d366a64e6"
      },
      "outputs": [
        {
          "output_type": "stream",
          "name": "stdout",
          "text": [
            "Collecting torch-xla==1.9\n",
            "  Downloading https://storage.googleapis.com/tpu-pytorch/wheels/torch_xla-1.9-cp37-cp37m-linux_x86_64.whl (149.9 MB)\n",
            "\u001b[K     |████████████████████████████████| 149.9 MB 26 kB/s \n",
            "\u001b[?25hCollecting cloud-tpu-client==0.10\n",
            "  Downloading cloud_tpu_client-0.10-py3-none-any.whl (7.4 kB)\n",
            "Requirement already satisfied: oauth2client in /usr/local/lib/python3.7/dist-packages (from cloud-tpu-client==0.10) (4.1.3)\n",
            "Collecting google-api-python-client==1.8.0\n",
            "  Downloading google_api_python_client-1.8.0-py3-none-any.whl (57 kB)\n",
            "\u001b[K     |████████████████████████████████| 57 kB 2.7 MB/s \n",
            "\u001b[?25hRequirement already satisfied: google-api-core<2dev,>=1.13.0 in /usr/local/lib/python3.7/dist-packages (from google-api-python-client==1.8.0->cloud-tpu-client==0.10) (1.26.3)\n",
            "Requirement already satisfied: httplib2<1dev,>=0.9.2 in /usr/local/lib/python3.7/dist-packages (from google-api-python-client==1.8.0->cloud-tpu-client==0.10) (0.17.4)\n",
            "Requirement already satisfied: six<2dev,>=1.6.1 in /usr/local/lib/python3.7/dist-packages (from google-api-python-client==1.8.0->cloud-tpu-client==0.10) (1.15.0)\n",
            "Requirement already satisfied: google-auth-httplib2>=0.0.3 in /usr/local/lib/python3.7/dist-packages (from google-api-python-client==1.8.0->cloud-tpu-client==0.10) (0.0.4)\n",
            "Requirement already satisfied: google-auth>=1.4.1 in /usr/local/lib/python3.7/dist-packages (from google-api-python-client==1.8.0->cloud-tpu-client==0.10) (1.35.0)\n",
            "Requirement already satisfied: uritemplate<4dev,>=3.0.0 in /usr/local/lib/python3.7/dist-packages (from google-api-python-client==1.8.0->cloud-tpu-client==0.10) (3.0.1)\n",
            "Requirement already satisfied: googleapis-common-protos<2.0dev,>=1.6.0 in /usr/local/lib/python3.7/dist-packages (from google-api-core<2dev,>=1.13.0->google-api-python-client==1.8.0->cloud-tpu-client==0.10) (1.54.0)\n",
            "Requirement already satisfied: requests<3.0.0dev,>=2.18.0 in /usr/local/lib/python3.7/dist-packages (from google-api-core<2dev,>=1.13.0->google-api-python-client==1.8.0->cloud-tpu-client==0.10) (2.23.0)\n",
            "Requirement already satisfied: pytz in /usr/local/lib/python3.7/dist-packages (from google-api-core<2dev,>=1.13.0->google-api-python-client==1.8.0->cloud-tpu-client==0.10) (2018.9)\n",
            "Requirement already satisfied: setuptools>=40.3.0 in /usr/local/lib/python3.7/dist-packages (from google-api-core<2dev,>=1.13.0->google-api-python-client==1.8.0->cloud-tpu-client==0.10) (57.4.0)\n",
            "Requirement already satisfied: packaging>=14.3 in /usr/local/lib/python3.7/dist-packages (from google-api-core<2dev,>=1.13.0->google-api-python-client==1.8.0->cloud-tpu-client==0.10) (21.3)\n",
            "Requirement already satisfied: protobuf>=3.12.0 in /usr/local/lib/python3.7/dist-packages (from google-api-core<2dev,>=1.13.0->google-api-python-client==1.8.0->cloud-tpu-client==0.10) (3.17.3)\n",
            "Requirement already satisfied: rsa<5,>=3.1.4 in /usr/local/lib/python3.7/dist-packages (from google-auth>=1.4.1->google-api-python-client==1.8.0->cloud-tpu-client==0.10) (4.8)\n",
            "Requirement already satisfied: pyasn1-modules>=0.2.1 in /usr/local/lib/python3.7/dist-packages (from google-auth>=1.4.1->google-api-python-client==1.8.0->cloud-tpu-client==0.10) (0.2.8)\n",
            "Requirement already satisfied: cachetools<5.0,>=2.0.0 in /usr/local/lib/python3.7/dist-packages (from google-auth>=1.4.1->google-api-python-client==1.8.0->cloud-tpu-client==0.10) (4.2.4)\n",
            "Requirement already satisfied: pyparsing!=3.0.5,>=2.0.2 in /usr/local/lib/python3.7/dist-packages (from packaging>=14.3->google-api-core<2dev,>=1.13.0->google-api-python-client==1.8.0->cloud-tpu-client==0.10) (3.0.6)\n",
            "Requirement already satisfied: pyasn1<0.5.0,>=0.4.6 in /usr/local/lib/python3.7/dist-packages (from pyasn1-modules>=0.2.1->google-auth>=1.4.1->google-api-python-client==1.8.0->cloud-tpu-client==0.10) (0.4.8)\n",
            "Requirement already satisfied: certifi>=2017.4.17 in /usr/local/lib/python3.7/dist-packages (from requests<3.0.0dev,>=2.18.0->google-api-core<2dev,>=1.13.0->google-api-python-client==1.8.0->cloud-tpu-client==0.10) (2021.10.8)\n",
            "Requirement already satisfied: idna<3,>=2.5 in /usr/local/lib/python3.7/dist-packages (from requests<3.0.0dev,>=2.18.0->google-api-core<2dev,>=1.13.0->google-api-python-client==1.8.0->cloud-tpu-client==0.10) (2.10)\n",
            "Requirement already satisfied: urllib3!=1.25.0,!=1.25.1,<1.26,>=1.21.1 in /usr/local/lib/python3.7/dist-packages (from requests<3.0.0dev,>=2.18.0->google-api-core<2dev,>=1.13.0->google-api-python-client==1.8.0->cloud-tpu-client==0.10) (1.24.3)\n",
            "Requirement already satisfied: chardet<4,>=3.0.2 in /usr/local/lib/python3.7/dist-packages (from requests<3.0.0dev,>=2.18.0->google-api-core<2dev,>=1.13.0->google-api-python-client==1.8.0->cloud-tpu-client==0.10) (3.0.4)\n",
            "Installing collected packages: google-api-python-client, torch-xla, cloud-tpu-client\n",
            "  Attempting uninstall: google-api-python-client\n",
            "    Found existing installation: google-api-python-client 1.12.8\n",
            "    Uninstalling google-api-python-client-1.12.8:\n",
            "      Successfully uninstalled google-api-python-client-1.12.8\n",
            "\u001b[31mERROR: pip's dependency resolver does not currently take into account all the packages that are installed. This behaviour is the source of the following dependency conflicts.\n",
            "earthengine-api 0.1.293 requires google-api-python-client<2,>=1.12.1, but you have google-api-python-client 1.8.0 which is incompatible.\u001b[0m\n",
            "Successfully installed cloud-tpu-client-0.10 google-api-python-client-1.8.0 torch-xla-1.9\n",
            "Looking in links: https://download.pytorch.org/whl/cu111/torch_stable.html\n",
            "Collecting torch==1.9.0+cu111\n",
            "  Downloading https://download.pytorch.org/whl/cu111/torch-1.9.0%2Bcu111-cp37-cp37m-linux_x86_64.whl (2041.3 MB)\n",
            "\u001b[K     |█████████████                   | 834.1 MB 1.5 MB/s eta 0:13:38tcmalloc: large alloc 1147494400 bytes == 0x557621816000 @  0x7fd722160615 0x5575e8cae4cc 0x5575e8d8e47a 0x5575e8cb12ed 0x5575e8da2e1d 0x5575e8d24e99 0x5575e8d1f9ee 0x5575e8cb2bda 0x5575e8d24d00 0x5575e8d1f9ee 0x5575e8cb2bda 0x5575e8d21737 0x5575e8da3c66 0x5575e8d20daf 0x5575e8da3c66 0x5575e8d20daf 0x5575e8da3c66 0x5575e8d20daf 0x5575e8cb3039 0x5575e8cf6409 0x5575e8cb1c52 0x5575e8d24c25 0x5575e8d1f9ee 0x5575e8cb2bda 0x5575e8d21737 0x5575e8d1f9ee 0x5575e8cb2bda 0x5575e8d20915 0x5575e8cb2afa 0x5575e8d20c0d 0x5575e8d1f9ee\n",
            "\u001b[K     |████████████████▌               | 1055.7 MB 1.6 MB/s eta 0:10:27tcmalloc: large alloc 1434370048 bytes == 0x557665e6c000 @  0x7fd722160615 0x5575e8cae4cc 0x5575e8d8e47a 0x5575e8cb12ed 0x5575e8da2e1d 0x5575e8d24e99 0x5575e8d1f9ee 0x5575e8cb2bda 0x5575e8d24d00 0x5575e8d1f9ee 0x5575e8cb2bda 0x5575e8d21737 0x5575e8da3c66 0x5575e8d20daf 0x5575e8da3c66 0x5575e8d20daf 0x5575e8da3c66 0x5575e8d20daf 0x5575e8cb3039 0x5575e8cf6409 0x5575e8cb1c52 0x5575e8d24c25 0x5575e8d1f9ee 0x5575e8cb2bda 0x5575e8d21737 0x5575e8d1f9ee 0x5575e8cb2bda 0x5575e8d20915 0x5575e8cb2afa 0x5575e8d20c0d 0x5575e8d1f9ee\n",
            "\u001b[K     |█████████████████████           | 1336.2 MB 1.4 MB/s eta 0:08:38tcmalloc: large alloc 1792966656 bytes == 0x5575eac9e000 @  0x7fd722160615 0x5575e8cae4cc 0x5575e8d8e47a 0x5575e8cb12ed 0x5575e8da2e1d 0x5575e8d24e99 0x5575e8d1f9ee 0x5575e8cb2bda 0x5575e8d24d00 0x5575e8d1f9ee 0x5575e8cb2bda 0x5575e8d21737 0x5575e8da3c66 0x5575e8d20daf 0x5575e8da3c66 0x5575e8d20daf 0x5575e8da3c66 0x5575e8d20daf 0x5575e8cb3039 0x5575e8cf6409 0x5575e8cb1c52 0x5575e8d24c25 0x5575e8d1f9ee 0x5575e8cb2bda 0x5575e8d21737 0x5575e8d1f9ee 0x5575e8cb2bda 0x5575e8d20915 0x5575e8cb2afa 0x5575e8d20c0d 0x5575e8d1f9ee\n",
            "\u001b[K     |██████████████████████████▌     | 1691.1 MB 1.4 MB/s eta 0:04:10tcmalloc: large alloc 2241208320 bytes == 0x557655a86000 @  0x7fd722160615 0x5575e8cae4cc 0x5575e8d8e47a 0x5575e8cb12ed 0x5575e8da2e1d 0x5575e8d24e99 0x5575e8d1f9ee 0x5575e8cb2bda 0x5575e8d24d00 0x5575e8d1f9ee 0x5575e8cb2bda 0x5575e8d21737 0x5575e8da3c66 0x5575e8d20daf 0x5575e8da3c66 0x5575e8d20daf 0x5575e8da3c66 0x5575e8d20daf 0x5575e8cb3039 0x5575e8cf6409 0x5575e8cb1c52 0x5575e8d24c25 0x5575e8d1f9ee 0x5575e8cb2bda 0x5575e8d21737 0x5575e8d1f9ee 0x5575e8cb2bda 0x5575e8d20915 0x5575e8cb2afa 0x5575e8d20c0d 0x5575e8d1f9ee\n",
            "\u001b[K     |████████████████████████████████| 2041.3 MB 1.3 MB/s eta 0:00:01tcmalloc: large alloc 2041348096 bytes == 0x5576db3e8000 @  0x7fd72215f1e7 0x5575e8ce4067 0x5575e8cae4cc 0x5575e8d8e47a 0x5575e8cb12ed 0x5575e8da2e1d 0x5575e8d24e99 0x5575e8d1f9ee 0x5575e8cb2bda 0x5575e8d20c0d 0x5575e8d1f9ee 0x5575e8cb2bda 0x5575e8d20c0d 0x5575e8d1f9ee 0x5575e8cb2bda 0x5575e8d20c0d 0x5575e8d1f9ee 0x5575e8cb2bda 0x5575e8d20c0d 0x5575e8d1f9ee 0x5575e8cb2bda 0x5575e8d20c0d 0x5575e8cb2afa 0x5575e8d20c0d 0x5575e8d1f9ee 0x5575e8cb2bda 0x5575e8d21737 0x5575e8d1f9ee 0x5575e8cb2bda 0x5575e8d21737 0x5575e8d1f9ee\n",
            "tcmalloc: large alloc 2551685120 bytes == 0x5577c935a000 @  0x7fd722160615 0x5575e8cae4cc 0x5575e8d8e47a 0x5575e8cb12ed 0x5575e8da2e1d 0x5575e8d24e99 0x5575e8d1f9ee 0x5575e8cb2bda 0x5575e8d20c0d 0x5575e8d1f9ee 0x5575e8cb2bda 0x5575e8d20c0d 0x5575e8d1f9ee 0x5575e8cb2bda 0x5575e8d20c0d 0x5575e8d1f9ee 0x5575e8cb2bda 0x5575e8d20c0d 0x5575e8d1f9ee 0x5575e8cb2bda 0x5575e8d20c0d 0x5575e8cb2afa 0x5575e8d20c0d 0x5575e8d1f9ee 0x5575e8cb2bda 0x5575e8d21737 0x5575e8d1f9ee 0x5575e8cb2bda 0x5575e8d21737 0x5575e8d1f9ee 0x5575e8cb3271\n",
            "\u001b[K     |████████████████████████████████| 2041.3 MB 2.9 kB/s \n",
            "\u001b[?25hCollecting torchvision==0.10.0+cu111\n",
            "  Downloading https://download.pytorch.org/whl/cu111/torchvision-0.10.0%2Bcu111-cp37-cp37m-linux_x86_64.whl (23.2 MB)\n",
            "\u001b[K     |████████████████████████████████| 23.2 MB 1.2 MB/s \n",
            "\u001b[?25hCollecting torchtext==0.10.0\n",
            "  Downloading torchtext-0.10.0-cp37-cp37m-manylinux1_x86_64.whl (7.6 MB)\n",
            "\u001b[K     |████████████████████████████████| 7.6 MB 4.5 MB/s \n",
            "\u001b[?25hRequirement already satisfied: typing-extensions in /usr/local/lib/python3.7/dist-packages (from torch==1.9.0+cu111) (3.10.0.2)\n",
            "Requirement already satisfied: pillow>=5.3.0 in /usr/local/lib/python3.7/dist-packages (from torchvision==0.10.0+cu111) (7.1.2)\n",
            "Requirement already satisfied: numpy in /usr/local/lib/python3.7/dist-packages (from torchvision==0.10.0+cu111) (1.19.5)\n",
            "Requirement already satisfied: tqdm in /usr/local/lib/python3.7/dist-packages (from torchtext==0.10.0) (4.62.3)\n",
            "Requirement already satisfied: requests in /usr/local/lib/python3.7/dist-packages (from torchtext==0.10.0) (2.23.0)\n",
            "Requirement already satisfied: certifi>=2017.4.17 in /usr/local/lib/python3.7/dist-packages (from requests->torchtext==0.10.0) (2021.10.8)\n",
            "Requirement already satisfied: idna<3,>=2.5 in /usr/local/lib/python3.7/dist-packages (from requests->torchtext==0.10.0) (2.10)\n",
            "Requirement already satisfied: chardet<4,>=3.0.2 in /usr/local/lib/python3.7/dist-packages (from requests->torchtext==0.10.0) (3.0.4)\n",
            "Requirement already satisfied: urllib3!=1.25.0,!=1.25.1,<1.26,>=1.21.1 in /usr/local/lib/python3.7/dist-packages (from requests->torchtext==0.10.0) (1.24.3)\n",
            "Installing collected packages: torch, torchvision, torchtext\n",
            "  Attempting uninstall: torch\n",
            "    Found existing installation: torch 1.10.0+cu111\n",
            "    Uninstalling torch-1.10.0+cu111:\n",
            "      Successfully uninstalled torch-1.10.0+cu111\n",
            "  Attempting uninstall: torchvision\n",
            "    Found existing installation: torchvision 0.11.1+cu111\n",
            "    Uninstalling torchvision-0.11.1+cu111:\n",
            "      Successfully uninstalled torchvision-0.11.1+cu111\n",
            "  Attempting uninstall: torchtext\n",
            "    Found existing installation: torchtext 0.11.0\n",
            "    Uninstalling torchtext-0.11.0:\n",
            "      Successfully uninstalled torchtext-0.11.0\n",
            "\u001b[31mERROR: pip's dependency resolver does not currently take into account all the packages that are installed. This behaviour is the source of the following dependency conflicts.\n",
            "torchaudio 0.10.0+cu111 requires torch==1.10.0, but you have torch 1.9.0+cu111 which is incompatible.\u001b[0m\n",
            "Successfully installed torch-1.9.0+cu111 torchtext-0.10.0 torchvision-0.10.0+cu111\n"
          ]
        },
        {
          "output_type": "stream",
          "name": "stderr",
          "text": [
            "WARNING:root:Waiting for TPU to be start up with version pytorch-1.9...\n",
            "WARNING:root:Waiting for TPU to be start up with version pytorch-1.9...\n",
            "WARNING:root:TPU has started up successfully with version pytorch-1.9\n"
          ]
        }
      ],
      "source": [
        "#!pip install cloud-tpu-client==0.10 https://storage.googleapis.com/tpu-pytorch/wheels/torch_xla-1.9-cp37-cp37m-linux_x86_64.whl\n",
        "!pip install cloud-tpu-client==0.10 https://storage.googleapis.com/tpu-pytorch/wheels/torch_xla-1.9-cp37-cp37m-linux_x86_64.whl\n",
        "!pip install torch==1.9.0+cu111 torchvision==0.10.0+cu111 torchtext==0.10.0 -f https://download.pytorch.org/whl/cu111/torch_stable.html\n",
        "\n",
        "### Import the required libraries\n",
        "import numpy as np\n",
        "import matplotlib.pyplot as plt \n",
        "from mpl_toolkits.axes_grid1 import make_axes_locatable\n",
        "import torch\n",
        "import torch.nn as nn\n",
        "import torch.nn.functional as F\n",
        "import torch_xla ## Specially for TPUs\n",
        "import torch_xla.core.xla_model as xm ## Specially for TPUs"
      ]
    },
    {
      "cell_type": "markdown",
      "source": [
        "## Specify the device\n",
        "\n",
        "We now specify the device type. There are two options to leverge the power of parallel computing. We can either use GPUs or TPUs. In this case, we use TPUs. "
      ],
      "metadata": {
        "id": "GU0EYLjwYulD"
      }
    },
    {
      "cell_type": "code",
      "source": [
        "### GPU ###\n",
        "#device = torch.device('cuda' if torch.cuda.is_available() else 'cpu')\n",
        "#torch.cuda.empty_cache()\n",
        "###########\n",
        "\n",
        "### TPU ###\n",
        "device = xm.xla_device()\n",
        "###########\n",
        "\n",
        "device"
      ],
      "metadata": {
        "id": "iqyUUcPIYYPy"
      },
      "execution_count": null,
      "outputs": []
    },
    {
      "cell_type": "code",
      "source": [
        "class physics_informed_NN(nn.Module):\n",
        "    \n",
        "    def __init__ (self):\n",
        "\n",
        "        super(physics_informed_NN, self).__init__()\n",
        "        ### 3 inputs - x, z, t\n",
        "        self.fc1 = nn.Linear(3, 200)\n",
        "        self.fc2 = nn.Linear(200, 200)\n",
        "        self.fc3 = nn.Linear(200, 200)\n",
        "        self.fc4 = nn.Linear(200, 200)\n",
        "        self.fc5 = nn.Linear(200, 200)\n",
        "        self.fc6 = nn.Linear(200, 200)\n",
        "        self.fc7 = nn.Linear(200, 200)\n",
        "        self.fc8 = nn.Linear(200, 1)\n",
        "\n",
        "    def forward(self, x):\n",
        "        x = torch.tanh(self.fc1(x))\n",
        "        x = torch.relu(self.fc2(x))\n",
        "        x = torch.tanh(self.fc3(x))\n",
        "        x = torch.tanh(self.fc4(x))\n",
        "        x = torch.tanh(self.fc5(x))\n",
        "        x = torch.relu(self.fc6(x))\n",
        "        x = torch.tanh(self.fc7(x))\n",
        "        x = self.fc8(x)\n",
        "        return x\n",
        "\n",
        "physics_informed_NN"
      ],
      "metadata": {
        "id": "HEzG0rSjY-IT"
      },
      "execution_count": null,
      "outputs": []
    }
  ]
}